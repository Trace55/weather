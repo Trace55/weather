{
 "cells": [
  {
   "cell_type": "code",
   "execution_count": 23,
   "metadata": {},
   "outputs": [],
   "source": [
    "# get data from metro across iowa"
   ]
  },
  {
   "cell_type": "code",
   "execution_count": 25,
   "metadata": {},
   "outputs": [
    {
     "name": "stdout",
     "output_type": "stream",
     "text": [
      "Generated 749 points.\n"
     ]
    }
   ],
   "source": [
    "import pandas as pd\n",
    "import plotly.express as px\n",
    "from geopy.distance import geodesic\n",
    "import csv\n",
    "from datetime import datetime\n",
    "from meteostat import Point, Daily, Monthly, Stations\n",
    "\n",
    "# Import Meteostat library\n",
    "from meteostat import Stations\n",
    "\n",
    "# Approximate bounding box for Iowa\n",
    "MIN_LAT = 40.3754\n",
    "MAX_LAT = 43.5012\n",
    "MIN_LON = -96.6395\n",
    "MAX_LON = -90.1401\n",
    "\n",
    "# Grid spacing (in miles)\n",
    "SPACING_MILES = 10\n",
    "\n",
    "# Function to move north/south or east/west by a set distance\n",
    "def move(start, bearing_deg, miles):\n",
    "    return geodesic(miles=miles).destination(start, bearing_deg)\n",
    "\n",
    "# Generate the grid\n",
    "points = []\n",
    "lat = MIN_LAT\n",
    "\n",
    "while lat <= MAX_LAT:\n",
    "    lon = MIN_LON\n",
    "    while lon <= MAX_LON:\n",
    "        points.append((lat, lon))\n",
    "        # Move east by SPACING_MILES\n",
    "        lon = move((lat, lon), 90, SPACING_MILES).longitude\n",
    "    # Move north by SPACING_MILES\n",
    "    lat = move((lat, MIN_LON), 0, SPACING_MILES).latitude\n",
    "\n",
    "# Save to CSV (optional)\n",
    "with open(\"iowa_grid_10mi.csv\", \"w\", newline=\"\") as f:\n",
    "    writer = csv.writer(f)\n",
    "    writer.writerow([\"Latitude\", \"Longitude\"])\n",
    "    writer.writerows(points)\n",
    "\n",
    "print(f\"Generated {len(points)} points.\")\n"
   ]
  },
  {
   "cell_type": "code",
   "execution_count": 27,
   "metadata": {},
   "outputs": [
    {
     "name": "stderr",
     "output_type": "stream",
     "text": [
      "DeprecationWarning: *scatter_mapbox* is deprecated! Use *scatter_map* instead. Learn more at: https://plotly.com/python/mapbox-to-maplibre/\n"
     ]
    },
    {
     "data": {
      "application/vnd.plotly.v1+json": {
       "config": {
        "plotlyServerURL": "https://plot.ly"
       },
       "data": [
        {
         "hovertemplate": "lat=%{lat}<br>lon=%{lon}<extra></extra>",
         "lat": {
          "bdata": "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",
          "dtype": "f8"
         },
         "legendgroup": "",
         "lon": {
          "bdata": "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",
          "dtype": "f8"
         },
         "marker": {
          "color": "#636efa"
         },
         "mode": "markers",
         "name": "",
         "showlegend": false,
         "subplot": "mapbox",
         "type": "scattermapbox"
        }
       ],
       "layout": {
        "legend": {
         "tracegroupgap": 0
        },
        "mapbox": {
         "center": {
          "lat": 41.88171771332957,
          "lon": -93.43450456960281
         },
         "domain": {
          "x": [
           0,
           1
          ],
          "y": [
           0,
           1
          ]
         },
         "style": "carto-positron",
         "zoom": 8
        },
        "margin": {
         "t": 60
        },
        "template": {
         "data": {
          "bar": [
           {
            "error_x": {
             "color": "#2a3f5f"
            },
            "error_y": {
             "color": "#2a3f5f"
            },
            "marker": {
             "line": {
              "color": "#E5ECF6",
              "width": 0.5
             },
             "pattern": {
              "fillmode": "overlay",
              "size": 10,
              "solidity": 0.2
             }
            },
            "type": "bar"
           }
          ],
          "barpolar": [
           {
            "marker": {
             "line": {
              "color": "#E5ECF6",
              "width": 0.5
             },
             "pattern": {
              "fillmode": "overlay",
              "size": 10,
              "solidity": 0.2
             }
            },
            "type": "barpolar"
           }
          ],
          "carpet": [
           {
            "aaxis": {
             "endlinecolor": "#2a3f5f",
             "gridcolor": "white",
             "linecolor": "white",
             "minorgridcolor": "white",
             "startlinecolor": "#2a3f5f"
            },
            "baxis": {
             "endlinecolor": "#2a3f5f",
             "gridcolor": "white",
             "linecolor": "white",
             "minorgridcolor": "white",
             "startlinecolor": "#2a3f5f"
            },
            "type": "carpet"
           }
          ],
          "choropleth": [
           {
            "colorbar": {
             "outlinewidth": 0,
             "ticks": ""
            },
            "type": "choropleth"
           }
          ],
          "contour": [
           {
            "colorbar": {
             "outlinewidth": 0,
             "ticks": ""
            },
            "colorscale": [
             [
              0,
              "#0d0887"
             ],
             [
              0.1111111111111111,
              "#46039f"
             ],
             [
              0.2222222222222222,
              "#7201a8"
             ],
             [
              0.3333333333333333,
              "#9c179e"
             ],
             [
              0.4444444444444444,
              "#bd3786"
             ],
             [
              0.5555555555555556,
              "#d8576b"
             ],
             [
              0.6666666666666666,
              "#ed7953"
             ],
             [
              0.7777777777777778,
              "#fb9f3a"
             ],
             [
              0.8888888888888888,
              "#fdca26"
             ],
             [
              1,
              "#f0f921"
             ]
            ],
            "type": "contour"
           }
          ],
          "contourcarpet": [
           {
            "colorbar": {
             "outlinewidth": 0,
             "ticks": ""
            },
            "type": "contourcarpet"
           }
          ],
          "heatmap": [
           {
            "colorbar": {
             "outlinewidth": 0,
             "ticks": ""
            },
            "colorscale": [
             [
              0,
              "#0d0887"
             ],
             [
              0.1111111111111111,
              "#46039f"
             ],
             [
              0.2222222222222222,
              "#7201a8"
             ],
             [
              0.3333333333333333,
              "#9c179e"
             ],
             [
              0.4444444444444444,
              "#bd3786"
             ],
             [
              0.5555555555555556,
              "#d8576b"
             ],
             [
              0.6666666666666666,
              "#ed7953"
             ],
             [
              0.7777777777777778,
              "#fb9f3a"
             ],
             [
              0.8888888888888888,
              "#fdca26"
             ],
             [
              1,
              "#f0f921"
             ]
            ],
            "type": "heatmap"
           }
          ],
          "histogram": [
           {
            "marker": {
             "pattern": {
              "fillmode": "overlay",
              "size": 10,
              "solidity": 0.2
             }
            },
            "type": "histogram"
           }
          ],
          "histogram2d": [
           {
            "colorbar": {
             "outlinewidth": 0,
             "ticks": ""
            },
            "colorscale": [
             [
              0,
              "#0d0887"
             ],
             [
              0.1111111111111111,
              "#46039f"
             ],
             [
              0.2222222222222222,
              "#7201a8"
             ],
             [
              0.3333333333333333,
              "#9c179e"
             ],
             [
              0.4444444444444444,
              "#bd3786"
             ],
             [
              0.5555555555555556,
              "#d8576b"
             ],
             [
              0.6666666666666666,
              "#ed7953"
             ],
             [
              0.7777777777777778,
              "#fb9f3a"
             ],
             [
              0.8888888888888888,
              "#fdca26"
             ],
             [
              1,
              "#f0f921"
             ]
            ],
            "type": "histogram2d"
           }
          ],
          "histogram2dcontour": [
           {
            "colorbar": {
             "outlinewidth": 0,
             "ticks": ""
            },
            "colorscale": [
             [
              0,
              "#0d0887"
             ],
             [
              0.1111111111111111,
              "#46039f"
             ],
             [
              0.2222222222222222,
              "#7201a8"
             ],
             [
              0.3333333333333333,
              "#9c179e"
             ],
             [
              0.4444444444444444,
              "#bd3786"
             ],
             [
              0.5555555555555556,
              "#d8576b"
             ],
             [
              0.6666666666666666,
              "#ed7953"
             ],
             [
              0.7777777777777778,
              "#fb9f3a"
             ],
             [
              0.8888888888888888,
              "#fdca26"
             ],
             [
              1,
              "#f0f921"
             ]
            ],
            "type": "histogram2dcontour"
           }
          ],
          "mesh3d": [
           {
            "colorbar": {
             "outlinewidth": 0,
             "ticks": ""
            },
            "type": "mesh3d"
           }
          ],
          "parcoords": [
           {
            "line": {
             "colorbar": {
              "outlinewidth": 0,
              "ticks": ""
             }
            },
            "type": "parcoords"
           }
          ],
          "pie": [
           {
            "automargin": true,
            "type": "pie"
           }
          ],
          "scatter": [
           {
            "fillpattern": {
             "fillmode": "overlay",
             "size": 10,
             "solidity": 0.2
            },
            "type": "scatter"
           }
          ],
          "scatter3d": [
           {
            "line": {
             "colorbar": {
              "outlinewidth": 0,
              "ticks": ""
             }
            },
            "marker": {
             "colorbar": {
              "outlinewidth": 0,
              "ticks": ""
             }
            },
            "type": "scatter3d"
           }
          ],
          "scattercarpet": [
           {
            "marker": {
             "colorbar": {
              "outlinewidth": 0,
              "ticks": ""
             }
            },
            "type": "scattercarpet"
           }
          ],
          "scattergeo": [
           {
            "marker": {
             "colorbar": {
              "outlinewidth": 0,
              "ticks": ""
             }
            },
            "type": "scattergeo"
           }
          ],
          "scattergl": [
           {
            "marker": {
             "colorbar": {
              "outlinewidth": 0,
              "ticks": ""
             }
            },
            "type": "scattergl"
           }
          ],
          "scattermap": [
           {
            "marker": {
             "colorbar": {
              "outlinewidth": 0,
              "ticks": ""
             }
            },
            "type": "scattermap"
           }
          ],
          "scattermapbox": [
           {
            "marker": {
             "colorbar": {
              "outlinewidth": 0,
              "ticks": ""
             }
            },
            "type": "scattermapbox"
           }
          ],
          "scatterpolar": [
           {
            "marker": {
             "colorbar": {
              "outlinewidth": 0,
              "ticks": ""
             }
            },
            "type": "scatterpolar"
           }
          ],
          "scatterpolargl": [
           {
            "marker": {
             "colorbar": {
              "outlinewidth": 0,
              "ticks": ""
             }
            },
            "type": "scatterpolargl"
           }
          ],
          "scatterternary": [
           {
            "marker": {
             "colorbar": {
              "outlinewidth": 0,
              "ticks": ""
             }
            },
            "type": "scatterternary"
           }
          ],
          "surface": [
           {
            "colorbar": {
             "outlinewidth": 0,
             "ticks": ""
            },
            "colorscale": [
             [
              0,
              "#0d0887"
             ],
             [
              0.1111111111111111,
              "#46039f"
             ],
             [
              0.2222222222222222,
              "#7201a8"
             ],
             [
              0.3333333333333333,
              "#9c179e"
             ],
             [
              0.4444444444444444,
              "#bd3786"
             ],
             [
              0.5555555555555556,
              "#d8576b"
             ],
             [
              0.6666666666666666,
              "#ed7953"
             ],
             [
              0.7777777777777778,
              "#fb9f3a"
             ],
             [
              0.8888888888888888,
              "#fdca26"
             ],
             [
              1,
              "#f0f921"
             ]
            ],
            "type": "surface"
           }
          ],
          "table": [
           {
            "cells": {
             "fill": {
              "color": "#EBF0F8"
             },
             "line": {
              "color": "white"
             }
            },
            "header": {
             "fill": {
              "color": "#C8D4E3"
             },
             "line": {
              "color": "white"
             }
            },
            "type": "table"
           }
          ]
         },
         "layout": {
          "annotationdefaults": {
           "arrowcolor": "#2a3f5f",
           "arrowhead": 0,
           "arrowwidth": 1
          },
          "autotypenumbers": "strict",
          "coloraxis": {
           "colorbar": {
            "outlinewidth": 0,
            "ticks": ""
           }
          },
          "colorscale": {
           "diverging": [
            [
             0,
             "#8e0152"
            ],
            [
             0.1,
             "#c51b7d"
            ],
            [
             0.2,
             "#de77ae"
            ],
            [
             0.3,
             "#f1b6da"
            ],
            [
             0.4,
             "#fde0ef"
            ],
            [
             0.5,
             "#f7f7f7"
            ],
            [
             0.6,
             "#e6f5d0"
            ],
            [
             0.7,
             "#b8e186"
            ],
            [
             0.8,
             "#7fbc41"
            ],
            [
             0.9,
             "#4d9221"
            ],
            [
             1,
             "#276419"
            ]
           ],
           "sequential": [
            [
             0,
             "#0d0887"
            ],
            [
             0.1111111111111111,
             "#46039f"
            ],
            [
             0.2222222222222222,
             "#7201a8"
            ],
            [
             0.3333333333333333,
             "#9c179e"
            ],
            [
             0.4444444444444444,
             "#bd3786"
            ],
            [
             0.5555555555555556,
             "#d8576b"
            ],
            [
             0.6666666666666666,
             "#ed7953"
            ],
            [
             0.7777777777777778,
             "#fb9f3a"
            ],
            [
             0.8888888888888888,
             "#fdca26"
            ],
            [
             1,
             "#f0f921"
            ]
           ],
           "sequentialminus": [
            [
             0,
             "#0d0887"
            ],
            [
             0.1111111111111111,
             "#46039f"
            ],
            [
             0.2222222222222222,
             "#7201a8"
            ],
            [
             0.3333333333333333,
             "#9c179e"
            ],
            [
             0.4444444444444444,
             "#bd3786"
            ],
            [
             0.5555555555555556,
             "#d8576b"
            ],
            [
             0.6666666666666666,
             "#ed7953"
            ],
            [
             0.7777777777777778,
             "#fb9f3a"
            ],
            [
             0.8888888888888888,
             "#fdca26"
            ],
            [
             1,
             "#f0f921"
            ]
           ]
          },
          "colorway": [
           "#636efa",
           "#EF553B",
           "#00cc96",
           "#ab63fa",
           "#FFA15A",
           "#19d3f3",
           "#FF6692",
           "#B6E880",
           "#FF97FF",
           "#FECB52"
          ],
          "font": {
           "color": "#2a3f5f"
          },
          "geo": {
           "bgcolor": "white",
           "lakecolor": "white",
           "landcolor": "#E5ECF6",
           "showlakes": true,
           "showland": true,
           "subunitcolor": "white"
          },
          "hoverlabel": {
           "align": "left"
          },
          "hovermode": "closest",
          "mapbox": {
           "style": "light"
          },
          "paper_bgcolor": "white",
          "plot_bgcolor": "#E5ECF6",
          "polar": {
           "angularaxis": {
            "gridcolor": "white",
            "linecolor": "white",
            "ticks": ""
           },
           "bgcolor": "#E5ECF6",
           "radialaxis": {
            "gridcolor": "white",
            "linecolor": "white",
            "ticks": ""
           }
          },
          "scene": {
           "xaxis": {
            "backgroundcolor": "#E5ECF6",
            "gridcolor": "white",
            "gridwidth": 2,
            "linecolor": "white",
            "showbackground": true,
            "ticks": "",
            "zerolinecolor": "white"
           },
           "yaxis": {
            "backgroundcolor": "#E5ECF6",
            "gridcolor": "white",
            "gridwidth": 2,
            "linecolor": "white",
            "showbackground": true,
            "ticks": "",
            "zerolinecolor": "white"
           },
           "zaxis": {
            "backgroundcolor": "#E5ECF6",
            "gridcolor": "white",
            "gridwidth": 2,
            "linecolor": "white",
            "showbackground": true,
            "ticks": "",
            "zerolinecolor": "white"
           }
          },
          "shapedefaults": {
           "line": {
            "color": "#2a3f5f"
           }
          },
          "ternary": {
           "aaxis": {
            "gridcolor": "white",
            "linecolor": "white",
            "ticks": ""
           },
           "baxis": {
            "gridcolor": "white",
            "linecolor": "white",
            "ticks": ""
           },
           "bgcolor": "#E5ECF6",
           "caxis": {
            "gridcolor": "white",
            "linecolor": "white",
            "ticks": ""
           }
          },
          "title": {
           "x": 0.05
          },
          "xaxis": {
           "automargin": true,
           "gridcolor": "white",
           "linecolor": "white",
           "ticks": "",
           "title": {
            "standoff": 15
           },
           "zerolinecolor": "white",
           "zerolinewidth": 2
          },
          "yaxis": {
           "automargin": true,
           "gridcolor": "white",
           "linecolor": "white",
           "ticks": "",
           "title": {
            "standoff": 15
           },
           "zerolinecolor": "white",
           "zerolinewidth": 2
          }
         }
        }
       }
      }
     },
     "metadata": {},
     "output_type": "display_data"
    }
   ],
   "source": [
    "iowa = pd.DataFrame(points, columns = ['lat','lon'])\n",
    "\n",
    "px.scatter_mapbox(iowa, lat = 'lat', lon = 'lon', mapbox_style='carto-positron')"
   ]
  },
  {
   "cell_type": "code",
   "execution_count": 30,
   "metadata": {},
   "outputs": [
    {
     "data": {
      "text/html": [
       "<div>\n",
       "<style scoped>\n",
       "    .dataframe tbody tr th:only-of-type {\n",
       "        vertical-align: middle;\n",
       "    }\n",
       "\n",
       "    .dataframe tbody tr th {\n",
       "        vertical-align: top;\n",
       "    }\n",
       "\n",
       "    .dataframe thead th {\n",
       "        text-align: right;\n",
       "    }\n",
       "</style>\n",
       "<table border=\"1\" class=\"dataframe\">\n",
       "  <thead>\n",
       "    <tr style=\"text-align: right;\">\n",
       "      <th></th>\n",
       "      <th>name</th>\n",
       "      <th>country</th>\n",
       "      <th>region</th>\n",
       "      <th>wmo</th>\n",
       "      <th>icao</th>\n",
       "      <th>latitude</th>\n",
       "      <th>longitude</th>\n",
       "      <th>elevation</th>\n",
       "      <th>timezone</th>\n",
       "      <th>hourly_start</th>\n",
       "      <th>hourly_end</th>\n",
       "      <th>daily_start</th>\n",
       "      <th>daily_end</th>\n",
       "      <th>monthly_start</th>\n",
       "      <th>monthly_end</th>\n",
       "      <th>distance</th>\n",
       "    </tr>\n",
       "    <tr>\n",
       "      <th>id</th>\n",
       "      <th></th>\n",
       "      <th></th>\n",
       "      <th></th>\n",
       "      <th></th>\n",
       "      <th></th>\n",
       "      <th></th>\n",
       "      <th></th>\n",
       "      <th></th>\n",
       "      <th></th>\n",
       "      <th></th>\n",
       "      <th></th>\n",
       "      <th></th>\n",
       "      <th></th>\n",
       "      <th></th>\n",
       "      <th></th>\n",
       "      <th></th>\n",
       "    </tr>\n",
       "  </thead>\n",
       "  <tbody>\n",
       "    <tr>\n",
       "      <th>KAMW0</th>\n",
       "      <td>Ames / Old Orchard Mobile Home Park</td>\n",
       "      <td>US</td>\n",
       "      <td>IA</td>\n",
       "      <td>&lt;NA&gt;</td>\n",
       "      <td>KAMW</td>\n",
       "      <td>41.9921</td>\n",
       "      <td>-93.6218</td>\n",
       "      <td>291.0</td>\n",
       "      <td>America/Chicago</td>\n",
       "      <td>2006-01-01</td>\n",
       "      <td>2025-04-14</td>\n",
       "      <td>2006-01-01</td>\n",
       "      <td>2022-04-24</td>\n",
       "      <td>2006-01-01</td>\n",
       "      <td>2022-01-01</td>\n",
       "      <td>15626.554704</td>\n",
       "    </tr>\n",
       "    <tr>\n",
       "      <th>KBNW0</th>\n",
       "      <td>Boone</td>\n",
       "      <td>US</td>\n",
       "      <td>IA</td>\n",
       "      <td>&lt;NA&gt;</td>\n",
       "      <td>KBNW</td>\n",
       "      <td>42.0496</td>\n",
       "      <td>-93.8476</td>\n",
       "      <td>354.0</td>\n",
       "      <td>America/Chicago</td>\n",
       "      <td>2006-01-01</td>\n",
       "      <td>2025-04-14</td>\n",
       "      <td>2006-01-01</td>\n",
       "      <td>2022-04-24</td>\n",
       "      <td>2011-01-01</td>\n",
       "      <td>2022-01-01</td>\n",
       "      <td>27469.906670</td>\n",
       "    </tr>\n",
       "    <tr>\n",
       "      <th>KIFA0</th>\n",
       "      <td>Iowa Falls / Racine</td>\n",
       "      <td>US</td>\n",
       "      <td>IA</td>\n",
       "      <td>&lt;NA&gt;</td>\n",
       "      <td>KIFA</td>\n",
       "      <td>42.4708</td>\n",
       "      <td>-93.2700</td>\n",
       "      <td>347.0</td>\n",
       "      <td>America/Chicago</td>\n",
       "      <td>2007-10-16</td>\n",
       "      <td>2025-04-14</td>\n",
       "      <td>2007-10-19</td>\n",
       "      <td>2022-04-24</td>\n",
       "      <td>2014-01-01</td>\n",
       "      <td>2022-01-01</td>\n",
       "      <td>44984.719699</td>\n",
       "    </tr>\n",
       "    <tr>\n",
       "      <th>KEBS0</th>\n",
       "      <td>Webster City / Highview</td>\n",
       "      <td>US</td>\n",
       "      <td>IA</td>\n",
       "      <td>&lt;NA&gt;</td>\n",
       "      <td>KEBS</td>\n",
       "      <td>42.4365</td>\n",
       "      <td>-93.8691</td>\n",
       "      <td>342.0</td>\n",
       "      <td>America/Chicago</td>\n",
       "      <td>2006-01-01</td>\n",
       "      <td>2025-04-14</td>\n",
       "      <td>2006-01-01</td>\n",
       "      <td>2022-04-24</td>\n",
       "      <td>2010-01-01</td>\n",
       "      <td>2022-01-01</td>\n",
       "      <td>45699.194537</td>\n",
       "    </tr>\n",
       "    <tr>\n",
       "      <th>KIKV0</th>\n",
       "      <td>Ankeny / Oakwood Heights Mobile Home Park</td>\n",
       "      <td>US</td>\n",
       "      <td>IA</td>\n",
       "      <td>&lt;NA&gt;</td>\n",
       "      <td>KIKV</td>\n",
       "      <td>41.6911</td>\n",
       "      <td>-93.5665</td>\n",
       "      <td>277.0</td>\n",
       "      <td>America/Chicago</td>\n",
       "      <td>2006-01-01</td>\n",
       "      <td>2025-04-14</td>\n",
       "      <td>2006-01-01</td>\n",
       "      <td>2022-04-24</td>\n",
       "      <td>2011-01-01</td>\n",
       "      <td>2022-01-01</td>\n",
       "      <td>47065.997856</td>\n",
       "    </tr>\n",
       "    <tr>\n",
       "      <th>...</th>\n",
       "      <td>...</td>\n",
       "      <td>...</td>\n",
       "      <td>...</td>\n",
       "      <td>...</td>\n",
       "      <td>...</td>\n",
       "      <td>...</td>\n",
       "      <td>...</td>\n",
       "      <td>...</td>\n",
       "      <td>...</td>\n",
       "      <td>...</td>\n",
       "      <td>...</td>\n",
       "      <td>...</td>\n",
       "      <td>...</td>\n",
       "      <td>...</td>\n",
       "      <td>...</td>\n",
       "      <td>...</td>\n",
       "    </tr>\n",
       "    <tr>\n",
       "      <th>71447</th>\n",
       "      <td>Melita</td>\n",
       "      <td>CA</td>\n",
       "      <td>MB</td>\n",
       "      <td>71447</td>\n",
       "      <td>CWEI</td>\n",
       "      <td>49.2800</td>\n",
       "      <td>-100.9900</td>\n",
       "      <td>446.0</td>\n",
       "      <td>America/Winnipeg</td>\n",
       "      <td>1990-07-24</td>\n",
       "      <td>2025-02-05</td>\n",
       "      <td>1990-07-25</td>\n",
       "      <td>2024-04-28</td>\n",
       "      <td>1993-01-01</td>\n",
       "      <td>2022-01-01</td>\n",
       "      <td>984392.640014</td>\n",
       "    </tr>\n",
       "    <tr>\n",
       "      <th>ZB23L</th>\n",
       "      <td>Gimli</td>\n",
       "      <td>CA</td>\n",
       "      <td>MB</td>\n",
       "      <td>71748</td>\n",
       "      <td>&lt;NA&gt;</td>\n",
       "      <td>50.6300</td>\n",
       "      <td>-97.0500</td>\n",
       "      <td>230.0</td>\n",
       "      <td>America/Winnipeg</td>\n",
       "      <td>2020-01-01</td>\n",
       "      <td>2022-12-14</td>\n",
       "      <td>2006-09-19</td>\n",
       "      <td>2022-12-11</td>\n",
       "      <td>2006-01-01</td>\n",
       "      <td>2022-01-01</td>\n",
       "      <td>984551.874028</td>\n",
       "    </tr>\n",
       "    <tr>\n",
       "      <th>KABH0</th>\n",
       "      <td>Ellicott / Truckton</td>\n",
       "      <td>US</td>\n",
       "      <td>CO</td>\n",
       "      <td>&lt;NA&gt;</td>\n",
       "      <td>KABH</td>\n",
       "      <td>38.7500</td>\n",
       "      <td>-104.3000</td>\n",
       "      <td>1840.0</td>\n",
       "      <td>America/Denver</td>\n",
       "      <td>2006-05-01</td>\n",
       "      <td>2025-04-14</td>\n",
       "      <td>2006-05-01</td>\n",
       "      <td>2022-04-24</td>\n",
       "      <td>2007-01-01</td>\n",
       "      <td>2020-01-01</td>\n",
       "      <td>984703.636488</td>\n",
       "    </tr>\n",
       "    <tr>\n",
       "      <th>KBGD0</th>\n",
       "      <td>Borger / Electric City</td>\n",
       "      <td>US</td>\n",
       "      <td>TX</td>\n",
       "      <td>&lt;NA&gt;</td>\n",
       "      <td>KBGD</td>\n",
       "      <td>35.7009</td>\n",
       "      <td>-101.3937</td>\n",
       "      <td>931.0</td>\n",
       "      <td>America/Chicago</td>\n",
       "      <td>2006-01-01</td>\n",
       "      <td>2025-04-14</td>\n",
       "      <td>2006-01-01</td>\n",
       "      <td>2022-04-24</td>\n",
       "      <td>2006-01-01</td>\n",
       "      <td>2022-01-01</td>\n",
       "      <td>984959.672767</td>\n",
       "    </tr>\n",
       "    <tr>\n",
       "      <th>74768</th>\n",
       "      <td>Greenville / Brighton</td>\n",
       "      <td>US</td>\n",
       "      <td>MS</td>\n",
       "      <td>74768</td>\n",
       "      <td>KGLH</td>\n",
       "      <td>33.4829</td>\n",
       "      <td>-90.9856</td>\n",
       "      <td>40.0</td>\n",
       "      <td>America/Chicago</td>\n",
       "      <td>2005-01-01</td>\n",
       "      <td>2025-04-14</td>\n",
       "      <td>1958-06-01</td>\n",
       "      <td>2022-04-25</td>\n",
       "      <td>1959-01-01</td>\n",
       "      <td>2022-01-01</td>\n",
       "      <td>985137.210417</td>\n",
       "    </tr>\n",
       "  </tbody>\n",
       "</table>\n",
       "<p>1000 rows × 16 columns</p>\n",
       "</div>"
      ],
      "text/plain": [
       "                                            name country region    wmo  icao  \\\n",
       "id                                                                             \n",
       "KAMW0        Ames / Old Orchard Mobile Home Park      US     IA   <NA>  KAMW   \n",
       "KBNW0                                      Boone      US     IA   <NA>  KBNW   \n",
       "KIFA0                        Iowa Falls / Racine      US     IA   <NA>  KIFA   \n",
       "KEBS0                    Webster City / Highview      US     IA   <NA>  KEBS   \n",
       "KIKV0  Ankeny / Oakwood Heights Mobile Home Park      US     IA   <NA>  KIKV   \n",
       "...                                          ...     ...    ...    ...   ...   \n",
       "71447                                     Melita      CA     MB  71447  CWEI   \n",
       "ZB23L                                      Gimli      CA     MB  71748  <NA>   \n",
       "KABH0                        Ellicott / Truckton      US     CO   <NA>  KABH   \n",
       "KBGD0                     Borger / Electric City      US     TX   <NA>  KBGD   \n",
       "74768                      Greenville / Brighton      US     MS  74768  KGLH   \n",
       "\n",
       "       latitude  longitude  elevation          timezone hourly_start  \\\n",
       "id                                                                     \n",
       "KAMW0   41.9921   -93.6218      291.0   America/Chicago   2006-01-01   \n",
       "KBNW0   42.0496   -93.8476      354.0   America/Chicago   2006-01-01   \n",
       "KIFA0   42.4708   -93.2700      347.0   America/Chicago   2007-10-16   \n",
       "KEBS0   42.4365   -93.8691      342.0   America/Chicago   2006-01-01   \n",
       "KIKV0   41.6911   -93.5665      277.0   America/Chicago   2006-01-01   \n",
       "...         ...        ...        ...               ...          ...   \n",
       "71447   49.2800  -100.9900      446.0  America/Winnipeg   1990-07-24   \n",
       "ZB23L   50.6300   -97.0500      230.0  America/Winnipeg   2020-01-01   \n",
       "KABH0   38.7500  -104.3000     1840.0    America/Denver   2006-05-01   \n",
       "KBGD0   35.7009  -101.3937      931.0   America/Chicago   2006-01-01   \n",
       "74768   33.4829   -90.9856       40.0   America/Chicago   2005-01-01   \n",
       "\n",
       "      hourly_end daily_start  daily_end monthly_start monthly_end  \\\n",
       "id                                                                  \n",
       "KAMW0 2025-04-14  2006-01-01 2022-04-24    2006-01-01  2022-01-01   \n",
       "KBNW0 2025-04-14  2006-01-01 2022-04-24    2011-01-01  2022-01-01   \n",
       "KIFA0 2025-04-14  2007-10-19 2022-04-24    2014-01-01  2022-01-01   \n",
       "KEBS0 2025-04-14  2006-01-01 2022-04-24    2010-01-01  2022-01-01   \n",
       "KIKV0 2025-04-14  2006-01-01 2022-04-24    2011-01-01  2022-01-01   \n",
       "...          ...         ...        ...           ...         ...   \n",
       "71447 2025-02-05  1990-07-25 2024-04-28    1993-01-01  2022-01-01   \n",
       "ZB23L 2022-12-14  2006-09-19 2022-12-11    2006-01-01  2022-01-01   \n",
       "KABH0 2025-04-14  2006-05-01 2022-04-24    2007-01-01  2020-01-01   \n",
       "KBGD0 2025-04-14  2006-01-01 2022-04-24    2006-01-01  2022-01-01   \n",
       "74768 2025-04-14  1958-06-01 2022-04-25    1959-01-01  2022-01-01   \n",
       "\n",
       "            distance  \n",
       "id                    \n",
       "KAMW0   15626.554704  \n",
       "KBNW0   27469.906670  \n",
       "KIFA0   44984.719699  \n",
       "KEBS0   45699.194537  \n",
       "KIKV0   47065.997856  \n",
       "...              ...  \n",
       "71447  984392.640014  \n",
       "ZB23L  984551.874028  \n",
       "KABH0  984703.636488  \n",
       "KBGD0  984959.672767  \n",
       "74768  985137.210417  \n",
       "\n",
       "[1000 rows x 16 columns]"
      ]
     },
     "execution_count": 30,
     "metadata": {},
     "output_type": "execute_result"
    }
   ],
   "source": [
    "\n",
    "\n",
    "# Get nearby weather stations\n",
    "stations = Stations()\n",
    "stations = stations.nearby(42.1133, -93.526)\n",
    "station = stations.fetch(1000)\n"
   ]
  },
  {
   "cell_type": "code",
   "execution_count": 32,
   "metadata": {},
   "outputs": [
    {
     "name": "stderr",
     "output_type": "stream",
     "text": [
      "DeprecationWarning: *scatter_mapbox* is deprecated! Use *scatter_map* instead. Learn more at: https://plotly.com/python/mapbox-to-maplibre/\n"
     ]
    },
    {
     "data": {
      "application/vnd.plotly.v1+json": {
       "config": {
        "plotlyServerURL": "https://plot.ly"
       },
       "data": [
        {
         "hovertemplate": "latitude=%{lat}<br>longitude=%{lon}<extra></extra>",
         "lat": {
          "bdata": "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",
          "dtype": "f8"
         },
         "legendgroup": "",
         "lon": {
          "bdata": "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",
          "dtype": "f8"
         },
         "marker": {
          "color": "#636efa"
         },
         "mode": "markers",
         "name": "",
         "showlegend": false,
         "subplot": "mapbox",
         "type": "scattermapbox"
        }
       ],
       "layout": {
        "legend": {
         "tracegroupgap": 0
        },
        "mapbox": {
         "center": {
          "lat": 41.7734393,
          "lon": -92.2939666
         },
         "domain": {
          "x": [
           0,
           1
          ],
          "y": [
           0,
           1
          ]
         },
         "style": "carto-positron",
         "zoom": 8
        },
        "margin": {
         "t": 60
        },
        "template": {
         "data": {
          "bar": [
           {
            "error_x": {
             "color": "#2a3f5f"
            },
            "error_y": {
             "color": "#2a3f5f"
            },
            "marker": {
             "line": {
              "color": "#E5ECF6",
              "width": 0.5
             },
             "pattern": {
              "fillmode": "overlay",
              "size": 10,
              "solidity": 0.2
             }
            },
            "type": "bar"
           }
          ],
          "barpolar": [
           {
            "marker": {
             "line": {
              "color": "#E5ECF6",
              "width": 0.5
             },
             "pattern": {
              "fillmode": "overlay",
              "size": 10,
              "solidity": 0.2
             }
            },
            "type": "barpolar"
           }
          ],
          "carpet": [
           {
            "aaxis": {
             "endlinecolor": "#2a3f5f",
             "gridcolor": "white",
             "linecolor": "white",
             "minorgridcolor": "white",
             "startlinecolor": "#2a3f5f"
            },
            "baxis": {
             "endlinecolor": "#2a3f5f",
             "gridcolor": "white",
             "linecolor": "white",
             "minorgridcolor": "white",
             "startlinecolor": "#2a3f5f"
            },
            "type": "carpet"
           }
          ],
          "choropleth": [
           {
            "colorbar": {
             "outlinewidth": 0,
             "ticks": ""
            },
            "type": "choropleth"
           }
          ],
          "contour": [
           {
            "colorbar": {
             "outlinewidth": 0,
             "ticks": ""
            },
            "colorscale": [
             [
              0,
              "#0d0887"
             ],
             [
              0.1111111111111111,
              "#46039f"
             ],
             [
              0.2222222222222222,
              "#7201a8"
             ],
             [
              0.3333333333333333,
              "#9c179e"
             ],
             [
              0.4444444444444444,
              "#bd3786"
             ],
             [
              0.5555555555555556,
              "#d8576b"
             ],
             [
              0.6666666666666666,
              "#ed7953"
             ],
             [
              0.7777777777777778,
              "#fb9f3a"
             ],
             [
              0.8888888888888888,
              "#fdca26"
             ],
             [
              1,
              "#f0f921"
             ]
            ],
            "type": "contour"
           }
          ],
          "contourcarpet": [
           {
            "colorbar": {
             "outlinewidth": 0,
             "ticks": ""
            },
            "type": "contourcarpet"
           }
          ],
          "heatmap": [
           {
            "colorbar": {
             "outlinewidth": 0,
             "ticks": ""
            },
            "colorscale": [
             [
              0,
              "#0d0887"
             ],
             [
              0.1111111111111111,
              "#46039f"
             ],
             [
              0.2222222222222222,
              "#7201a8"
             ],
             [
              0.3333333333333333,
              "#9c179e"
             ],
             [
              0.4444444444444444,
              "#bd3786"
             ],
             [
              0.5555555555555556,
              "#d8576b"
             ],
             [
              0.6666666666666666,
              "#ed7953"
             ],
             [
              0.7777777777777778,
              "#fb9f3a"
             ],
             [
              0.8888888888888888,
              "#fdca26"
             ],
             [
              1,
              "#f0f921"
             ]
            ],
            "type": "heatmap"
           }
          ],
          "histogram": [
           {
            "marker": {
             "pattern": {
              "fillmode": "overlay",
              "size": 10,
              "solidity": 0.2
             }
            },
            "type": "histogram"
           }
          ],
          "histogram2d": [
           {
            "colorbar": {
             "outlinewidth": 0,
             "ticks": ""
            },
            "colorscale": [
             [
              0,
              "#0d0887"
             ],
             [
              0.1111111111111111,
              "#46039f"
             ],
             [
              0.2222222222222222,
              "#7201a8"
             ],
             [
              0.3333333333333333,
              "#9c179e"
             ],
             [
              0.4444444444444444,
              "#bd3786"
             ],
             [
              0.5555555555555556,
              "#d8576b"
             ],
             [
              0.6666666666666666,
              "#ed7953"
             ],
             [
              0.7777777777777778,
              "#fb9f3a"
             ],
             [
              0.8888888888888888,
              "#fdca26"
             ],
             [
              1,
              "#f0f921"
             ]
            ],
            "type": "histogram2d"
           }
          ],
          "histogram2dcontour": [
           {
            "colorbar": {
             "outlinewidth": 0,
             "ticks": ""
            },
            "colorscale": [
             [
              0,
              "#0d0887"
             ],
             [
              0.1111111111111111,
              "#46039f"
             ],
             [
              0.2222222222222222,
              "#7201a8"
             ],
             [
              0.3333333333333333,
              "#9c179e"
             ],
             [
              0.4444444444444444,
              "#bd3786"
             ],
             [
              0.5555555555555556,
              "#d8576b"
             ],
             [
              0.6666666666666666,
              "#ed7953"
             ],
             [
              0.7777777777777778,
              "#fb9f3a"
             ],
             [
              0.8888888888888888,
              "#fdca26"
             ],
             [
              1,
              "#f0f921"
             ]
            ],
            "type": "histogram2dcontour"
           }
          ],
          "mesh3d": [
           {
            "colorbar": {
             "outlinewidth": 0,
             "ticks": ""
            },
            "type": "mesh3d"
           }
          ],
          "parcoords": [
           {
            "line": {
             "colorbar": {
              "outlinewidth": 0,
              "ticks": ""
             }
            },
            "type": "parcoords"
           }
          ],
          "pie": [
           {
            "automargin": true,
            "type": "pie"
           }
          ],
          "scatter": [
           {
            "fillpattern": {
             "fillmode": "overlay",
             "size": 10,
             "solidity": 0.2
            },
            "type": "scatter"
           }
          ],
          "scatter3d": [
           {
            "line": {
             "colorbar": {
              "outlinewidth": 0,
              "ticks": ""
             }
            },
            "marker": {
             "colorbar": {
              "outlinewidth": 0,
              "ticks": ""
             }
            },
            "type": "scatter3d"
           }
          ],
          "scattercarpet": [
           {
            "marker": {
             "colorbar": {
              "outlinewidth": 0,
              "ticks": ""
             }
            },
            "type": "scattercarpet"
           }
          ],
          "scattergeo": [
           {
            "marker": {
             "colorbar": {
              "outlinewidth": 0,
              "ticks": ""
             }
            },
            "type": "scattergeo"
           }
          ],
          "scattergl": [
           {
            "marker": {
             "colorbar": {
              "outlinewidth": 0,
              "ticks": ""
             }
            },
            "type": "scattergl"
           }
          ],
          "scattermap": [
           {
            "marker": {
             "colorbar": {
              "outlinewidth": 0,
              "ticks": ""
             }
            },
            "type": "scattermap"
           }
          ],
          "scattermapbox": [
           {
            "marker": {
             "colorbar": {
              "outlinewidth": 0,
              "ticks": ""
             }
            },
            "type": "scattermapbox"
           }
          ],
          "scatterpolar": [
           {
            "marker": {
             "colorbar": {
              "outlinewidth": 0,
              "ticks": ""
             }
            },
            "type": "scatterpolar"
           }
          ],
          "scatterpolargl": [
           {
            "marker": {
             "colorbar": {
              "outlinewidth": 0,
              "ticks": ""
             }
            },
            "type": "scatterpolargl"
           }
          ],
          "scatterternary": [
           {
            "marker": {
             "colorbar": {
              "outlinewidth": 0,
              "ticks": ""
             }
            },
            "type": "scatterternary"
           }
          ],
          "surface": [
           {
            "colorbar": {
             "outlinewidth": 0,
             "ticks": ""
            },
            "colorscale": [
             [
              0,
              "#0d0887"
             ],
             [
              0.1111111111111111,
              "#46039f"
             ],
             [
              0.2222222222222222,
              "#7201a8"
             ],
             [
              0.3333333333333333,
              "#9c179e"
             ],
             [
              0.4444444444444444,
              "#bd3786"
             ],
             [
              0.5555555555555556,
              "#d8576b"
             ],
             [
              0.6666666666666666,
              "#ed7953"
             ],
             [
              0.7777777777777778,
              "#fb9f3a"
             ],
             [
              0.8888888888888888,
              "#fdca26"
             ],
             [
              1,
              "#f0f921"
             ]
            ],
            "type": "surface"
           }
          ],
          "table": [
           {
            "cells": {
             "fill": {
              "color": "#EBF0F8"
             },
             "line": {
              "color": "white"
             }
            },
            "header": {
             "fill": {
              "color": "#C8D4E3"
             },
             "line": {
              "color": "white"
             }
            },
            "type": "table"
           }
          ]
         },
         "layout": {
          "annotationdefaults": {
           "arrowcolor": "#2a3f5f",
           "arrowhead": 0,
           "arrowwidth": 1
          },
          "autotypenumbers": "strict",
          "coloraxis": {
           "colorbar": {
            "outlinewidth": 0,
            "ticks": ""
           }
          },
          "colorscale": {
           "diverging": [
            [
             0,
             "#8e0152"
            ],
            [
             0.1,
             "#c51b7d"
            ],
            [
             0.2,
             "#de77ae"
            ],
            [
             0.3,
             "#f1b6da"
            ],
            [
             0.4,
             "#fde0ef"
            ],
            [
             0.5,
             "#f7f7f7"
            ],
            [
             0.6,
             "#e6f5d0"
            ],
            [
             0.7,
             "#b8e186"
            ],
            [
             0.8,
             "#7fbc41"
            ],
            [
             0.9,
             "#4d9221"
            ],
            [
             1,
             "#276419"
            ]
           ],
           "sequential": [
            [
             0,
             "#0d0887"
            ],
            [
             0.1111111111111111,
             "#46039f"
            ],
            [
             0.2222222222222222,
             "#7201a8"
            ],
            [
             0.3333333333333333,
             "#9c179e"
            ],
            [
             0.4444444444444444,
             "#bd3786"
            ],
            [
             0.5555555555555556,
             "#d8576b"
            ],
            [
             0.6666666666666666,
             "#ed7953"
            ],
            [
             0.7777777777777778,
             "#fb9f3a"
            ],
            [
             0.8888888888888888,
             "#fdca26"
            ],
            [
             1,
             "#f0f921"
            ]
           ],
           "sequentialminus": [
            [
             0,
             "#0d0887"
            ],
            [
             0.1111111111111111,
             "#46039f"
            ],
            [
             0.2222222222222222,
             "#7201a8"
            ],
            [
             0.3333333333333333,
             "#9c179e"
            ],
            [
             0.4444444444444444,
             "#bd3786"
            ],
            [
             0.5555555555555556,
             "#d8576b"
            ],
            [
             0.6666666666666666,
             "#ed7953"
            ],
            [
             0.7777777777777778,
             "#fb9f3a"
            ],
            [
             0.8888888888888888,
             "#fdca26"
            ],
            [
             1,
             "#f0f921"
            ]
           ]
          },
          "colorway": [
           "#636efa",
           "#EF553B",
           "#00cc96",
           "#ab63fa",
           "#FFA15A",
           "#19d3f3",
           "#FF6692",
           "#B6E880",
           "#FF97FF",
           "#FECB52"
          ],
          "font": {
           "color": "#2a3f5f"
          },
          "geo": {
           "bgcolor": "white",
           "lakecolor": "white",
           "landcolor": "#E5ECF6",
           "showlakes": true,
           "showland": true,
           "subunitcolor": "white"
          },
          "hoverlabel": {
           "align": "left"
          },
          "hovermode": "closest",
          "mapbox": {
           "style": "light"
          },
          "paper_bgcolor": "white",
          "plot_bgcolor": "#E5ECF6",
          "polar": {
           "angularaxis": {
            "gridcolor": "white",
            "linecolor": "white",
            "ticks": ""
           },
           "bgcolor": "#E5ECF6",
           "radialaxis": {
            "gridcolor": "white",
            "linecolor": "white",
            "ticks": ""
           }
          },
          "scene": {
           "xaxis": {
            "backgroundcolor": "#E5ECF6",
            "gridcolor": "white",
            "gridwidth": 2,
            "linecolor": "white",
            "showbackground": true,
            "ticks": "",
            "zerolinecolor": "white"
           },
           "yaxis": {
            "backgroundcolor": "#E5ECF6",
            "gridcolor": "white",
            "gridwidth": 2,
            "linecolor": "white",
            "showbackground": true,
            "ticks": "",
            "zerolinecolor": "white"
           },
           "zaxis": {
            "backgroundcolor": "#E5ECF6",
            "gridcolor": "white",
            "gridwidth": 2,
            "linecolor": "white",
            "showbackground": true,
            "ticks": "",
            "zerolinecolor": "white"
           }
          },
          "shapedefaults": {
           "line": {
            "color": "#2a3f5f"
           }
          },
          "ternary": {
           "aaxis": {
            "gridcolor": "white",
            "linecolor": "white",
            "ticks": ""
           },
           "baxis": {
            "gridcolor": "white",
            "linecolor": "white",
            "ticks": ""
           },
           "bgcolor": "#E5ECF6",
           "caxis": {
            "gridcolor": "white",
            "linecolor": "white",
            "ticks": ""
           }
          },
          "title": {
           "x": 0.05
          },
          "xaxis": {
           "automargin": true,
           "gridcolor": "white",
           "linecolor": "white",
           "ticks": "",
           "title": {
            "standoff": 15
           },
           "zerolinecolor": "white",
           "zerolinewidth": 2
          },
          "yaxis": {
           "automargin": true,
           "gridcolor": "white",
           "linecolor": "white",
           "ticks": "",
           "title": {
            "standoff": 15
           },
           "zerolinecolor": "white",
           "zerolinewidth": 2
          }
         }
        }
       }
      }
     },
     "metadata": {},
     "output_type": "display_data"
    }
   ],
   "source": [
    "px.scatter_mapbox(station, lat = 'latitude', lon = 'longitude', mapbox_style='carto-positron')"
   ]
  },
  {
   "cell_type": "code",
   "execution_count": null,
   "metadata": {},
   "outputs": [],
   "source": [
    "# Iterate through these stations and get yearly rain fall up into september \n"
   ]
  },
  {
   "cell_type": "code",
   "execution_count": 44,
   "metadata": {},
   "outputs": [
    {
     "name": "stderr",
     "output_type": "stream",
     "text": [
      "FutureWarning: Support for nested sequences for 'parse_dates' in pd.read_csv is deprecated. Combine the desired columns with pd.to_datetime after parsing instead.\n",
      "FutureWarning: Support for nested sequences for 'parse_dates' in pd.read_csv is deprecated. Combine the desired columns with pd.to_datetime after parsing instead.\n",
      "FutureWarning: Support for nested sequences for 'parse_dates' in pd.read_csv is deprecated. Combine the desired columns with pd.to_datetime after parsing instead.\n",
      "FutureWarning: Support for nested sequences for 'parse_dates' in pd.read_csv is deprecated. Combine the desired columns with pd.to_datetime after parsing instead.\n",
      "FutureWarning: Support for nested sequences for 'parse_dates' in pd.read_csv is deprecated. Combine the desired columns with pd.to_datetime after parsing instead.\n",
      "FutureWarning: Support for nested sequences for 'parse_dates' in pd.read_csv is deprecated. Combine the desired columns with pd.to_datetime after parsing instead.\n",
      "FutureWarning: Support for nested sequences for 'parse_dates' in pd.read_csv is deprecated. Combine the desired columns with pd.to_datetime after parsing instead.\n",
      "FutureWarning: Support for nested sequences for 'parse_dates' in pd.read_csv is deprecated. Combine the desired columns with pd.to_datetime after parsing instead.\n",
      "FutureWarning: Support for nested sequences for 'parse_dates' in pd.read_csv is deprecated. Combine the desired columns with pd.to_datetime after parsing instead.\n",
      "FutureWarning: Support for nested sequences for 'parse_dates' in pd.read_csv is deprecated. Combine the desired columns with pd.to_datetime after parsing instead.\n",
      "FutureWarning: Support for nested sequences for 'parse_dates' in pd.read_csv is deprecated. Combine the desired columns with pd.to_datetime after parsing instead.\n",
      "FutureWarning: Support for nested sequences for 'parse_dates' in pd.read_csv is deprecated. Combine the desired columns with pd.to_datetime after parsing instead.\n",
      "FutureWarning: Support for nested sequences for 'parse_dates' in pd.read_csv is deprecated. Combine the desired columns with pd.to_datetime after parsing instead.\n",
      "FutureWarning: Support for nested sequences for 'parse_dates' in pd.read_csv is deprecated. Combine the desired columns with pd.to_datetime after parsing instead.\n",
      "FutureWarning: Support for nested sequences for 'parse_dates' in pd.read_csv is deprecated. Combine the desired columns with pd.to_datetime after parsing instead.\n",
      "FutureWarning: Support for nested sequences for 'parse_dates' in pd.read_csv is deprecated. Combine the desired columns with pd.to_datetime after parsing instead.\n",
      "FutureWarning: Support for nested sequences for 'parse_dates' in pd.read_csv is deprecated. Combine the desired columns with pd.to_datetime after parsing instead.\n",
      "FutureWarning: Support for nested sequences for 'parse_dates' in pd.read_csv is deprecated. Combine the desired columns with pd.to_datetime after parsing instead.\n",
      "FutureWarning: Support for nested sequences for 'parse_dates' in pd.read_csv is deprecated. Combine the desired columns with pd.to_datetime after parsing instead.\n",
      "FutureWarning: Support for nested sequences for 'parse_dates' in pd.read_csv is deprecated. Combine the desired columns with pd.to_datetime after parsing instead.\n",
      "FutureWarning: Support for nested sequences for 'parse_dates' in pd.read_csv is deprecated. Combine the desired columns with pd.to_datetime after parsing instead.\n",
      "FutureWarning: Support for nested sequences for 'parse_dates' in pd.read_csv is deprecated. Combine the desired columns with pd.to_datetime after parsing instead.\n",
      "FutureWarning: Support for nested sequences for 'parse_dates' in pd.read_csv is deprecated. Combine the desired columns with pd.to_datetime after parsing instead.\n",
      "FutureWarning: Support for nested sequences for 'parse_dates' in pd.read_csv is deprecated. Combine the desired columns with pd.to_datetime after parsing instead.\n",
      "FutureWarning: Support for nested sequences for 'parse_dates' in pd.read_csv is deprecated. Combine the desired columns with pd.to_datetime after parsing instead.\n",
      "FutureWarning: Support for nested sequences for 'parse_dates' in pd.read_csv is deprecated. Combine the desired columns with pd.to_datetime after parsing instead.\n",
      "FutureWarning: Support for nested sequences for 'parse_dates' in pd.read_csv is deprecated. Combine the desired columns with pd.to_datetime after parsing instead.\n",
      "FutureWarning: Support for nested sequences for 'parse_dates' in pd.read_csv is deprecated. Combine the desired columns with pd.to_datetime after parsing instead.\n",
      "FutureWarning: Support for nested sequences for 'parse_dates' in pd.read_csv is deprecated. Combine the desired columns with pd.to_datetime after parsing instead.\n",
      "FutureWarning: Support for nested sequences for 'parse_dates' in pd.read_csv is deprecated. Combine the desired columns with pd.to_datetime after parsing instead.\n",
      "FutureWarning: Support for nested sequences for 'parse_dates' in pd.read_csv is deprecated. Combine the desired columns with pd.to_datetime after parsing instead.\n",
      "FutureWarning: Support for nested sequences for 'parse_dates' in pd.read_csv is deprecated. Combine the desired columns with pd.to_datetime after parsing instead.\n",
      "FutureWarning: Support for nested sequences for 'parse_dates' in pd.read_csv is deprecated. Combine the desired columns with pd.to_datetime after parsing instead.\n",
      "FutureWarning: Support for nested sequences for 'parse_dates' in pd.read_csv is deprecated. Combine the desired columns with pd.to_datetime after parsing instead.\n",
      "FutureWarning: Support for nested sequences for 'parse_dates' in pd.read_csv is deprecated. Combine the desired columns with pd.to_datetime after parsing instead.\n",
      "FutureWarning: Support for nested sequences for 'parse_dates' in pd.read_csv is deprecated. Combine the desired columns with pd.to_datetime after parsing instead.\n",
      "FutureWarning: Support for nested sequences for 'parse_dates' in pd.read_csv is deprecated. Combine the desired columns with pd.to_datetime after parsing instead.\n",
      "FutureWarning: Support for nested sequences for 'parse_dates' in pd.read_csv is deprecated. Combine the desired columns with pd.to_datetime after parsing instead.\n",
      "FutureWarning: Support for nested sequences for 'parse_dates' in pd.read_csv is deprecated. Combine the desired columns with pd.to_datetime after parsing instead.\n",
      "FutureWarning: Support for nested sequences for 'parse_dates' in pd.read_csv is deprecated. Combine the desired columns with pd.to_datetime after parsing instead.\n",
      "FutureWarning: Support for nested sequences for 'parse_dates' in pd.read_csv is deprecated. Combine the desired columns with pd.to_datetime after parsing instead.\n",
      "FutureWarning: Support for nested sequences for 'parse_dates' in pd.read_csv is deprecated. Combine the desired columns with pd.to_datetime after parsing instead.\n",
      "FutureWarning: Support for nested sequences for 'parse_dates' in pd.read_csv is deprecated. Combine the desired columns with pd.to_datetime after parsing instead.\n",
      "FutureWarning: Support for nested sequences for 'parse_dates' in pd.read_csv is deprecated. Combine the desired columns with pd.to_datetime after parsing instead.\n",
      "FutureWarning: Support for nested sequences for 'parse_dates' in pd.read_csv is deprecated. Combine the desired columns with pd.to_datetime after parsing instead.\n",
      "FutureWarning: Support for nested sequences for 'parse_dates' in pd.read_csv is deprecated. Combine the desired columns with pd.to_datetime after parsing instead.\n",
      "FutureWarning: Support for nested sequences for 'parse_dates' in pd.read_csv is deprecated. Combine the desired columns with pd.to_datetime after parsing instead.\n",
      "FutureWarning: Support for nested sequences for 'parse_dates' in pd.read_csv is deprecated. Combine the desired columns with pd.to_datetime after parsing instead.\n",
      "FutureWarning: Support for nested sequences for 'parse_dates' in pd.read_csv is deprecated. Combine the desired columns with pd.to_datetime after parsing instead.\n",
      "FutureWarning: Support for nested sequences for 'parse_dates' in pd.read_csv is deprecated. Combine the desired columns with pd.to_datetime after parsing instead.\n",
      "FutureWarning: Support for nested sequences for 'parse_dates' in pd.read_csv is deprecated. Combine the desired columns with pd.to_datetime after parsing instead.\n",
      "FutureWarning: Support for nested sequences for 'parse_dates' in pd.read_csv is deprecated. Combine the desired columns with pd.to_datetime after parsing instead.\n",
      "FutureWarning: Support for nested sequences for 'parse_dates' in pd.read_csv is deprecated. Combine the desired columns with pd.to_datetime after parsing instead.\n",
      "FutureWarning: Support for nested sequences for 'parse_dates' in pd.read_csv is deprecated. Combine the desired columns with pd.to_datetime after parsing instead.\n",
      "FutureWarning: Support for nested sequences for 'parse_dates' in pd.read_csv is deprecated. Combine the desired columns with pd.to_datetime after parsing instead.\n",
      "FutureWarning: Support for nested sequences for 'parse_dates' in pd.read_csv is deprecated. Combine the desired columns with pd.to_datetime after parsing instead.\n",
      "FutureWarning: Support for nested sequences for 'parse_dates' in pd.read_csv is deprecated. Combine the desired columns with pd.to_datetime after parsing instead.\n",
      "FutureWarning: Support for nested sequences for 'parse_dates' in pd.read_csv is deprecated. Combine the desired columns with pd.to_datetime after parsing instead.\n",
      "FutureWarning: Support for nested sequences for 'parse_dates' in pd.read_csv is deprecated. Combine the desired columns with pd.to_datetime after parsing instead.\n",
      "FutureWarning: Support for nested sequences for 'parse_dates' in pd.read_csv is deprecated. Combine the desired columns with pd.to_datetime after parsing instead.\n",
      "FutureWarning: Support for nested sequences for 'parse_dates' in pd.read_csv is deprecated. Combine the desired columns with pd.to_datetime after parsing instead.\n",
      "Warning: Cannot load daily/72558.csv.gz from https://bulk.meteostat.net/v2/\n",
      "FutureWarning: Support for nested sequences for 'parse_dates' in pd.read_csv is deprecated. Combine the desired columns with pd.to_datetime after parsing instead.\n",
      "FutureWarning: Support for nested sequences for 'parse_dates' in pd.read_csv is deprecated. Combine the desired columns with pd.to_datetime after parsing instead.\n",
      "FutureWarning: Support for nested sequences for 'parse_dates' in pd.read_csv is deprecated. Combine the desired columns with pd.to_datetime after parsing instead.\n",
      "FutureWarning: Support for nested sequences for 'parse_dates' in pd.read_csv is deprecated. Combine the desired columns with pd.to_datetime after parsing instead.\n",
      "FutureWarning: Support for nested sequences for 'parse_dates' in pd.read_csv is deprecated. Combine the desired columns with pd.to_datetime after parsing instead.\n",
      "FutureWarning: Support for nested sequences for 'parse_dates' in pd.read_csv is deprecated. Combine the desired columns with pd.to_datetime after parsing instead.\n",
      "FutureWarning: Support for nested sequences for 'parse_dates' in pd.read_csv is deprecated. Combine the desired columns with pd.to_datetime after parsing instead.\n",
      "FutureWarning: Support for nested sequences for 'parse_dates' in pd.read_csv is deprecated. Combine the desired columns with pd.to_datetime after parsing instead.\n",
      "FutureWarning: Support for nested sequences for 'parse_dates' in pd.read_csv is deprecated. Combine the desired columns with pd.to_datetime after parsing instead.\n",
      "FutureWarning: Support for nested sequences for 'parse_dates' in pd.read_csv is deprecated. Combine the desired columns with pd.to_datetime after parsing instead.\n",
      "FutureWarning: Support for nested sequences for 'parse_dates' in pd.read_csv is deprecated. Combine the desired columns with pd.to_datetime after parsing instead.\n",
      "FutureWarning: Support for nested sequences for 'parse_dates' in pd.read_csv is deprecated. Combine the desired columns with pd.to_datetime after parsing instead.\n",
      "FutureWarning: Support for nested sequences for 'parse_dates' in pd.read_csv is deprecated. Combine the desired columns with pd.to_datetime after parsing instead.\n",
      "FutureWarning: Support for nested sequences for 'parse_dates' in pd.read_csv is deprecated. Combine the desired columns with pd.to_datetime after parsing instead.\n",
      "FutureWarning: Support for nested sequences for 'parse_dates' in pd.read_csv is deprecated. Combine the desired columns with pd.to_datetime after parsing instead.\n",
      "FutureWarning: Support for nested sequences for 'parse_dates' in pd.read_csv is deprecated. Combine the desired columns with pd.to_datetime after parsing instead.\n",
      "FutureWarning: Support for nested sequences for 'parse_dates' in pd.read_csv is deprecated. Combine the desired columns with pd.to_datetime after parsing instead.\n",
      "FutureWarning: Support for nested sequences for 'parse_dates' in pd.read_csv is deprecated. Combine the desired columns with pd.to_datetime after parsing instead.\n",
      "FutureWarning: Support for nested sequences for 'parse_dates' in pd.read_csv is deprecated. Combine the desired columns with pd.to_datetime after parsing instead.\n",
      "FutureWarning: Support for nested sequences for 'parse_dates' in pd.read_csv is deprecated. Combine the desired columns with pd.to_datetime after parsing instead.\n",
      "FutureWarning: Support for nested sequences for 'parse_dates' in pd.read_csv is deprecated. Combine the desired columns with pd.to_datetime after parsing instead.\n",
      "FutureWarning: Support for nested sequences for 'parse_dates' in pd.read_csv is deprecated. Combine the desired columns with pd.to_datetime after parsing instead.\n",
      "FutureWarning: Support for nested sequences for 'parse_dates' in pd.read_csv is deprecated. Combine the desired columns with pd.to_datetime after parsing instead.\n",
      "FutureWarning: Support for nested sequences for 'parse_dates' in pd.read_csv is deprecated. Combine the desired columns with pd.to_datetime after parsing instead.\n",
      "FutureWarning: Support for nested sequences for 'parse_dates' in pd.read_csv is deprecated. Combine the desired columns with pd.to_datetime after parsing instead.\n",
      "FutureWarning: Support for nested sequences for 'parse_dates' in pd.read_csv is deprecated. Combine the desired columns with pd.to_datetime after parsing instead.\n",
      "FutureWarning: Support for nested sequences for 'parse_dates' in pd.read_csv is deprecated. Combine the desired columns with pd.to_datetime after parsing instead.\n",
      "FutureWarning: Support for nested sequences for 'parse_dates' in pd.read_csv is deprecated. Combine the desired columns with pd.to_datetime after parsing instead.\n",
      "FutureWarning: Support for nested sequences for 'parse_dates' in pd.read_csv is deprecated. Combine the desired columns with pd.to_datetime after parsing instead.\n",
      "FutureWarning: Support for nested sequences for 'parse_dates' in pd.read_csv is deprecated. Combine the desired columns with pd.to_datetime after parsing instead.\n",
      "FutureWarning: Support for nested sequences for 'parse_dates' in pd.read_csv is deprecated. Combine the desired columns with pd.to_datetime after parsing instead.\n",
      "FutureWarning: Support for nested sequences for 'parse_dates' in pd.read_csv is deprecated. Combine the desired columns with pd.to_datetime after parsing instead.\n",
      "FutureWarning: Support for nested sequences for 'parse_dates' in pd.read_csv is deprecated. Combine the desired columns with pd.to_datetime after parsing instead.\n",
      "FutureWarning: Support for nested sequences for 'parse_dates' in pd.read_csv is deprecated. Combine the desired columns with pd.to_datetime after parsing instead.\n",
      "FutureWarning: Support for nested sequences for 'parse_dates' in pd.read_csv is deprecated. Combine the desired columns with pd.to_datetime after parsing instead.\n",
      "FutureWarning: Support for nested sequences for 'parse_dates' in pd.read_csv is deprecated. Combine the desired columns with pd.to_datetime after parsing instead.\n",
      "FutureWarning: Support for nested sequences for 'parse_dates' in pd.read_csv is deprecated. Combine the desired columns with pd.to_datetime after parsing instead.\n",
      "FutureWarning: Support for nested sequences for 'parse_dates' in pd.read_csv is deprecated. Combine the desired columns with pd.to_datetime after parsing instead.\n",
      "FutureWarning: Support for nested sequences for 'parse_dates' in pd.read_csv is deprecated. Combine the desired columns with pd.to_datetime after parsing instead.\n",
      "FutureWarning: Support for nested sequences for 'parse_dates' in pd.read_csv is deprecated. Combine the desired columns with pd.to_datetime after parsing instead.\n",
      "FutureWarning: Support for nested sequences for 'parse_dates' in pd.read_csv is deprecated. Combine the desired columns with pd.to_datetime after parsing instead.\n",
      "FutureWarning: Support for nested sequences for 'parse_dates' in pd.read_csv is deprecated. Combine the desired columns with pd.to_datetime after parsing instead.\n",
      "FutureWarning: Support for nested sequences for 'parse_dates' in pd.read_csv is deprecated. Combine the desired columns with pd.to_datetime after parsing instead.\n",
      "FutureWarning: Support for nested sequences for 'parse_dates' in pd.read_csv is deprecated. Combine the desired columns with pd.to_datetime after parsing instead.\n",
      "FutureWarning: Support for nested sequences for 'parse_dates' in pd.read_csv is deprecated. Combine the desired columns with pd.to_datetime after parsing instead.\n",
      "FutureWarning: Support for nested sequences for 'parse_dates' in pd.read_csv is deprecated. Combine the desired columns with pd.to_datetime after parsing instead.\n",
      "FutureWarning: Support for nested sequences for 'parse_dates' in pd.read_csv is deprecated. Combine the desired columns with pd.to_datetime after parsing instead.\n",
      "FutureWarning: Support for nested sequences for 'parse_dates' in pd.read_csv is deprecated. Combine the desired columns with pd.to_datetime after parsing instead.\n",
      "FutureWarning: Support for nested sequences for 'parse_dates' in pd.read_csv is deprecated. Combine the desired columns with pd.to_datetime after parsing instead.\n",
      "FutureWarning: Support for nested sequences for 'parse_dates' in pd.read_csv is deprecated. Combine the desired columns with pd.to_datetime after parsing instead.\n",
      "FutureWarning: Support for nested sequences for 'parse_dates' in pd.read_csv is deprecated. Combine the desired columns with pd.to_datetime after parsing instead.\n",
      "FutureWarning: Support for nested sequences for 'parse_dates' in pd.read_csv is deprecated. Combine the desired columns with pd.to_datetime after parsing instead.\n",
      "FutureWarning: Support for nested sequences for 'parse_dates' in pd.read_csv is deprecated. Combine the desired columns with pd.to_datetime after parsing instead.\n",
      "FutureWarning: Support for nested sequences for 'parse_dates' in pd.read_csv is deprecated. Combine the desired columns with pd.to_datetime after parsing instead.\n",
      "FutureWarning: Support for nested sequences for 'parse_dates' in pd.read_csv is deprecated. Combine the desired columns with pd.to_datetime after parsing instead.\n",
      "FutureWarning: Support for nested sequences for 'parse_dates' in pd.read_csv is deprecated. Combine the desired columns with pd.to_datetime after parsing instead.\n",
      "FutureWarning: Support for nested sequences for 'parse_dates' in pd.read_csv is deprecated. Combine the desired columns with pd.to_datetime after parsing instead.\n",
      "FutureWarning: Support for nested sequences for 'parse_dates' in pd.read_csv is deprecated. Combine the desired columns with pd.to_datetime after parsing instead.\n",
      "FutureWarning: Support for nested sequences for 'parse_dates' in pd.read_csv is deprecated. Combine the desired columns with pd.to_datetime after parsing instead.\n",
      "FutureWarning: Support for nested sequences for 'parse_dates' in pd.read_csv is deprecated. Combine the desired columns with pd.to_datetime after parsing instead.\n",
      "FutureWarning: Support for nested sequences for 'parse_dates' in pd.read_csv is deprecated. Combine the desired columns with pd.to_datetime after parsing instead.\n",
      "FutureWarning: Support for nested sequences for 'parse_dates' in pd.read_csv is deprecated. Combine the desired columns with pd.to_datetime after parsing instead.\n",
      "FutureWarning: Support for nested sequences for 'parse_dates' in pd.read_csv is deprecated. Combine the desired columns with pd.to_datetime after parsing instead.\n",
      "FutureWarning: Support for nested sequences for 'parse_dates' in pd.read_csv is deprecated. Combine the desired columns with pd.to_datetime after parsing instead.\n",
      "FutureWarning: Support for nested sequences for 'parse_dates' in pd.read_csv is deprecated. Combine the desired columns with pd.to_datetime after parsing instead.\n",
      "FutureWarning: Support for nested sequences for 'parse_dates' in pd.read_csv is deprecated. Combine the desired columns with pd.to_datetime after parsing instead.\n",
      "FutureWarning: Support for nested sequences for 'parse_dates' in pd.read_csv is deprecated. Combine the desired columns with pd.to_datetime after parsing instead.\n",
      "FutureWarning: Support for nested sequences for 'parse_dates' in pd.read_csv is deprecated. Combine the desired columns with pd.to_datetime after parsing instead.\n",
      "FutureWarning: Support for nested sequences for 'parse_dates' in pd.read_csv is deprecated. Combine the desired columns with pd.to_datetime after parsing instead.\n",
      "FutureWarning: Support for nested sequences for 'parse_dates' in pd.read_csv is deprecated. Combine the desired columns with pd.to_datetime after parsing instead.\n",
      "FutureWarning: Support for nested sequences for 'parse_dates' in pd.read_csv is deprecated. Combine the desired columns with pd.to_datetime after parsing instead.\n",
      "FutureWarning: Support for nested sequences for 'parse_dates' in pd.read_csv is deprecated. Combine the desired columns with pd.to_datetime after parsing instead.\n",
      "FutureWarning: Support for nested sequences for 'parse_dates' in pd.read_csv is deprecated. Combine the desired columns with pd.to_datetime after parsing instead.\n",
      "FutureWarning: Support for nested sequences for 'parse_dates' in pd.read_csv is deprecated. Combine the desired columns with pd.to_datetime after parsing instead.\n",
      "FutureWarning: Support for nested sequences for 'parse_dates' in pd.read_csv is deprecated. Combine the desired columns with pd.to_datetime after parsing instead.\n",
      "FutureWarning: Support for nested sequences for 'parse_dates' in pd.read_csv is deprecated. Combine the desired columns with pd.to_datetime after parsing instead.\n",
      "FutureWarning: Support for nested sequences for 'parse_dates' in pd.read_csv is deprecated. Combine the desired columns with pd.to_datetime after parsing instead.\n",
      "FutureWarning: Support for nested sequences for 'parse_dates' in pd.read_csv is deprecated. Combine the desired columns with pd.to_datetime after parsing instead.\n",
      "FutureWarning: Support for nested sequences for 'parse_dates' in pd.read_csv is deprecated. Combine the desired columns with pd.to_datetime after parsing instead.\n",
      "FutureWarning: Support for nested sequences for 'parse_dates' in pd.read_csv is deprecated. Combine the desired columns with pd.to_datetime after parsing instead.\n",
      "FutureWarning: Support for nested sequences for 'parse_dates' in pd.read_csv is deprecated. Combine the desired columns with pd.to_datetime after parsing instead.\n",
      "FutureWarning: Support for nested sequences for 'parse_dates' in pd.read_csv is deprecated. Combine the desired columns with pd.to_datetime after parsing instead.\n",
      "FutureWarning: Support for nested sequences for 'parse_dates' in pd.read_csv is deprecated. Combine the desired columns with pd.to_datetime after parsing instead.\n",
      "FutureWarning: Support for nested sequences for 'parse_dates' in pd.read_csv is deprecated. Combine the desired columns with pd.to_datetime after parsing instead.\n",
      "FutureWarning: Support for nested sequences for 'parse_dates' in pd.read_csv is deprecated. Combine the desired columns with pd.to_datetime after parsing instead.\n",
      "FutureWarning: Support for nested sequences for 'parse_dates' in pd.read_csv is deprecated. Combine the desired columns with pd.to_datetime after parsing instead.\n",
      "FutureWarning: Support for nested sequences for 'parse_dates' in pd.read_csv is deprecated. Combine the desired columns with pd.to_datetime after parsing instead.\n",
      "FutureWarning: Support for nested sequences for 'parse_dates' in pd.read_csv is deprecated. Combine the desired columns with pd.to_datetime after parsing instead.\n",
      "FutureWarning: Support for nested sequences for 'parse_dates' in pd.read_csv is deprecated. Combine the desired columns with pd.to_datetime after parsing instead.\n",
      "FutureWarning: Support for nested sequences for 'parse_dates' in pd.read_csv is deprecated. Combine the desired columns with pd.to_datetime after parsing instead.\n",
      "FutureWarning: Support for nested sequences for 'parse_dates' in pd.read_csv is deprecated. Combine the desired columns with pd.to_datetime after parsing instead.\n",
      "FutureWarning: Support for nested sequences for 'parse_dates' in pd.read_csv is deprecated. Combine the desired columns with pd.to_datetime after parsing instead.\n",
      "FutureWarning: Support for nested sequences for 'parse_dates' in pd.read_csv is deprecated. Combine the desired columns with pd.to_datetime after parsing instead.\n",
      "FutureWarning: Support for nested sequences for 'parse_dates' in pd.read_csv is deprecated. Combine the desired columns with pd.to_datetime after parsing instead.\n",
      "FutureWarning: Support for nested sequences for 'parse_dates' in pd.read_csv is deprecated. Combine the desired columns with pd.to_datetime after parsing instead.\n",
      "FutureWarning: Support for nested sequences for 'parse_dates' in pd.read_csv is deprecated. Combine the desired columns with pd.to_datetime after parsing instead.\n",
      "FutureWarning: Support for nested sequences for 'parse_dates' in pd.read_csv is deprecated. Combine the desired columns with pd.to_datetime after parsing instead.\n",
      "FutureWarning: Support for nested sequences for 'parse_dates' in pd.read_csv is deprecated. Combine the desired columns with pd.to_datetime after parsing instead.\n",
      "FutureWarning: Support for nested sequences for 'parse_dates' in pd.read_csv is deprecated. Combine the desired columns with pd.to_datetime after parsing instead.\n",
      "FutureWarning: Support for nested sequences for 'parse_dates' in pd.read_csv is deprecated. Combine the desired columns with pd.to_datetime after parsing instead.\n",
      "FutureWarning: Support for nested sequences for 'parse_dates' in pd.read_csv is deprecated. Combine the desired columns with pd.to_datetime after parsing instead.\n",
      "FutureWarning: Support for nested sequences for 'parse_dates' in pd.read_csv is deprecated. Combine the desired columns with pd.to_datetime after parsing instead.\n",
      "FutureWarning: Support for nested sequences for 'parse_dates' in pd.read_csv is deprecated. Combine the desired columns with pd.to_datetime after parsing instead.\n",
      "FutureWarning: Support for nested sequences for 'parse_dates' in pd.read_csv is deprecated. Combine the desired columns with pd.to_datetime after parsing instead.\n",
      "FutureWarning: Support for nested sequences for 'parse_dates' in pd.read_csv is deprecated. Combine the desired columns with pd.to_datetime after parsing instead.\n",
      "FutureWarning: Support for nested sequences for 'parse_dates' in pd.read_csv is deprecated. Combine the desired columns with pd.to_datetime after parsing instead.\n",
      "FutureWarning: Support for nested sequences for 'parse_dates' in pd.read_csv is deprecated. Combine the desired columns with pd.to_datetime after parsing instead.\n",
      "FutureWarning: Support for nested sequences for 'parse_dates' in pd.read_csv is deprecated. Combine the desired columns with pd.to_datetime after parsing instead.\n",
      "FutureWarning: Support for nested sequences for 'parse_dates' in pd.read_csv is deprecated. Combine the desired columns with pd.to_datetime after parsing instead.\n",
      "FutureWarning: Support for nested sequences for 'parse_dates' in pd.read_csv is deprecated. Combine the desired columns with pd.to_datetime after parsing instead.\n",
      "FutureWarning: Support for nested sequences for 'parse_dates' in pd.read_csv is deprecated. Combine the desired columns with pd.to_datetime after parsing instead.\n",
      "FutureWarning: Support for nested sequences for 'parse_dates' in pd.read_csv is deprecated. Combine the desired columns with pd.to_datetime after parsing instead.\n",
      "FutureWarning: Support for nested sequences for 'parse_dates' in pd.read_csv is deprecated. Combine the desired columns with pd.to_datetime after parsing instead.\n",
      "FutureWarning: Support for nested sequences for 'parse_dates' in pd.read_csv is deprecated. Combine the desired columns with pd.to_datetime after parsing instead.\n",
      "FutureWarning: Support for nested sequences for 'parse_dates' in pd.read_csv is deprecated. Combine the desired columns with pd.to_datetime after parsing instead.\n",
      "FutureWarning: Support for nested sequences for 'parse_dates' in pd.read_csv is deprecated. Combine the desired columns with pd.to_datetime after parsing instead.\n",
      "FutureWarning: Support for nested sequences for 'parse_dates' in pd.read_csv is deprecated. Combine the desired columns with pd.to_datetime after parsing instead.\n",
      "FutureWarning: Support for nested sequences for 'parse_dates' in pd.read_csv is deprecated. Combine the desired columns with pd.to_datetime after parsing instead.\n",
      "FutureWarning: Support for nested sequences for 'parse_dates' in pd.read_csv is deprecated. Combine the desired columns with pd.to_datetime after parsing instead.\n",
      "FutureWarning: Support for nested sequences for 'parse_dates' in pd.read_csv is deprecated. Combine the desired columns with pd.to_datetime after parsing instead.\n",
      "FutureWarning: Support for nested sequences for 'parse_dates' in pd.read_csv is deprecated. Combine the desired columns with pd.to_datetime after parsing instead.\n",
      "FutureWarning: Support for nested sequences for 'parse_dates' in pd.read_csv is deprecated. Combine the desired columns with pd.to_datetime after parsing instead.\n",
      "FutureWarning: Support for nested sequences for 'parse_dates' in pd.read_csv is deprecated. Combine the desired columns with pd.to_datetime after parsing instead.\n",
      "FutureWarning: Support for nested sequences for 'parse_dates' in pd.read_csv is deprecated. Combine the desired columns with pd.to_datetime after parsing instead.\n",
      "FutureWarning: Support for nested sequences for 'parse_dates' in pd.read_csv is deprecated. Combine the desired columns with pd.to_datetime after parsing instead.\n",
      "FutureWarning: Support for nested sequences for 'parse_dates' in pd.read_csv is deprecated. Combine the desired columns with pd.to_datetime after parsing instead.\n",
      "FutureWarning: Support for nested sequences for 'parse_dates' in pd.read_csv is deprecated. Combine the desired columns with pd.to_datetime after parsing instead.\n",
      "FutureWarning: Support for nested sequences for 'parse_dates' in pd.read_csv is deprecated. Combine the desired columns with pd.to_datetime after parsing instead.\n",
      "FutureWarning: Support for nested sequences for 'parse_dates' in pd.read_csv is deprecated. Combine the desired columns with pd.to_datetime after parsing instead.\n",
      "FutureWarning: Support for nested sequences for 'parse_dates' in pd.read_csv is deprecated. Combine the desired columns with pd.to_datetime after parsing instead.\n",
      "FutureWarning: Support for nested sequences for 'parse_dates' in pd.read_csv is deprecated. Combine the desired columns with pd.to_datetime after parsing instead.\n",
      "FutureWarning: Support for nested sequences for 'parse_dates' in pd.read_csv is deprecated. Combine the desired columns with pd.to_datetime after parsing instead.\n",
      "FutureWarning: Support for nested sequences for 'parse_dates' in pd.read_csv is deprecated. Combine the desired columns with pd.to_datetime after parsing instead.\n",
      "FutureWarning: Support for nested sequences for 'parse_dates' in pd.read_csv is deprecated. Combine the desired columns with pd.to_datetime after parsing instead.\n",
      "FutureWarning: Support for nested sequences for 'parse_dates' in pd.read_csv is deprecated. Combine the desired columns with pd.to_datetime after parsing instead.\n",
      "FutureWarning: Support for nested sequences for 'parse_dates' in pd.read_csv is deprecated. Combine the desired columns with pd.to_datetime after parsing instead.\n",
      "FutureWarning: Support for nested sequences for 'parse_dates' in pd.read_csv is deprecated. Combine the desired columns with pd.to_datetime after parsing instead.\n",
      "FutureWarning: Support for nested sequences for 'parse_dates' in pd.read_csv is deprecated. Combine the desired columns with pd.to_datetime after parsing instead.\n",
      "FutureWarning: Support for nested sequences for 'parse_dates' in pd.read_csv is deprecated. Combine the desired columns with pd.to_datetime after parsing instead.\n",
      "FutureWarning: Support for nested sequences for 'parse_dates' in pd.read_csv is deprecated. Combine the desired columns with pd.to_datetime after parsing instead.\n",
      "FutureWarning: Support for nested sequences for 'parse_dates' in pd.read_csv is deprecated. Combine the desired columns with pd.to_datetime after parsing instead.\n",
      "FutureWarning: Support for nested sequences for 'parse_dates' in pd.read_csv is deprecated. Combine the desired columns with pd.to_datetime after parsing instead.\n",
      "FutureWarning: Support for nested sequences for 'parse_dates' in pd.read_csv is deprecated. Combine the desired columns with pd.to_datetime after parsing instead.\n",
      "FutureWarning: Support for nested sequences for 'parse_dates' in pd.read_csv is deprecated. Combine the desired columns with pd.to_datetime after parsing instead.\n",
      "FutureWarning: Support for nested sequences for 'parse_dates' in pd.read_csv is deprecated. Combine the desired columns with pd.to_datetime after parsing instead.\n",
      "FutureWarning: Support for nested sequences for 'parse_dates' in pd.read_csv is deprecated. Combine the desired columns with pd.to_datetime after parsing instead.\n",
      "FutureWarning: Support for nested sequences for 'parse_dates' in pd.read_csv is deprecated. Combine the desired columns with pd.to_datetime after parsing instead.\n",
      "FutureWarning: Support for nested sequences for 'parse_dates' in pd.read_csv is deprecated. Combine the desired columns with pd.to_datetime after parsing instead.\n",
      "FutureWarning: Support for nested sequences for 'parse_dates' in pd.read_csv is deprecated. Combine the desired columns with pd.to_datetime after parsing instead.\n",
      "FutureWarning: Support for nested sequences for 'parse_dates' in pd.read_csv is deprecated. Combine the desired columns with pd.to_datetime after parsing instead.\n",
      "FutureWarning: Support for nested sequences for 'parse_dates' in pd.read_csv is deprecated. Combine the desired columns with pd.to_datetime after parsing instead.\n",
      "FutureWarning: Support for nested sequences for 'parse_dates' in pd.read_csv is deprecated. Combine the desired columns with pd.to_datetime after parsing instead.\n",
      "FutureWarning: Support for nested sequences for 'parse_dates' in pd.read_csv is deprecated. Combine the desired columns with pd.to_datetime after parsing instead.\n",
      "FutureWarning: Support for nested sequences for 'parse_dates' in pd.read_csv is deprecated. Combine the desired columns with pd.to_datetime after parsing instead.\n",
      "FutureWarning: Support for nested sequences for 'parse_dates' in pd.read_csv is deprecated. Combine the desired columns with pd.to_datetime after parsing instead.\n",
      "FutureWarning: Support for nested sequences for 'parse_dates' in pd.read_csv is deprecated. Combine the desired columns with pd.to_datetime after parsing instead.\n",
      "FutureWarning: Support for nested sequences for 'parse_dates' in pd.read_csv is deprecated. Combine the desired columns with pd.to_datetime after parsing instead.\n",
      "FutureWarning: Support for nested sequences for 'parse_dates' in pd.read_csv is deprecated. Combine the desired columns with pd.to_datetime after parsing instead.\n",
      "FutureWarning: Support for nested sequences for 'parse_dates' in pd.read_csv is deprecated. Combine the desired columns with pd.to_datetime after parsing instead.\n",
      "FutureWarning: Support for nested sequences for 'parse_dates' in pd.read_csv is deprecated. Combine the desired columns with pd.to_datetime after parsing instead.\n",
      "FutureWarning: Support for nested sequences for 'parse_dates' in pd.read_csv is deprecated. Combine the desired columns with pd.to_datetime after parsing instead.\n",
      "FutureWarning: Support for nested sequences for 'parse_dates' in pd.read_csv is deprecated. Combine the desired columns with pd.to_datetime after parsing instead.\n",
      "FutureWarning: Support for nested sequences for 'parse_dates' in pd.read_csv is deprecated. Combine the desired columns with pd.to_datetime after parsing instead.\n",
      "FutureWarning: Support for nested sequences for 'parse_dates' in pd.read_csv is deprecated. Combine the desired columns with pd.to_datetime after parsing instead.\n",
      "FutureWarning: Support for nested sequences for 'parse_dates' in pd.read_csv is deprecated. Combine the desired columns with pd.to_datetime after parsing instead.\n",
      "FutureWarning: Support for nested sequences for 'parse_dates' in pd.read_csv is deprecated. Combine the desired columns with pd.to_datetime after parsing instead.\n",
      "FutureWarning: Support for nested sequences for 'parse_dates' in pd.read_csv is deprecated. Combine the desired columns with pd.to_datetime after parsing instead.\n",
      "FutureWarning: Support for nested sequences for 'parse_dates' in pd.read_csv is deprecated. Combine the desired columns with pd.to_datetime after parsing instead.\n",
      "FutureWarning: Support for nested sequences for 'parse_dates' in pd.read_csv is deprecated. Combine the desired columns with pd.to_datetime after parsing instead.\n",
      "FutureWarning: Support for nested sequences for 'parse_dates' in pd.read_csv is deprecated. Combine the desired columns with pd.to_datetime after parsing instead.\n",
      "FutureWarning: Support for nested sequences for 'parse_dates' in pd.read_csv is deprecated. Combine the desired columns with pd.to_datetime after parsing instead.\n",
      "FutureWarning: Support for nested sequences for 'parse_dates' in pd.read_csv is deprecated. Combine the desired columns with pd.to_datetime after parsing instead.\n",
      "FutureWarning: Support for nested sequences for 'parse_dates' in pd.read_csv is deprecated. Combine the desired columns with pd.to_datetime after parsing instead.\n",
      "FutureWarning: Support for nested sequences for 'parse_dates' in pd.read_csv is deprecated. Combine the desired columns with pd.to_datetime after parsing instead.\n",
      "FutureWarning: Support for nested sequences for 'parse_dates' in pd.read_csv is deprecated. Combine the desired columns with pd.to_datetime after parsing instead.\n",
      "FutureWarning: Support for nested sequences for 'parse_dates' in pd.read_csv is deprecated. Combine the desired columns with pd.to_datetime after parsing instead.\n",
      "FutureWarning: Support for nested sequences for 'parse_dates' in pd.read_csv is deprecated. Combine the desired columns with pd.to_datetime after parsing instead.\n",
      "FutureWarning: Support for nested sequences for 'parse_dates' in pd.read_csv is deprecated. Combine the desired columns with pd.to_datetime after parsing instead.\n",
      "FutureWarning: Support for nested sequences for 'parse_dates' in pd.read_csv is deprecated. Combine the desired columns with pd.to_datetime after parsing instead.\n",
      "FutureWarning: Support for nested sequences for 'parse_dates' in pd.read_csv is deprecated. Combine the desired columns with pd.to_datetime after parsing instead.\n",
      "FutureWarning: Support for nested sequences for 'parse_dates' in pd.read_csv is deprecated. Combine the desired columns with pd.to_datetime after parsing instead.\n",
      "FutureWarning: Support for nested sequences for 'parse_dates' in pd.read_csv is deprecated. Combine the desired columns with pd.to_datetime after parsing instead.\n",
      "FutureWarning: Support for nested sequences for 'parse_dates' in pd.read_csv is deprecated. Combine the desired columns with pd.to_datetime after parsing instead.\n",
      "FutureWarning: Support for nested sequences for 'parse_dates' in pd.read_csv is deprecated. Combine the desired columns with pd.to_datetime after parsing instead.\n",
      "FutureWarning: Support for nested sequences for 'parse_dates' in pd.read_csv is deprecated. Combine the desired columns with pd.to_datetime after parsing instead.\n",
      "FutureWarning: Support for nested sequences for 'parse_dates' in pd.read_csv is deprecated. Combine the desired columns with pd.to_datetime after parsing instead.\n",
      "FutureWarning: Support for nested sequences for 'parse_dates' in pd.read_csv is deprecated. Combine the desired columns with pd.to_datetime after parsing instead.\n",
      "FutureWarning: Support for nested sequences for 'parse_dates' in pd.read_csv is deprecated. Combine the desired columns with pd.to_datetime after parsing instead.\n",
      "FutureWarning: Support for nested sequences for 'parse_dates' in pd.read_csv is deprecated. Combine the desired columns with pd.to_datetime after parsing instead.\n",
      "FutureWarning: Support for nested sequences for 'parse_dates' in pd.read_csv is deprecated. Combine the desired columns with pd.to_datetime after parsing instead.\n",
      "Warning: Cannot load daily/KBUB0.csv.gz from https://bulk.meteostat.net/v2/\n",
      "FutureWarning: Support for nested sequences for 'parse_dates' in pd.read_csv is deprecated. Combine the desired columns with pd.to_datetime after parsing instead.\n",
      "FutureWarning: Support for nested sequences for 'parse_dates' in pd.read_csv is deprecated. Combine the desired columns with pd.to_datetime after parsing instead.\n",
      "FutureWarning: Support for nested sequences for 'parse_dates' in pd.read_csv is deprecated. Combine the desired columns with pd.to_datetime after parsing instead.\n",
      "FutureWarning: Support for nested sequences for 'parse_dates' in pd.read_csv is deprecated. Combine the desired columns with pd.to_datetime after parsing instead.\n",
      "FutureWarning: Support for nested sequences for 'parse_dates' in pd.read_csv is deprecated. Combine the desired columns with pd.to_datetime after parsing instead.\n",
      "FutureWarning: Support for nested sequences for 'parse_dates' in pd.read_csv is deprecated. Combine the desired columns with pd.to_datetime after parsing instead.\n",
      "FutureWarning: Support for nested sequences for 'parse_dates' in pd.read_csv is deprecated. Combine the desired columns with pd.to_datetime after parsing instead.\n",
      "FutureWarning: Support for nested sequences for 'parse_dates' in pd.read_csv is deprecated. Combine the desired columns with pd.to_datetime after parsing instead.\n",
      "FutureWarning: Support for nested sequences for 'parse_dates' in pd.read_csv is deprecated. Combine the desired columns with pd.to_datetime after parsing instead.\n",
      "FutureWarning: Support for nested sequences for 'parse_dates' in pd.read_csv is deprecated. Combine the desired columns with pd.to_datetime after parsing instead.\n",
      "FutureWarning: Support for nested sequences for 'parse_dates' in pd.read_csv is deprecated. Combine the desired columns with pd.to_datetime after parsing instead.\n",
      "FutureWarning: Support for nested sequences for 'parse_dates' in pd.read_csv is deprecated. Combine the desired columns with pd.to_datetime after parsing instead.\n",
      "FutureWarning: Support for nested sequences for 'parse_dates' in pd.read_csv is deprecated. Combine the desired columns with pd.to_datetime after parsing instead.\n",
      "FutureWarning: Support for nested sequences for 'parse_dates' in pd.read_csv is deprecated. Combine the desired columns with pd.to_datetime after parsing instead.\n",
      "FutureWarning: Support for nested sequences for 'parse_dates' in pd.read_csv is deprecated. Combine the desired columns with pd.to_datetime after parsing instead.\n",
      "FutureWarning: Support for nested sequences for 'parse_dates' in pd.read_csv is deprecated. Combine the desired columns with pd.to_datetime after parsing instead.\n",
      "FutureWarning: Support for nested sequences for 'parse_dates' in pd.read_csv is deprecated. Combine the desired columns with pd.to_datetime after parsing instead.\n",
      "FutureWarning: Support for nested sequences for 'parse_dates' in pd.read_csv is deprecated. Combine the desired columns with pd.to_datetime after parsing instead.\n",
      "FutureWarning: Support for nested sequences for 'parse_dates' in pd.read_csv is deprecated. Combine the desired columns with pd.to_datetime after parsing instead.\n",
      "FutureWarning: Support for nested sequences for 'parse_dates' in pd.read_csv is deprecated. Combine the desired columns with pd.to_datetime after parsing instead.\n",
      "FutureWarning: Support for nested sequences for 'parse_dates' in pd.read_csv is deprecated. Combine the desired columns with pd.to_datetime after parsing instead.\n",
      "FutureWarning: Support for nested sequences for 'parse_dates' in pd.read_csv is deprecated. Combine the desired columns with pd.to_datetime after parsing instead.\n",
      "FutureWarning: Support for nested sequences for 'parse_dates' in pd.read_csv is deprecated. Combine the desired columns with pd.to_datetime after parsing instead.\n",
      "FutureWarning: Support for nested sequences for 'parse_dates' in pd.read_csv is deprecated. Combine the desired columns with pd.to_datetime after parsing instead.\n",
      "FutureWarning: Support for nested sequences for 'parse_dates' in pd.read_csv is deprecated. Combine the desired columns with pd.to_datetime after parsing instead.\n",
      "FutureWarning: Support for nested sequences for 'parse_dates' in pd.read_csv is deprecated. Combine the desired columns with pd.to_datetime after parsing instead.\n",
      "FutureWarning: Support for nested sequences for 'parse_dates' in pd.read_csv is deprecated. Combine the desired columns with pd.to_datetime after parsing instead.\n",
      "FutureWarning: Support for nested sequences for 'parse_dates' in pd.read_csv is deprecated. Combine the desired columns with pd.to_datetime after parsing instead.\n",
      "FutureWarning: Support for nested sequences for 'parse_dates' in pd.read_csv is deprecated. Combine the desired columns with pd.to_datetime after parsing instead.\n",
      "FutureWarning: Support for nested sequences for 'parse_dates' in pd.read_csv is deprecated. Combine the desired columns with pd.to_datetime after parsing instead.\n",
      "FutureWarning: Support for nested sequences for 'parse_dates' in pd.read_csv is deprecated. Combine the desired columns with pd.to_datetime after parsing instead.\n",
      "FutureWarning: Support for nested sequences for 'parse_dates' in pd.read_csv is deprecated. Combine the desired columns with pd.to_datetime after parsing instead.\n",
      "FutureWarning: Support for nested sequences for 'parse_dates' in pd.read_csv is deprecated. Combine the desired columns with pd.to_datetime after parsing instead.\n",
      "FutureWarning: Support for nested sequences for 'parse_dates' in pd.read_csv is deprecated. Combine the desired columns with pd.to_datetime after parsing instead.\n",
      "FutureWarning: Support for nested sequences for 'parse_dates' in pd.read_csv is deprecated. Combine the desired columns with pd.to_datetime after parsing instead.\n",
      "FutureWarning: Support for nested sequences for 'parse_dates' in pd.read_csv is deprecated. Combine the desired columns with pd.to_datetime after parsing instead.\n",
      "FutureWarning: Support for nested sequences for 'parse_dates' in pd.read_csv is deprecated. Combine the desired columns with pd.to_datetime after parsing instead.\n",
      "FutureWarning: Support for nested sequences for 'parse_dates' in pd.read_csv is deprecated. Combine the desired columns with pd.to_datetime after parsing instead.\n",
      "FutureWarning: Support for nested sequences for 'parse_dates' in pd.read_csv is deprecated. Combine the desired columns with pd.to_datetime after parsing instead.\n",
      "FutureWarning: Support for nested sequences for 'parse_dates' in pd.read_csv is deprecated. Combine the desired columns with pd.to_datetime after parsing instead.\n",
      "FutureWarning: Support for nested sequences for 'parse_dates' in pd.read_csv is deprecated. Combine the desired columns with pd.to_datetime after parsing instead.\n",
      "FutureWarning: Support for nested sequences for 'parse_dates' in pd.read_csv is deprecated. Combine the desired columns with pd.to_datetime after parsing instead.\n",
      "FutureWarning: Support for nested sequences for 'parse_dates' in pd.read_csv is deprecated. Combine the desired columns with pd.to_datetime after parsing instead.\n",
      "FutureWarning: Support for nested sequences for 'parse_dates' in pd.read_csv is deprecated. Combine the desired columns with pd.to_datetime after parsing instead.\n",
      "FutureWarning: Support for nested sequences for 'parse_dates' in pd.read_csv is deprecated. Combine the desired columns with pd.to_datetime after parsing instead.\n",
      "FutureWarning: Support for nested sequences for 'parse_dates' in pd.read_csv is deprecated. Combine the desired columns with pd.to_datetime after parsing instead.\n",
      "FutureWarning: Support for nested sequences for 'parse_dates' in pd.read_csv is deprecated. Combine the desired columns with pd.to_datetime after parsing instead.\n",
      "FutureWarning: Support for nested sequences for 'parse_dates' in pd.read_csv is deprecated. Combine the desired columns with pd.to_datetime after parsing instead.\n",
      "FutureWarning: Support for nested sequences for 'parse_dates' in pd.read_csv is deprecated. Combine the desired columns with pd.to_datetime after parsing instead.\n",
      "FutureWarning: Support for nested sequences for 'parse_dates' in pd.read_csv is deprecated. Combine the desired columns with pd.to_datetime after parsing instead.\n",
      "FutureWarning: Support for nested sequences for 'parse_dates' in pd.read_csv is deprecated. Combine the desired columns with pd.to_datetime after parsing instead.\n",
      "FutureWarning: Support for nested sequences for 'parse_dates' in pd.read_csv is deprecated. Combine the desired columns with pd.to_datetime after parsing instead.\n",
      "FutureWarning: Support for nested sequences for 'parse_dates' in pd.read_csv is deprecated. Combine the desired columns with pd.to_datetime after parsing instead.\n",
      "FutureWarning: Support for nested sequences for 'parse_dates' in pd.read_csv is deprecated. Combine the desired columns with pd.to_datetime after parsing instead.\n",
      "FutureWarning: Support for nested sequences for 'parse_dates' in pd.read_csv is deprecated. Combine the desired columns with pd.to_datetime after parsing instead.\n",
      "FutureWarning: Support for nested sequences for 'parse_dates' in pd.read_csv is deprecated. Combine the desired columns with pd.to_datetime after parsing instead.\n",
      "FutureWarning: Support for nested sequences for 'parse_dates' in pd.read_csv is deprecated. Combine the desired columns with pd.to_datetime after parsing instead.\n",
      "FutureWarning: Support for nested sequences for 'parse_dates' in pd.read_csv is deprecated. Combine the desired columns with pd.to_datetime after parsing instead.\n",
      "FutureWarning: Support for nested sequences for 'parse_dates' in pd.read_csv is deprecated. Combine the desired columns with pd.to_datetime after parsing instead.\n",
      "FutureWarning: Support for nested sequences for 'parse_dates' in pd.read_csv is deprecated. Combine the desired columns with pd.to_datetime after parsing instead.\n",
      "FutureWarning: Support for nested sequences for 'parse_dates' in pd.read_csv is deprecated. Combine the desired columns with pd.to_datetime after parsing instead.\n",
      "FutureWarning: Support for nested sequences for 'parse_dates' in pd.read_csv is deprecated. Combine the desired columns with pd.to_datetime after parsing instead.\n",
      "FutureWarning: Support for nested sequences for 'parse_dates' in pd.read_csv is deprecated. Combine the desired columns with pd.to_datetime after parsing instead.\n",
      "FutureWarning: Support for nested sequences for 'parse_dates' in pd.read_csv is deprecated. Combine the desired columns with pd.to_datetime after parsing instead.\n",
      "FutureWarning: Support for nested sequences for 'parse_dates' in pd.read_csv is deprecated. Combine the desired columns with pd.to_datetime after parsing instead.\n",
      "FutureWarning: Support for nested sequences for 'parse_dates' in pd.read_csv is deprecated. Combine the desired columns with pd.to_datetime after parsing instead.\n",
      "FutureWarning: Support for nested sequences for 'parse_dates' in pd.read_csv is deprecated. Combine the desired columns with pd.to_datetime after parsing instead.\n",
      "FutureWarning: Support for nested sequences for 'parse_dates' in pd.read_csv is deprecated. Combine the desired columns with pd.to_datetime after parsing instead.\n",
      "FutureWarning: Support for nested sequences for 'parse_dates' in pd.read_csv is deprecated. Combine the desired columns with pd.to_datetime after parsing instead.\n",
      "FutureWarning: Support for nested sequences for 'parse_dates' in pd.read_csv is deprecated. Combine the desired columns with pd.to_datetime after parsing instead.\n",
      "FutureWarning: Support for nested sequences for 'parse_dates' in pd.read_csv is deprecated. Combine the desired columns with pd.to_datetime after parsing instead.\n",
      "FutureWarning: Support for nested sequences for 'parse_dates' in pd.read_csv is deprecated. Combine the desired columns with pd.to_datetime after parsing instead.\n",
      "FutureWarning: Support for nested sequences for 'parse_dates' in pd.read_csv is deprecated. Combine the desired columns with pd.to_datetime after parsing instead.\n",
      "FutureWarning: Support for nested sequences for 'parse_dates' in pd.read_csv is deprecated. Combine the desired columns with pd.to_datetime after parsing instead.\n",
      "FutureWarning: Support for nested sequences for 'parse_dates' in pd.read_csv is deprecated. Combine the desired columns with pd.to_datetime after parsing instead.\n",
      "FutureWarning: Support for nested sequences for 'parse_dates' in pd.read_csv is deprecated. Combine the desired columns with pd.to_datetime after parsing instead.\n",
      "FutureWarning: Support for nested sequences for 'parse_dates' in pd.read_csv is deprecated. Combine the desired columns with pd.to_datetime after parsing instead.\n",
      "FutureWarning: Support for nested sequences for 'parse_dates' in pd.read_csv is deprecated. Combine the desired columns with pd.to_datetime after parsing instead.\n",
      "FutureWarning: Support for nested sequences for 'parse_dates' in pd.read_csv is deprecated. Combine the desired columns with pd.to_datetime after parsing instead.\n",
      "Warning: Cannot load daily/KCZD0.csv.gz from https://bulk.meteostat.net/v2/\n",
      "FutureWarning: Support for nested sequences for 'parse_dates' in pd.read_csv is deprecated. Combine the desired columns with pd.to_datetime after parsing instead.\n",
      "FutureWarning: Support for nested sequences for 'parse_dates' in pd.read_csv is deprecated. Combine the desired columns with pd.to_datetime after parsing instead.\n",
      "FutureWarning: Support for nested sequences for 'parse_dates' in pd.read_csv is deprecated. Combine the desired columns with pd.to_datetime after parsing instead.\n",
      "FutureWarning: Support for nested sequences for 'parse_dates' in pd.read_csv is deprecated. Combine the desired columns with pd.to_datetime after parsing instead.\n",
      "FutureWarning: Support for nested sequences for 'parse_dates' in pd.read_csv is deprecated. Combine the desired columns with pd.to_datetime after parsing instead.\n",
      "FutureWarning: Support for nested sequences for 'parse_dates' in pd.read_csv is deprecated. Combine the desired columns with pd.to_datetime after parsing instead.\n",
      "FutureWarning: Support for nested sequences for 'parse_dates' in pd.read_csv is deprecated. Combine the desired columns with pd.to_datetime after parsing instead.\n",
      "FutureWarning: Support for nested sequences for 'parse_dates' in pd.read_csv is deprecated. Combine the desired columns with pd.to_datetime after parsing instead.\n",
      "FutureWarning: Support for nested sequences for 'parse_dates' in pd.read_csv is deprecated. Combine the desired columns with pd.to_datetime after parsing instead.\n",
      "FutureWarning: Support for nested sequences for 'parse_dates' in pd.read_csv is deprecated. Combine the desired columns with pd.to_datetime after parsing instead.\n",
      "FutureWarning: Support for nested sequences for 'parse_dates' in pd.read_csv is deprecated. Combine the desired columns with pd.to_datetime after parsing instead.\n",
      "FutureWarning: Support for nested sequences for 'parse_dates' in pd.read_csv is deprecated. Combine the desired columns with pd.to_datetime after parsing instead.\n",
      "FutureWarning: Support for nested sequences for 'parse_dates' in pd.read_csv is deprecated. Combine the desired columns with pd.to_datetime after parsing instead.\n",
      "FutureWarning: Support for nested sequences for 'parse_dates' in pd.read_csv is deprecated. Combine the desired columns with pd.to_datetime after parsing instead.\n",
      "FutureWarning: Support for nested sequences for 'parse_dates' in pd.read_csv is deprecated. Combine the desired columns with pd.to_datetime after parsing instead.\n",
      "FutureWarning: Support for nested sequences for 'parse_dates' in pd.read_csv is deprecated. Combine the desired columns with pd.to_datetime after parsing instead.\n",
      "FutureWarning: Support for nested sequences for 'parse_dates' in pd.read_csv is deprecated. Combine the desired columns with pd.to_datetime after parsing instead.\n",
      "FutureWarning: Support for nested sequences for 'parse_dates' in pd.read_csv is deprecated. Combine the desired columns with pd.to_datetime after parsing instead.\n",
      "FutureWarning: Support for nested sequences for 'parse_dates' in pd.read_csv is deprecated. Combine the desired columns with pd.to_datetime after parsing instead.\n",
      "FutureWarning: Support for nested sequences for 'parse_dates' in pd.read_csv is deprecated. Combine the desired columns with pd.to_datetime after parsing instead.\n",
      "FutureWarning: Support for nested sequences for 'parse_dates' in pd.read_csv is deprecated. Combine the desired columns with pd.to_datetime after parsing instead.\n",
      "FutureWarning: Support for nested sequences for 'parse_dates' in pd.read_csv is deprecated. Combine the desired columns with pd.to_datetime after parsing instead.\n",
      "FutureWarning: Support for nested sequences for 'parse_dates' in pd.read_csv is deprecated. Combine the desired columns with pd.to_datetime after parsing instead.\n",
      "FutureWarning: Support for nested sequences for 'parse_dates' in pd.read_csv is deprecated. Combine the desired columns with pd.to_datetime after parsing instead.\n",
      "FutureWarning: Support for nested sequences for 'parse_dates' in pd.read_csv is deprecated. Combine the desired columns with pd.to_datetime after parsing instead.\n",
      "FutureWarning: Support for nested sequences for 'parse_dates' in pd.read_csv is deprecated. Combine the desired columns with pd.to_datetime after parsing instead.\n",
      "FutureWarning: Support for nested sequences for 'parse_dates' in pd.read_csv is deprecated. Combine the desired columns with pd.to_datetime after parsing instead.\n",
      "FutureWarning: Support for nested sequences for 'parse_dates' in pd.read_csv is deprecated. Combine the desired columns with pd.to_datetime after parsing instead.\n",
      "FutureWarning: Support for nested sequences for 'parse_dates' in pd.read_csv is deprecated. Combine the desired columns with pd.to_datetime after parsing instead.\n",
      "FutureWarning: Support for nested sequences for 'parse_dates' in pd.read_csv is deprecated. Combine the desired columns with pd.to_datetime after parsing instead.\n",
      "FutureWarning: Support for nested sequences for 'parse_dates' in pd.read_csv is deprecated. Combine the desired columns with pd.to_datetime after parsing instead.\n",
      "FutureWarning: Support for nested sequences for 'parse_dates' in pd.read_csv is deprecated. Combine the desired columns with pd.to_datetime after parsing instead.\n",
      "FutureWarning: Support for nested sequences for 'parse_dates' in pd.read_csv is deprecated. Combine the desired columns with pd.to_datetime after parsing instead.\n",
      "FutureWarning: Support for nested sequences for 'parse_dates' in pd.read_csv is deprecated. Combine the desired columns with pd.to_datetime after parsing instead.\n",
      "FutureWarning: Support for nested sequences for 'parse_dates' in pd.read_csv is deprecated. Combine the desired columns with pd.to_datetime after parsing instead.\n",
      "FutureWarning: Support for nested sequences for 'parse_dates' in pd.read_csv is deprecated. Combine the desired columns with pd.to_datetime after parsing instead.\n",
      "FutureWarning: Support for nested sequences for 'parse_dates' in pd.read_csv is deprecated. Combine the desired columns with pd.to_datetime after parsing instead.\n",
      "FutureWarning: Support for nested sequences for 'parse_dates' in pd.read_csv is deprecated. Combine the desired columns with pd.to_datetime after parsing instead.\n",
      "FutureWarning: Support for nested sequences for 'parse_dates' in pd.read_csv is deprecated. Combine the desired columns with pd.to_datetime after parsing instead.\n",
      "FutureWarning: Support for nested sequences for 'parse_dates' in pd.read_csv is deprecated. Combine the desired columns with pd.to_datetime after parsing instead.\n",
      "FutureWarning: Support for nested sequences for 'parse_dates' in pd.read_csv is deprecated. Combine the desired columns with pd.to_datetime after parsing instead.\n",
      "FutureWarning: Support for nested sequences for 'parse_dates' in pd.read_csv is deprecated. Combine the desired columns with pd.to_datetime after parsing instead.\n",
      "FutureWarning: Support for nested sequences for 'parse_dates' in pd.read_csv is deprecated. Combine the desired columns with pd.to_datetime after parsing instead.\n",
      "FutureWarning: Support for nested sequences for 'parse_dates' in pd.read_csv is deprecated. Combine the desired columns with pd.to_datetime after parsing instead.\n",
      "FutureWarning: Support for nested sequences for 'parse_dates' in pd.read_csv is deprecated. Combine the desired columns with pd.to_datetime after parsing instead.\n",
      "FutureWarning: Support for nested sequences for 'parse_dates' in pd.read_csv is deprecated. Combine the desired columns with pd.to_datetime after parsing instead.\n",
      "FutureWarning: Support for nested sequences for 'parse_dates' in pd.read_csv is deprecated. Combine the desired columns with pd.to_datetime after parsing instead.\n",
      "FutureWarning: Support for nested sequences for 'parse_dates' in pd.read_csv is deprecated. Combine the desired columns with pd.to_datetime after parsing instead.\n",
      "FutureWarning: Support for nested sequences for 'parse_dates' in pd.read_csv is deprecated. Combine the desired columns with pd.to_datetime after parsing instead.\n",
      "FutureWarning: Support for nested sequences for 'parse_dates' in pd.read_csv is deprecated. Combine the desired columns with pd.to_datetime after parsing instead.\n",
      "FutureWarning: Support for nested sequences for 'parse_dates' in pd.read_csv is deprecated. Combine the desired columns with pd.to_datetime after parsing instead.\n",
      "FutureWarning: Support for nested sequences for 'parse_dates' in pd.read_csv is deprecated. Combine the desired columns with pd.to_datetime after parsing instead.\n",
      "FutureWarning: Support for nested sequences for 'parse_dates' in pd.read_csv is deprecated. Combine the desired columns with pd.to_datetime after parsing instead.\n",
      "FutureWarning: Support for nested sequences for 'parse_dates' in pd.read_csv is deprecated. Combine the desired columns with pd.to_datetime after parsing instead.\n",
      "FutureWarning: Support for nested sequences for 'parse_dates' in pd.read_csv is deprecated. Combine the desired columns with pd.to_datetime after parsing instead.\n",
      "FutureWarning: Support for nested sequences for 'parse_dates' in pd.read_csv is deprecated. Combine the desired columns with pd.to_datetime after parsing instead.\n",
      "FutureWarning: Support for nested sequences for 'parse_dates' in pd.read_csv is deprecated. Combine the desired columns with pd.to_datetime after parsing instead.\n",
      "FutureWarning: Support for nested sequences for 'parse_dates' in pd.read_csv is deprecated. Combine the desired columns with pd.to_datetime after parsing instead.\n",
      "FutureWarning: Support for nested sequences for 'parse_dates' in pd.read_csv is deprecated. Combine the desired columns with pd.to_datetime after parsing instead.\n",
      "FutureWarning: Support for nested sequences for 'parse_dates' in pd.read_csv is deprecated. Combine the desired columns with pd.to_datetime after parsing instead.\n",
      "FutureWarning: Support for nested sequences for 'parse_dates' in pd.read_csv is deprecated. Combine the desired columns with pd.to_datetime after parsing instead.\n",
      "FutureWarning: Support for nested sequences for 'parse_dates' in pd.read_csv is deprecated. Combine the desired columns with pd.to_datetime after parsing instead.\n",
      "FutureWarning: Support for nested sequences for 'parse_dates' in pd.read_csv is deprecated. Combine the desired columns with pd.to_datetime after parsing instead.\n",
      "FutureWarning: Support for nested sequences for 'parse_dates' in pd.read_csv is deprecated. Combine the desired columns with pd.to_datetime after parsing instead.\n",
      "FutureWarning: Support for nested sequences for 'parse_dates' in pd.read_csv is deprecated. Combine the desired columns with pd.to_datetime after parsing instead.\n",
      "FutureWarning: Support for nested sequences for 'parse_dates' in pd.read_csv is deprecated. Combine the desired columns with pd.to_datetime after parsing instead.\n",
      "FutureWarning: Support for nested sequences for 'parse_dates' in pd.read_csv is deprecated. Combine the desired columns with pd.to_datetime after parsing instead.\n",
      "FutureWarning: Support for nested sequences for 'parse_dates' in pd.read_csv is deprecated. Combine the desired columns with pd.to_datetime after parsing instead.\n",
      "FutureWarning: Support for nested sequences for 'parse_dates' in pd.read_csv is deprecated. Combine the desired columns with pd.to_datetime after parsing instead.\n",
      "FutureWarning: Support for nested sequences for 'parse_dates' in pd.read_csv is deprecated. Combine the desired columns with pd.to_datetime after parsing instead.\n",
      "FutureWarning: Support for nested sequences for 'parse_dates' in pd.read_csv is deprecated. Combine the desired columns with pd.to_datetime after parsing instead.\n",
      "FutureWarning: Support for nested sequences for 'parse_dates' in pd.read_csv is deprecated. Combine the desired columns with pd.to_datetime after parsing instead.\n",
      "FutureWarning: Support for nested sequences for 'parse_dates' in pd.read_csv is deprecated. Combine the desired columns with pd.to_datetime after parsing instead.\n",
      "FutureWarning: Support for nested sequences for 'parse_dates' in pd.read_csv is deprecated. Combine the desired columns with pd.to_datetime after parsing instead.\n",
      "FutureWarning: Support for nested sequences for 'parse_dates' in pd.read_csv is deprecated. Combine the desired columns with pd.to_datetime after parsing instead.\n",
      "FutureWarning: Support for nested sequences for 'parse_dates' in pd.read_csv is deprecated. Combine the desired columns with pd.to_datetime after parsing instead.\n",
      "FutureWarning: Support for nested sequences for 'parse_dates' in pd.read_csv is deprecated. Combine the desired columns with pd.to_datetime after parsing instead.\n",
      "FutureWarning: Support for nested sequences for 'parse_dates' in pd.read_csv is deprecated. Combine the desired columns with pd.to_datetime after parsing instead.\n",
      "FutureWarning: Support for nested sequences for 'parse_dates' in pd.read_csv is deprecated. Combine the desired columns with pd.to_datetime after parsing instead.\n",
      "FutureWarning: Support for nested sequences for 'parse_dates' in pd.read_csv is deprecated. Combine the desired columns with pd.to_datetime after parsing instead.\n",
      "FutureWarning: Support for nested sequences for 'parse_dates' in pd.read_csv is deprecated. Combine the desired columns with pd.to_datetime after parsing instead.\n",
      "FutureWarning: Support for nested sequences for 'parse_dates' in pd.read_csv is deprecated. Combine the desired columns with pd.to_datetime after parsing instead.\n",
      "FutureWarning: Support for nested sequences for 'parse_dates' in pd.read_csv is deprecated. Combine the desired columns with pd.to_datetime after parsing instead.\n",
      "FutureWarning: Support for nested sequences for 'parse_dates' in pd.read_csv is deprecated. Combine the desired columns with pd.to_datetime after parsing instead.\n",
      "FutureWarning: Support for nested sequences for 'parse_dates' in pd.read_csv is deprecated. Combine the desired columns with pd.to_datetime after parsing instead.\n",
      "FutureWarning: Support for nested sequences for 'parse_dates' in pd.read_csv is deprecated. Combine the desired columns with pd.to_datetime after parsing instead.\n",
      "FutureWarning: Support for nested sequences for 'parse_dates' in pd.read_csv is deprecated. Combine the desired columns with pd.to_datetime after parsing instead.\n",
      "FutureWarning: Support for nested sequences for 'parse_dates' in pd.read_csv is deprecated. Combine the desired columns with pd.to_datetime after parsing instead.\n",
      "FutureWarning: Support for nested sequences for 'parse_dates' in pd.read_csv is deprecated. Combine the desired columns with pd.to_datetime after parsing instead.\n",
      "FutureWarning: Support for nested sequences for 'parse_dates' in pd.read_csv is deprecated. Combine the desired columns with pd.to_datetime after parsing instead.\n",
      "FutureWarning: Support for nested sequences for 'parse_dates' in pd.read_csv is deprecated. Combine the desired columns with pd.to_datetime after parsing instead.\n",
      "FutureWarning: Support for nested sequences for 'parse_dates' in pd.read_csv is deprecated. Combine the desired columns with pd.to_datetime after parsing instead.\n",
      "FutureWarning: Support for nested sequences for 'parse_dates' in pd.read_csv is deprecated. Combine the desired columns with pd.to_datetime after parsing instead.\n",
      "FutureWarning: Support for nested sequences for 'parse_dates' in pd.read_csv is deprecated. Combine the desired columns with pd.to_datetime after parsing instead.\n",
      "FutureWarning: Support for nested sequences for 'parse_dates' in pd.read_csv is deprecated. Combine the desired columns with pd.to_datetime after parsing instead.\n",
      "FutureWarning: Support for nested sequences for 'parse_dates' in pd.read_csv is deprecated. Combine the desired columns with pd.to_datetime after parsing instead.\n",
      "FutureWarning: Support for nested sequences for 'parse_dates' in pd.read_csv is deprecated. Combine the desired columns with pd.to_datetime after parsing instead.\n",
      "FutureWarning: Support for nested sequences for 'parse_dates' in pd.read_csv is deprecated. Combine the desired columns with pd.to_datetime after parsing instead.\n",
      "FutureWarning: Support for nested sequences for 'parse_dates' in pd.read_csv is deprecated. Combine the desired columns with pd.to_datetime after parsing instead.\n",
      "FutureWarning: Support for nested sequences for 'parse_dates' in pd.read_csv is deprecated. Combine the desired columns with pd.to_datetime after parsing instead.\n",
      "FutureWarning: Support for nested sequences for 'parse_dates' in pd.read_csv is deprecated. Combine the desired columns with pd.to_datetime after parsing instead.\n",
      "FutureWarning: Support for nested sequences for 'parse_dates' in pd.read_csv is deprecated. Combine the desired columns with pd.to_datetime after parsing instead.\n",
      "FutureWarning: Support for nested sequences for 'parse_dates' in pd.read_csv is deprecated. Combine the desired columns with pd.to_datetime after parsing instead.\n",
      "FutureWarning: Support for nested sequences for 'parse_dates' in pd.read_csv is deprecated. Combine the desired columns with pd.to_datetime after parsing instead.\n",
      "FutureWarning: Support for nested sequences for 'parse_dates' in pd.read_csv is deprecated. Combine the desired columns with pd.to_datetime after parsing instead.\n",
      "FutureWarning: Support for nested sequences for 'parse_dates' in pd.read_csv is deprecated. Combine the desired columns with pd.to_datetime after parsing instead.\n",
      "FutureWarning: Support for nested sequences for 'parse_dates' in pd.read_csv is deprecated. Combine the desired columns with pd.to_datetime after parsing instead.\n",
      "FutureWarning: Support for nested sequences for 'parse_dates' in pd.read_csv is deprecated. Combine the desired columns with pd.to_datetime after parsing instead.\n",
      "FutureWarning: Support for nested sequences for 'parse_dates' in pd.read_csv is deprecated. Combine the desired columns with pd.to_datetime after parsing instead.\n",
      "FutureWarning: Support for nested sequences for 'parse_dates' in pd.read_csv is deprecated. Combine the desired columns with pd.to_datetime after parsing instead.\n",
      "FutureWarning: Support for nested sequences for 'parse_dates' in pd.read_csv is deprecated. Combine the desired columns with pd.to_datetime after parsing instead.\n",
      "FutureWarning: Support for nested sequences for 'parse_dates' in pd.read_csv is deprecated. Combine the desired columns with pd.to_datetime after parsing instead.\n",
      "FutureWarning: Support for nested sequences for 'parse_dates' in pd.read_csv is deprecated. Combine the desired columns with pd.to_datetime after parsing instead.\n",
      "FutureWarning: Support for nested sequences for 'parse_dates' in pd.read_csv is deprecated. Combine the desired columns with pd.to_datetime after parsing instead.\n",
      "FutureWarning: Support for nested sequences for 'parse_dates' in pd.read_csv is deprecated. Combine the desired columns with pd.to_datetime after parsing instead.\n",
      "FutureWarning: Support for nested sequences for 'parse_dates' in pd.read_csv is deprecated. Combine the desired columns with pd.to_datetime after parsing instead.\n",
      "FutureWarning: Support for nested sequences for 'parse_dates' in pd.read_csv is deprecated. Combine the desired columns with pd.to_datetime after parsing instead.\n",
      "FutureWarning: Support for nested sequences for 'parse_dates' in pd.read_csv is deprecated. Combine the desired columns with pd.to_datetime after parsing instead.\n",
      "FutureWarning: Support for nested sequences for 'parse_dates' in pd.read_csv is deprecated. Combine the desired columns with pd.to_datetime after parsing instead.\n",
      "FutureWarning: Support for nested sequences for 'parse_dates' in pd.read_csv is deprecated. Combine the desired columns with pd.to_datetime after parsing instead.\n",
      "FutureWarning: Support for nested sequences for 'parse_dates' in pd.read_csv is deprecated. Combine the desired columns with pd.to_datetime after parsing instead.\n",
      "FutureWarning: Support for nested sequences for 'parse_dates' in pd.read_csv is deprecated. Combine the desired columns with pd.to_datetime after parsing instead.\n",
      "FutureWarning: Support for nested sequences for 'parse_dates' in pd.read_csv is deprecated. Combine the desired columns with pd.to_datetime after parsing instead.\n",
      "FutureWarning: Support for nested sequences for 'parse_dates' in pd.read_csv is deprecated. Combine the desired columns with pd.to_datetime after parsing instead.\n",
      "FutureWarning: Support for nested sequences for 'parse_dates' in pd.read_csv is deprecated. Combine the desired columns with pd.to_datetime after parsing instead.\n",
      "FutureWarning: Support for nested sequences for 'parse_dates' in pd.read_csv is deprecated. Combine the desired columns with pd.to_datetime after parsing instead.\n",
      "FutureWarning: Support for nested sequences for 'parse_dates' in pd.read_csv is deprecated. Combine the desired columns with pd.to_datetime after parsing instead.\n",
      "FutureWarning: Support for nested sequences for 'parse_dates' in pd.read_csv is deprecated. Combine the desired columns with pd.to_datetime after parsing instead.\n",
      "FutureWarning: Support for nested sequences for 'parse_dates' in pd.read_csv is deprecated. Combine the desired columns with pd.to_datetime after parsing instead.\n",
      "FutureWarning: Support for nested sequences for 'parse_dates' in pd.read_csv is deprecated. Combine the desired columns with pd.to_datetime after parsing instead.\n",
      "FutureWarning: Support for nested sequences for 'parse_dates' in pd.read_csv is deprecated. Combine the desired columns with pd.to_datetime after parsing instead.\n",
      "FutureWarning: Support for nested sequences for 'parse_dates' in pd.read_csv is deprecated. Combine the desired columns with pd.to_datetime after parsing instead.\n",
      "FutureWarning: Support for nested sequences for 'parse_dates' in pd.read_csv is deprecated. Combine the desired columns with pd.to_datetime after parsing instead.\n",
      "FutureWarning: Support for nested sequences for 'parse_dates' in pd.read_csv is deprecated. Combine the desired columns with pd.to_datetime after parsing instead.\n",
      "FutureWarning: Support for nested sequences for 'parse_dates' in pd.read_csv is deprecated. Combine the desired columns with pd.to_datetime after parsing instead.\n",
      "FutureWarning: Support for nested sequences for 'parse_dates' in pd.read_csv is deprecated. Combine the desired columns with pd.to_datetime after parsing instead.\n",
      "FutureWarning: Support for nested sequences for 'parse_dates' in pd.read_csv is deprecated. Combine the desired columns with pd.to_datetime after parsing instead.\n",
      "FutureWarning: Support for nested sequences for 'parse_dates' in pd.read_csv is deprecated. Combine the desired columns with pd.to_datetime after parsing instead.\n",
      "FutureWarning: Support for nested sequences for 'parse_dates' in pd.read_csv is deprecated. Combine the desired columns with pd.to_datetime after parsing instead.\n",
      "FutureWarning: Support for nested sequences for 'parse_dates' in pd.read_csv is deprecated. Combine the desired columns with pd.to_datetime after parsing instead.\n",
      "FutureWarning: Support for nested sequences for 'parse_dates' in pd.read_csv is deprecated. Combine the desired columns with pd.to_datetime after parsing instead.\n",
      "FutureWarning: Support for nested sequences for 'parse_dates' in pd.read_csv is deprecated. Combine the desired columns with pd.to_datetime after parsing instead.\n",
      "FutureWarning: Support for nested sequences for 'parse_dates' in pd.read_csv is deprecated. Combine the desired columns with pd.to_datetime after parsing instead.\n",
      "FutureWarning: Support for nested sequences for 'parse_dates' in pd.read_csv is deprecated. Combine the desired columns with pd.to_datetime after parsing instead.\n",
      "FutureWarning: Support for nested sequences for 'parse_dates' in pd.read_csv is deprecated. Combine the desired columns with pd.to_datetime after parsing instead.\n",
      "FutureWarning: Support for nested sequences for 'parse_dates' in pd.read_csv is deprecated. Combine the desired columns with pd.to_datetime after parsing instead.\n",
      "FutureWarning: Support for nested sequences for 'parse_dates' in pd.read_csv is deprecated. Combine the desired columns with pd.to_datetime after parsing instead.\n",
      "FutureWarning: Support for nested sequences for 'parse_dates' in pd.read_csv is deprecated. Combine the desired columns with pd.to_datetime after parsing instead.\n",
      "FutureWarning: Support for nested sequences for 'parse_dates' in pd.read_csv is deprecated. Combine the desired columns with pd.to_datetime after parsing instead.\n",
      "FutureWarning: Support for nested sequences for 'parse_dates' in pd.read_csv is deprecated. Combine the desired columns with pd.to_datetime after parsing instead.\n",
      "FutureWarning: Support for nested sequences for 'parse_dates' in pd.read_csv is deprecated. Combine the desired columns with pd.to_datetime after parsing instead.\n",
      "FutureWarning: Support for nested sequences for 'parse_dates' in pd.read_csv is deprecated. Combine the desired columns with pd.to_datetime after parsing instead.\n",
      "FutureWarning: Support for nested sequences for 'parse_dates' in pd.read_csv is deprecated. Combine the desired columns with pd.to_datetime after parsing instead.\n",
      "FutureWarning: Support for nested sequences for 'parse_dates' in pd.read_csv is deprecated. Combine the desired columns with pd.to_datetime after parsing instead.\n",
      "FutureWarning: Support for nested sequences for 'parse_dates' in pd.read_csv is deprecated. Combine the desired columns with pd.to_datetime after parsing instead.\n",
      "FutureWarning: Support for nested sequences for 'parse_dates' in pd.read_csv is deprecated. Combine the desired columns with pd.to_datetime after parsing instead.\n",
      "FutureWarning: Support for nested sequences for 'parse_dates' in pd.read_csv is deprecated. Combine the desired columns with pd.to_datetime after parsing instead.\n",
      "FutureWarning: Support for nested sequences for 'parse_dates' in pd.read_csv is deprecated. Combine the desired columns with pd.to_datetime after parsing instead.\n",
      "FutureWarning: Support for nested sequences for 'parse_dates' in pd.read_csv is deprecated. Combine the desired columns with pd.to_datetime after parsing instead.\n",
      "FutureWarning: Support for nested sequences for 'parse_dates' in pd.read_csv is deprecated. Combine the desired columns with pd.to_datetime after parsing instead.\n",
      "FutureWarning: Support for nested sequences for 'parse_dates' in pd.read_csv is deprecated. Combine the desired columns with pd.to_datetime after parsing instead.\n",
      "FutureWarning: Support for nested sequences for 'parse_dates' in pd.read_csv is deprecated. Combine the desired columns with pd.to_datetime after parsing instead.\n",
      "FutureWarning: Support for nested sequences for 'parse_dates' in pd.read_csv is deprecated. Combine the desired columns with pd.to_datetime after parsing instead.\n",
      "FutureWarning: Support for nested sequences for 'parse_dates' in pd.read_csv is deprecated. Combine the desired columns with pd.to_datetime after parsing instead.\n",
      "FutureWarning: Support for nested sequences for 'parse_dates' in pd.read_csv is deprecated. Combine the desired columns with pd.to_datetime after parsing instead.\n",
      "FutureWarning: Support for nested sequences for 'parse_dates' in pd.read_csv is deprecated. Combine the desired columns with pd.to_datetime after parsing instead.\n",
      "FutureWarning: Support for nested sequences for 'parse_dates' in pd.read_csv is deprecated. Combine the desired columns with pd.to_datetime after parsing instead.\n",
      "FutureWarning: Support for nested sequences for 'parse_dates' in pd.read_csv is deprecated. Combine the desired columns with pd.to_datetime after parsing instead.\n",
      "FutureWarning: Support for nested sequences for 'parse_dates' in pd.read_csv is deprecated. Combine the desired columns with pd.to_datetime after parsing instead.\n",
      "FutureWarning: Support for nested sequences for 'parse_dates' in pd.read_csv is deprecated. Combine the desired columns with pd.to_datetime after parsing instead.\n",
      "FutureWarning: Support for nested sequences for 'parse_dates' in pd.read_csv is deprecated. Combine the desired columns with pd.to_datetime after parsing instead.\n",
      "FutureWarning: Support for nested sequences for 'parse_dates' in pd.read_csv is deprecated. Combine the desired columns with pd.to_datetime after parsing instead.\n",
      "FutureWarning: Support for nested sequences for 'parse_dates' in pd.read_csv is deprecated. Combine the desired columns with pd.to_datetime after parsing instead.\n",
      "FutureWarning: Support for nested sequences for 'parse_dates' in pd.read_csv is deprecated. Combine the desired columns with pd.to_datetime after parsing instead.\n",
      "FutureWarning: Support for nested sequences for 'parse_dates' in pd.read_csv is deprecated. Combine the desired columns with pd.to_datetime after parsing instead.\n",
      "FutureWarning: Support for nested sequences for 'parse_dates' in pd.read_csv is deprecated. Combine the desired columns with pd.to_datetime after parsing instead.\n",
      "FutureWarning: Support for nested sequences for 'parse_dates' in pd.read_csv is deprecated. Combine the desired columns with pd.to_datetime after parsing instead.\n",
      "FutureWarning: Support for nested sequences for 'parse_dates' in pd.read_csv is deprecated. Combine the desired columns with pd.to_datetime after parsing instead.\n",
      "FutureWarning: Support for nested sequences for 'parse_dates' in pd.read_csv is deprecated. Combine the desired columns with pd.to_datetime after parsing instead.\n",
      "FutureWarning: Support for nested sequences for 'parse_dates' in pd.read_csv is deprecated. Combine the desired columns with pd.to_datetime after parsing instead.\n",
      "FutureWarning: Support for nested sequences for 'parse_dates' in pd.read_csv is deprecated. Combine the desired columns with pd.to_datetime after parsing instead.\n",
      "FutureWarning: Support for nested sequences for 'parse_dates' in pd.read_csv is deprecated. Combine the desired columns with pd.to_datetime after parsing instead.\n",
      "FutureWarning: Support for nested sequences for 'parse_dates' in pd.read_csv is deprecated. Combine the desired columns with pd.to_datetime after parsing instead.\n",
      "FutureWarning: Support for nested sequences for 'parse_dates' in pd.read_csv is deprecated. Combine the desired columns with pd.to_datetime after parsing instead.\n",
      "FutureWarning: Support for nested sequences for 'parse_dates' in pd.read_csv is deprecated. Combine the desired columns with pd.to_datetime after parsing instead.\n",
      "FutureWarning: Support for nested sequences for 'parse_dates' in pd.read_csv is deprecated. Combine the desired columns with pd.to_datetime after parsing instead.\n",
      "FutureWarning: Support for nested sequences for 'parse_dates' in pd.read_csv is deprecated. Combine the desired columns with pd.to_datetime after parsing instead.\n",
      "FutureWarning: Support for nested sequences for 'parse_dates' in pd.read_csv is deprecated. Combine the desired columns with pd.to_datetime after parsing instead.\n",
      "FutureWarning: Support for nested sequences for 'parse_dates' in pd.read_csv is deprecated. Combine the desired columns with pd.to_datetime after parsing instead.\n",
      "FutureWarning: Support for nested sequences for 'parse_dates' in pd.read_csv is deprecated. Combine the desired columns with pd.to_datetime after parsing instead.\n",
      "FutureWarning: Support for nested sequences for 'parse_dates' in pd.read_csv is deprecated. Combine the desired columns with pd.to_datetime after parsing instead.\n",
      "FutureWarning: Support for nested sequences for 'parse_dates' in pd.read_csv is deprecated. Combine the desired columns with pd.to_datetime after parsing instead.\n",
      "FutureWarning: Support for nested sequences for 'parse_dates' in pd.read_csv is deprecated. Combine the desired columns with pd.to_datetime after parsing instead.\n",
      "FutureWarning: Support for nested sequences for 'parse_dates' in pd.read_csv is deprecated. Combine the desired columns with pd.to_datetime after parsing instead.\n",
      "FutureWarning: Support for nested sequences for 'parse_dates' in pd.read_csv is deprecated. Combine the desired columns with pd.to_datetime after parsing instead.\n",
      "FutureWarning: Support for nested sequences for 'parse_dates' in pd.read_csv is deprecated. Combine the desired columns with pd.to_datetime after parsing instead.\n",
      "FutureWarning: Support for nested sequences for 'parse_dates' in pd.read_csv is deprecated. Combine the desired columns with pd.to_datetime after parsing instead.\n",
      "FutureWarning: Support for nested sequences for 'parse_dates' in pd.read_csv is deprecated. Combine the desired columns with pd.to_datetime after parsing instead.\n",
      "FutureWarning: Support for nested sequences for 'parse_dates' in pd.read_csv is deprecated. Combine the desired columns with pd.to_datetime after parsing instead.\n",
      "FutureWarning: Support for nested sequences for 'parse_dates' in pd.read_csv is deprecated. Combine the desired columns with pd.to_datetime after parsing instead.\n",
      "FutureWarning: Support for nested sequences for 'parse_dates' in pd.read_csv is deprecated. Combine the desired columns with pd.to_datetime after parsing instead.\n",
      "FutureWarning: Support for nested sequences for 'parse_dates' in pd.read_csv is deprecated. Combine the desired columns with pd.to_datetime after parsing instead.\n",
      "FutureWarning: Support for nested sequences for 'parse_dates' in pd.read_csv is deprecated. Combine the desired columns with pd.to_datetime after parsing instead.\n",
      "FutureWarning: Support for nested sequences for 'parse_dates' in pd.read_csv is deprecated. Combine the desired columns with pd.to_datetime after parsing instead.\n",
      "FutureWarning: Support for nested sequences for 'parse_dates' in pd.read_csv is deprecated. Combine the desired columns with pd.to_datetime after parsing instead.\n",
      "FutureWarning: Support for nested sequences for 'parse_dates' in pd.read_csv is deprecated. Combine the desired columns with pd.to_datetime after parsing instead.\n",
      "FutureWarning: Support for nested sequences for 'parse_dates' in pd.read_csv is deprecated. Combine the desired columns with pd.to_datetime after parsing instead.\n",
      "FutureWarning: Support for nested sequences for 'parse_dates' in pd.read_csv is deprecated. Combine the desired columns with pd.to_datetime after parsing instead.\n",
      "FutureWarning: Support for nested sequences for 'parse_dates' in pd.read_csv is deprecated. Combine the desired columns with pd.to_datetime after parsing instead.\n",
      "FutureWarning: Support for nested sequences for 'parse_dates' in pd.read_csv is deprecated. Combine the desired columns with pd.to_datetime after parsing instead.\n",
      "FutureWarning: Support for nested sequences for 'parse_dates' in pd.read_csv is deprecated. Combine the desired columns with pd.to_datetime after parsing instead.\n",
      "FutureWarning: Support for nested sequences for 'parse_dates' in pd.read_csv is deprecated. Combine the desired columns with pd.to_datetime after parsing instead.\n",
      "FutureWarning: Support for nested sequences for 'parse_dates' in pd.read_csv is deprecated. Combine the desired columns with pd.to_datetime after parsing instead.\n",
      "FutureWarning: Support for nested sequences for 'parse_dates' in pd.read_csv is deprecated. Combine the desired columns with pd.to_datetime after parsing instead.\n",
      "FutureWarning: Support for nested sequences for 'parse_dates' in pd.read_csv is deprecated. Combine the desired columns with pd.to_datetime after parsing instead.\n",
      "FutureWarning: Support for nested sequences for 'parse_dates' in pd.read_csv is deprecated. Combine the desired columns with pd.to_datetime after parsing instead.\n",
      "FutureWarning: Support for nested sequences for 'parse_dates' in pd.read_csv is deprecated. Combine the desired columns with pd.to_datetime after parsing instead.\n",
      "FutureWarning: Support for nested sequences for 'parse_dates' in pd.read_csv is deprecated. Combine the desired columns with pd.to_datetime after parsing instead.\n",
      "FutureWarning: Support for nested sequences for 'parse_dates' in pd.read_csv is deprecated. Combine the desired columns with pd.to_datetime after parsing instead.\n",
      "FutureWarning: Support for nested sequences for 'parse_dates' in pd.read_csv is deprecated. Combine the desired columns with pd.to_datetime after parsing instead.\n",
      "FutureWarning: Support for nested sequences for 'parse_dates' in pd.read_csv is deprecated. Combine the desired columns with pd.to_datetime after parsing instead.\n",
      "FutureWarning: Support for nested sequences for 'parse_dates' in pd.read_csv is deprecated. Combine the desired columns with pd.to_datetime after parsing instead.\n",
      "FutureWarning: Support for nested sequences for 'parse_dates' in pd.read_csv is deprecated. Combine the desired columns with pd.to_datetime after parsing instead.\n",
      "FutureWarning: Support for nested sequences for 'parse_dates' in pd.read_csv is deprecated. Combine the desired columns with pd.to_datetime after parsing instead.\n",
      "FutureWarning: Support for nested sequences for 'parse_dates' in pd.read_csv is deprecated. Combine the desired columns with pd.to_datetime after parsing instead.\n",
      "FutureWarning: Support for nested sequences for 'parse_dates' in pd.read_csv is deprecated. Combine the desired columns with pd.to_datetime after parsing instead.\n",
      "FutureWarning: Support for nested sequences for 'parse_dates' in pd.read_csv is deprecated. Combine the desired columns with pd.to_datetime after parsing instead.\n",
      "FutureWarning: Support for nested sequences for 'parse_dates' in pd.read_csv is deprecated. Combine the desired columns with pd.to_datetime after parsing instead.\n",
      "FutureWarning: Support for nested sequences for 'parse_dates' in pd.read_csv is deprecated. Combine the desired columns with pd.to_datetime after parsing instead.\n",
      "FutureWarning: Support for nested sequences for 'parse_dates' in pd.read_csv is deprecated. Combine the desired columns with pd.to_datetime after parsing instead.\n",
      "FutureWarning: Support for nested sequences for 'parse_dates' in pd.read_csv is deprecated. Combine the desired columns with pd.to_datetime after parsing instead.\n",
      "FutureWarning: Support for nested sequences for 'parse_dates' in pd.read_csv is deprecated. Combine the desired columns with pd.to_datetime after parsing instead.\n",
      "FutureWarning: Support for nested sequences for 'parse_dates' in pd.read_csv is deprecated. Combine the desired columns with pd.to_datetime after parsing instead.\n",
      "FutureWarning: Support for nested sequences for 'parse_dates' in pd.read_csv is deprecated. Combine the desired columns with pd.to_datetime after parsing instead.\n",
      "FutureWarning: Support for nested sequences for 'parse_dates' in pd.read_csv is deprecated. Combine the desired columns with pd.to_datetime after parsing instead.\n",
      "FutureWarning: Support for nested sequences for 'parse_dates' in pd.read_csv is deprecated. Combine the desired columns with pd.to_datetime after parsing instead.\n",
      "FutureWarning: Support for nested sequences for 'parse_dates' in pd.read_csv is deprecated. Combine the desired columns with pd.to_datetime after parsing instead.\n",
      "FutureWarning: Support for nested sequences for 'parse_dates' in pd.read_csv is deprecated. Combine the desired columns with pd.to_datetime after parsing instead.\n",
      "FutureWarning: Support for nested sequences for 'parse_dates' in pd.read_csv is deprecated. Combine the desired columns with pd.to_datetime after parsing instead.\n",
      "FutureWarning: Support for nested sequences for 'parse_dates' in pd.read_csv is deprecated. Combine the desired columns with pd.to_datetime after parsing instead.\n",
      "FutureWarning: Support for nested sequences for 'parse_dates' in pd.read_csv is deprecated. Combine the desired columns with pd.to_datetime after parsing instead.\n",
      "FutureWarning: Support for nested sequences for 'parse_dates' in pd.read_csv is deprecated. Combine the desired columns with pd.to_datetime after parsing instead.\n",
      "FutureWarning: Support for nested sequences for 'parse_dates' in pd.read_csv is deprecated. Combine the desired columns with pd.to_datetime after parsing instead.\n",
      "FutureWarning: Support for nested sequences for 'parse_dates' in pd.read_csv is deprecated. Combine the desired columns with pd.to_datetime after parsing instead.\n",
      "FutureWarning: Support for nested sequences for 'parse_dates' in pd.read_csv is deprecated. Combine the desired columns with pd.to_datetime after parsing instead.\n",
      "FutureWarning: Support for nested sequences for 'parse_dates' in pd.read_csv is deprecated. Combine the desired columns with pd.to_datetime after parsing instead.\n",
      "FutureWarning: Support for nested sequences for 'parse_dates' in pd.read_csv is deprecated. Combine the desired columns with pd.to_datetime after parsing instead.\n",
      "FutureWarning: Support for nested sequences for 'parse_dates' in pd.read_csv is deprecated. Combine the desired columns with pd.to_datetime after parsing instead.\n",
      "FutureWarning: Support for nested sequences for 'parse_dates' in pd.read_csv is deprecated. Combine the desired columns with pd.to_datetime after parsing instead.\n",
      "FutureWarning: Support for nested sequences for 'parse_dates' in pd.read_csv is deprecated. Combine the desired columns with pd.to_datetime after parsing instead.\n",
      "FutureWarning: Support for nested sequences for 'parse_dates' in pd.read_csv is deprecated. Combine the desired columns with pd.to_datetime after parsing instead.\n",
      "FutureWarning: Support for nested sequences for 'parse_dates' in pd.read_csv is deprecated. Combine the desired columns with pd.to_datetime after parsing instead.\n",
      "FutureWarning: Support for nested sequences for 'parse_dates' in pd.read_csv is deprecated. Combine the desired columns with pd.to_datetime after parsing instead.\n",
      "FutureWarning: Support for nested sequences for 'parse_dates' in pd.read_csv is deprecated. Combine the desired columns with pd.to_datetime after parsing instead.\n",
      "FutureWarning: Support for nested sequences for 'parse_dates' in pd.read_csv is deprecated. Combine the desired columns with pd.to_datetime after parsing instead.\n",
      "FutureWarning: Support for nested sequences for 'parse_dates' in pd.read_csv is deprecated. Combine the desired columns with pd.to_datetime after parsing instead.\n",
      "FutureWarning: Support for nested sequences for 'parse_dates' in pd.read_csv is deprecated. Combine the desired columns with pd.to_datetime after parsing instead.\n",
      "FutureWarning: Support for nested sequences for 'parse_dates' in pd.read_csv is deprecated. Combine the desired columns with pd.to_datetime after parsing instead.\n",
      "FutureWarning: Support for nested sequences for 'parse_dates' in pd.read_csv is deprecated. Combine the desired columns with pd.to_datetime after parsing instead.\n",
      "FutureWarning: Support for nested sequences for 'parse_dates' in pd.read_csv is deprecated. Combine the desired columns with pd.to_datetime after parsing instead.\n",
      "FutureWarning: Support for nested sequences for 'parse_dates' in pd.read_csv is deprecated. Combine the desired columns with pd.to_datetime after parsing instead.\n",
      "FutureWarning: Support for nested sequences for 'parse_dates' in pd.read_csv is deprecated. Combine the desired columns with pd.to_datetime after parsing instead.\n",
      "FutureWarning: Support for nested sequences for 'parse_dates' in pd.read_csv is deprecated. Combine the desired columns with pd.to_datetime after parsing instead.\n",
      "FutureWarning: Support for nested sequences for 'parse_dates' in pd.read_csv is deprecated. Combine the desired columns with pd.to_datetime after parsing instead.\n",
      "FutureWarning: Support for nested sequences for 'parse_dates' in pd.read_csv is deprecated. Combine the desired columns with pd.to_datetime after parsing instead.\n",
      "FutureWarning: Support for nested sequences for 'parse_dates' in pd.read_csv is deprecated. Combine the desired columns with pd.to_datetime after parsing instead.\n",
      "FutureWarning: Support for nested sequences for 'parse_dates' in pd.read_csv is deprecated. Combine the desired columns with pd.to_datetime after parsing instead.\n",
      "FutureWarning: Support for nested sequences for 'parse_dates' in pd.read_csv is deprecated. Combine the desired columns with pd.to_datetime after parsing instead.\n",
      "FutureWarning: Support for nested sequences for 'parse_dates' in pd.read_csv is deprecated. Combine the desired columns with pd.to_datetime after parsing instead.\n",
      "FutureWarning: Support for nested sequences for 'parse_dates' in pd.read_csv is deprecated. Combine the desired columns with pd.to_datetime after parsing instead.\n",
      "FutureWarning: Support for nested sequences for 'parse_dates' in pd.read_csv is deprecated. Combine the desired columns with pd.to_datetime after parsing instead.\n",
      "FutureWarning: Support for nested sequences for 'parse_dates' in pd.read_csv is deprecated. Combine the desired columns with pd.to_datetime after parsing instead.\n",
      "FutureWarning: Support for nested sequences for 'parse_dates' in pd.read_csv is deprecated. Combine the desired columns with pd.to_datetime after parsing instead.\n",
      "FutureWarning: Support for nested sequences for 'parse_dates' in pd.read_csv is deprecated. Combine the desired columns with pd.to_datetime after parsing instead.\n",
      "FutureWarning: Support for nested sequences for 'parse_dates' in pd.read_csv is deprecated. Combine the desired columns with pd.to_datetime after parsing instead.\n",
      "FutureWarning: Support for nested sequences for 'parse_dates' in pd.read_csv is deprecated. Combine the desired columns with pd.to_datetime after parsing instead.\n",
      "FutureWarning: Support for nested sequences for 'parse_dates' in pd.read_csv is deprecated. Combine the desired columns with pd.to_datetime after parsing instead.\n",
      "FutureWarning: Support for nested sequences for 'parse_dates' in pd.read_csv is deprecated. Combine the desired columns with pd.to_datetime after parsing instead.\n",
      "FutureWarning: Support for nested sequences for 'parse_dates' in pd.read_csv is deprecated. Combine the desired columns with pd.to_datetime after parsing instead.\n",
      "FutureWarning: Support for nested sequences for 'parse_dates' in pd.read_csv is deprecated. Combine the desired columns with pd.to_datetime after parsing instead.\n",
      "FutureWarning: Support for nested sequences for 'parse_dates' in pd.read_csv is deprecated. Combine the desired columns with pd.to_datetime after parsing instead.\n",
      "FutureWarning: Support for nested sequences for 'parse_dates' in pd.read_csv is deprecated. Combine the desired columns with pd.to_datetime after parsing instead.\n",
      "FutureWarning: Support for nested sequences for 'parse_dates' in pd.read_csv is deprecated. Combine the desired columns with pd.to_datetime after parsing instead.\n",
      "FutureWarning: Support for nested sequences for 'parse_dates' in pd.read_csv is deprecated. Combine the desired columns with pd.to_datetime after parsing instead.\n",
      "FutureWarning: Support for nested sequences for 'parse_dates' in pd.read_csv is deprecated. Combine the desired columns with pd.to_datetime after parsing instead.\n",
      "FutureWarning: Support for nested sequences for 'parse_dates' in pd.read_csv is deprecated. Combine the desired columns with pd.to_datetime after parsing instead.\n",
      "FutureWarning: Support for nested sequences for 'parse_dates' in pd.read_csv is deprecated. Combine the desired columns with pd.to_datetime after parsing instead.\n",
      "FutureWarning: Support for nested sequences for 'parse_dates' in pd.read_csv is deprecated. Combine the desired columns with pd.to_datetime after parsing instead.\n",
      "FutureWarning: Support for nested sequences for 'parse_dates' in pd.read_csv is deprecated. Combine the desired columns with pd.to_datetime after parsing instead.\n",
      "FutureWarning: Support for nested sequences for 'parse_dates' in pd.read_csv is deprecated. Combine the desired columns with pd.to_datetime after parsing instead.\n",
      "FutureWarning: Support for nested sequences for 'parse_dates' in pd.read_csv is deprecated. Combine the desired columns with pd.to_datetime after parsing instead.\n",
      "FutureWarning: Support for nested sequences for 'parse_dates' in pd.read_csv is deprecated. Combine the desired columns with pd.to_datetime after parsing instead.\n",
      "FutureWarning: Support for nested sequences for 'parse_dates' in pd.read_csv is deprecated. Combine the desired columns with pd.to_datetime after parsing instead.\n",
      "FutureWarning: Support for nested sequences for 'parse_dates' in pd.read_csv is deprecated. Combine the desired columns with pd.to_datetime after parsing instead.\n",
      "FutureWarning: Support for nested sequences for 'parse_dates' in pd.read_csv is deprecated. Combine the desired columns with pd.to_datetime after parsing instead.\n",
      "FutureWarning: Support for nested sequences for 'parse_dates' in pd.read_csv is deprecated. Combine the desired columns with pd.to_datetime after parsing instead.\n",
      "FutureWarning: Support for nested sequences for 'parse_dates' in pd.read_csv is deprecated. Combine the desired columns with pd.to_datetime after parsing instead.\n",
      "FutureWarning: Support for nested sequences for 'parse_dates' in pd.read_csv is deprecated. Combine the desired columns with pd.to_datetime after parsing instead.\n",
      "FutureWarning: Support for nested sequences for 'parse_dates' in pd.read_csv is deprecated. Combine the desired columns with pd.to_datetime after parsing instead.\n",
      "FutureWarning: Support for nested sequences for 'parse_dates' in pd.read_csv is deprecated. Combine the desired columns with pd.to_datetime after parsing instead.\n",
      "FutureWarning: Support for nested sequences for 'parse_dates' in pd.read_csv is deprecated. Combine the desired columns with pd.to_datetime after parsing instead.\n",
      "FutureWarning: Support for nested sequences for 'parse_dates' in pd.read_csv is deprecated. Combine the desired columns with pd.to_datetime after parsing instead.\n",
      "FutureWarning: Support for nested sequences for 'parse_dates' in pd.read_csv is deprecated. Combine the desired columns with pd.to_datetime after parsing instead.\n",
      "FutureWarning: Support for nested sequences for 'parse_dates' in pd.read_csv is deprecated. Combine the desired columns with pd.to_datetime after parsing instead.\n",
      "FutureWarning: Support for nested sequences for 'parse_dates' in pd.read_csv is deprecated. Combine the desired columns with pd.to_datetime after parsing instead.\n",
      "FutureWarning: Support for nested sequences for 'parse_dates' in pd.read_csv is deprecated. Combine the desired columns with pd.to_datetime after parsing instead.\n",
      "FutureWarning: Support for nested sequences for 'parse_dates' in pd.read_csv is deprecated. Combine the desired columns with pd.to_datetime after parsing instead.\n",
      "FutureWarning: Support for nested sequences for 'parse_dates' in pd.read_csv is deprecated. Combine the desired columns with pd.to_datetime after parsing instead.\n",
      "FutureWarning: Support for nested sequences for 'parse_dates' in pd.read_csv is deprecated. Combine the desired columns with pd.to_datetime after parsing instead.\n",
      "FutureWarning: Support for nested sequences for 'parse_dates' in pd.read_csv is deprecated. Combine the desired columns with pd.to_datetime after parsing instead.\n",
      "FutureWarning: Support for nested sequences for 'parse_dates' in pd.read_csv is deprecated. Combine the desired columns with pd.to_datetime after parsing instead.\n",
      "FutureWarning: Support for nested sequences for 'parse_dates' in pd.read_csv is deprecated. Combine the desired columns with pd.to_datetime after parsing instead.\n",
      "FutureWarning: Support for nested sequences for 'parse_dates' in pd.read_csv is deprecated. Combine the desired columns with pd.to_datetime after parsing instead.\n",
      "FutureWarning: Support for nested sequences for 'parse_dates' in pd.read_csv is deprecated. Combine the desired columns with pd.to_datetime after parsing instead.\n",
      "FutureWarning: Support for nested sequences for 'parse_dates' in pd.read_csv is deprecated. Combine the desired columns with pd.to_datetime after parsing instead.\n",
      "FutureWarning: Support for nested sequences for 'parse_dates' in pd.read_csv is deprecated. Combine the desired columns with pd.to_datetime after parsing instead.\n",
      "FutureWarning: Support for nested sequences for 'parse_dates' in pd.read_csv is deprecated. Combine the desired columns with pd.to_datetime after parsing instead.\n",
      "FutureWarning: Support for nested sequences for 'parse_dates' in pd.read_csv is deprecated. Combine the desired columns with pd.to_datetime after parsing instead.\n",
      "FutureWarning: Support for nested sequences for 'parse_dates' in pd.read_csv is deprecated. Combine the desired columns with pd.to_datetime after parsing instead.\n",
      "FutureWarning: Support for nested sequences for 'parse_dates' in pd.read_csv is deprecated. Combine the desired columns with pd.to_datetime after parsing instead.\n",
      "FutureWarning: Support for nested sequences for 'parse_dates' in pd.read_csv is deprecated. Combine the desired columns with pd.to_datetime after parsing instead.\n",
      "FutureWarning: Support for nested sequences for 'parse_dates' in pd.read_csv is deprecated. Combine the desired columns with pd.to_datetime after parsing instead.\n",
      "FutureWarning: Support for nested sequences for 'parse_dates' in pd.read_csv is deprecated. Combine the desired columns with pd.to_datetime after parsing instead.\n",
      "FutureWarning: Support for nested sequences for 'parse_dates' in pd.read_csv is deprecated. Combine the desired columns with pd.to_datetime after parsing instead.\n",
      "FutureWarning: Support for nested sequences for 'parse_dates' in pd.read_csv is deprecated. Combine the desired columns with pd.to_datetime after parsing instead.\n",
      "FutureWarning: Support for nested sequences for 'parse_dates' in pd.read_csv is deprecated. Combine the desired columns with pd.to_datetime after parsing instead.\n",
      "FutureWarning: Support for nested sequences for 'parse_dates' in pd.read_csv is deprecated. Combine the desired columns with pd.to_datetime after parsing instead.\n",
      "FutureWarning: Support for nested sequences for 'parse_dates' in pd.read_csv is deprecated. Combine the desired columns with pd.to_datetime after parsing instead.\n",
      "FutureWarning: Support for nested sequences for 'parse_dates' in pd.read_csv is deprecated. Combine the desired columns with pd.to_datetime after parsing instead.\n",
      "FutureWarning: Support for nested sequences for 'parse_dates' in pd.read_csv is deprecated. Combine the desired columns with pd.to_datetime after parsing instead.\n",
      "FutureWarning: Support for nested sequences for 'parse_dates' in pd.read_csv is deprecated. Combine the desired columns with pd.to_datetime after parsing instead.\n",
      "FutureWarning: Support for nested sequences for 'parse_dates' in pd.read_csv is deprecated. Combine the desired columns with pd.to_datetime after parsing instead.\n",
      "FutureWarning: Support for nested sequences for 'parse_dates' in pd.read_csv is deprecated. Combine the desired columns with pd.to_datetime after parsing instead.\n",
      "FutureWarning: Support for nested sequences for 'parse_dates' in pd.read_csv is deprecated. Combine the desired columns with pd.to_datetime after parsing instead.\n",
      "FutureWarning: Support for nested sequences for 'parse_dates' in pd.read_csv is deprecated. Combine the desired columns with pd.to_datetime after parsing instead.\n",
      "FutureWarning: Support for nested sequences for 'parse_dates' in pd.read_csv is deprecated. Combine the desired columns with pd.to_datetime after parsing instead.\n",
      "FutureWarning: Support for nested sequences for 'parse_dates' in pd.read_csv is deprecated. Combine the desired columns with pd.to_datetime after parsing instead.\n",
      "FutureWarning: Support for nested sequences for 'parse_dates' in pd.read_csv is deprecated. Combine the desired columns with pd.to_datetime after parsing instead.\n",
      "FutureWarning: Support for nested sequences for 'parse_dates' in pd.read_csv is deprecated. Combine the desired columns with pd.to_datetime after parsing instead.\n",
      "FutureWarning: Support for nested sequences for 'parse_dates' in pd.read_csv is deprecated. Combine the desired columns with pd.to_datetime after parsing instead.\n",
      "FutureWarning: Support for nested sequences for 'parse_dates' in pd.read_csv is deprecated. Combine the desired columns with pd.to_datetime after parsing instead.\n",
      "FutureWarning: Support for nested sequences for 'parse_dates' in pd.read_csv is deprecated. Combine the desired columns with pd.to_datetime after parsing instead.\n",
      "FutureWarning: Support for nested sequences for 'parse_dates' in pd.read_csv is deprecated. Combine the desired columns with pd.to_datetime after parsing instead.\n",
      "FutureWarning: Support for nested sequences for 'parse_dates' in pd.read_csv is deprecated. Combine the desired columns with pd.to_datetime after parsing instead.\n",
      "FutureWarning: Support for nested sequences for 'parse_dates' in pd.read_csv is deprecated. Combine the desired columns with pd.to_datetime after parsing instead.\n",
      "FutureWarning: Support for nested sequences for 'parse_dates' in pd.read_csv is deprecated. Combine the desired columns with pd.to_datetime after parsing instead.\n",
      "FutureWarning: Support for nested sequences for 'parse_dates' in pd.read_csv is deprecated. Combine the desired columns with pd.to_datetime after parsing instead.\n",
      "FutureWarning: Support for nested sequences for 'parse_dates' in pd.read_csv is deprecated. Combine the desired columns with pd.to_datetime after parsing instead.\n",
      "FutureWarning: Support for nested sequences for 'parse_dates' in pd.read_csv is deprecated. Combine the desired columns with pd.to_datetime after parsing instead.\n",
      "FutureWarning: Support for nested sequences for 'parse_dates' in pd.read_csv is deprecated. Combine the desired columns with pd.to_datetime after parsing instead.\n",
      "FutureWarning: Support for nested sequences for 'parse_dates' in pd.read_csv is deprecated. Combine the desired columns with pd.to_datetime after parsing instead.\n",
      "FutureWarning: Support for nested sequences for 'parse_dates' in pd.read_csv is deprecated. Combine the desired columns with pd.to_datetime after parsing instead.\n",
      "FutureWarning: Support for nested sequences for 'parse_dates' in pd.read_csv is deprecated. Combine the desired columns with pd.to_datetime after parsing instead.\n",
      "FutureWarning: Support for nested sequences for 'parse_dates' in pd.read_csv is deprecated. Combine the desired columns with pd.to_datetime after parsing instead.\n",
      "FutureWarning: Support for nested sequences for 'parse_dates' in pd.read_csv is deprecated. Combine the desired columns with pd.to_datetime after parsing instead.\n",
      "FutureWarning: Support for nested sequences for 'parse_dates' in pd.read_csv is deprecated. Combine the desired columns with pd.to_datetime after parsing instead.\n",
      "FutureWarning: Support for nested sequences for 'parse_dates' in pd.read_csv is deprecated. Combine the desired columns with pd.to_datetime after parsing instead.\n",
      "FutureWarning: Support for nested sequences for 'parse_dates' in pd.read_csv is deprecated. Combine the desired columns with pd.to_datetime after parsing instead.\n",
      "FutureWarning: Support for nested sequences for 'parse_dates' in pd.read_csv is deprecated. Combine the desired columns with pd.to_datetime after parsing instead.\n",
      "FutureWarning: Support for nested sequences for 'parse_dates' in pd.read_csv is deprecated. Combine the desired columns with pd.to_datetime after parsing instead.\n",
      "FutureWarning: Support for nested sequences for 'parse_dates' in pd.read_csv is deprecated. Combine the desired columns with pd.to_datetime after parsing instead.\n",
      "FutureWarning: Support for nested sequences for 'parse_dates' in pd.read_csv is deprecated. Combine the desired columns with pd.to_datetime after parsing instead.\n",
      "FutureWarning: Support for nested sequences for 'parse_dates' in pd.read_csv is deprecated. Combine the desired columns with pd.to_datetime after parsing instead.\n",
      "FutureWarning: Support for nested sequences for 'parse_dates' in pd.read_csv is deprecated. Combine the desired columns with pd.to_datetime after parsing instead.\n",
      "FutureWarning: Support for nested sequences for 'parse_dates' in pd.read_csv is deprecated. Combine the desired columns with pd.to_datetime after parsing instead.\n",
      "FutureWarning: Support for nested sequences for 'parse_dates' in pd.read_csv is deprecated. Combine the desired columns with pd.to_datetime after parsing instead.\n",
      "FutureWarning: Support for nested sequences for 'parse_dates' in pd.read_csv is deprecated. Combine the desired columns with pd.to_datetime after parsing instead.\n",
      "FutureWarning: Support for nested sequences for 'parse_dates' in pd.read_csv is deprecated. Combine the desired columns with pd.to_datetime after parsing instead.\n",
      "FutureWarning: Support for nested sequences for 'parse_dates' in pd.read_csv is deprecated. Combine the desired columns with pd.to_datetime after parsing instead.\n",
      "FutureWarning: Support for nested sequences for 'parse_dates' in pd.read_csv is deprecated. Combine the desired columns with pd.to_datetime after parsing instead.\n",
      "FutureWarning: Support for nested sequences for 'parse_dates' in pd.read_csv is deprecated. Combine the desired columns with pd.to_datetime after parsing instead.\n",
      "FutureWarning: Support for nested sequences for 'parse_dates' in pd.read_csv is deprecated. Combine the desired columns with pd.to_datetime after parsing instead.\n",
      "FutureWarning: Support for nested sequences for 'parse_dates' in pd.read_csv is deprecated. Combine the desired columns with pd.to_datetime after parsing instead.\n",
      "FutureWarning: Support for nested sequences for 'parse_dates' in pd.read_csv is deprecated. Combine the desired columns with pd.to_datetime after parsing instead.\n",
      "FutureWarning: Support for nested sequences for 'parse_dates' in pd.read_csv is deprecated. Combine the desired columns with pd.to_datetime after parsing instead.\n",
      "FutureWarning: Support for nested sequences for 'parse_dates' in pd.read_csv is deprecated. Combine the desired columns with pd.to_datetime after parsing instead.\n",
      "FutureWarning: Support for nested sequences for 'parse_dates' in pd.read_csv is deprecated. Combine the desired columns with pd.to_datetime after parsing instead.\n",
      "FutureWarning: Support for nested sequences for 'parse_dates' in pd.read_csv is deprecated. Combine the desired columns with pd.to_datetime after parsing instead.\n",
      "FutureWarning: Support for nested sequences for 'parse_dates' in pd.read_csv is deprecated. Combine the desired columns with pd.to_datetime after parsing instead.\n",
      "FutureWarning: Support for nested sequences for 'parse_dates' in pd.read_csv is deprecated. Combine the desired columns with pd.to_datetime after parsing instead.\n",
      "FutureWarning: Support for nested sequences for 'parse_dates' in pd.read_csv is deprecated. Combine the desired columns with pd.to_datetime after parsing instead.\n",
      "FutureWarning: Support for nested sequences for 'parse_dates' in pd.read_csv is deprecated. Combine the desired columns with pd.to_datetime after parsing instead.\n",
      "FutureWarning: Support for nested sequences for 'parse_dates' in pd.read_csv is deprecated. Combine the desired columns with pd.to_datetime after parsing instead.\n",
      "FutureWarning: Support for nested sequences for 'parse_dates' in pd.read_csv is deprecated. Combine the desired columns with pd.to_datetime after parsing instead.\n",
      "FutureWarning: Support for nested sequences for 'parse_dates' in pd.read_csv is deprecated. Combine the desired columns with pd.to_datetime after parsing instead.\n",
      "FutureWarning: Support for nested sequences for 'parse_dates' in pd.read_csv is deprecated. Combine the desired columns with pd.to_datetime after parsing instead.\n",
      "FutureWarning: Support for nested sequences for 'parse_dates' in pd.read_csv is deprecated. Combine the desired columns with pd.to_datetime after parsing instead.\n",
      "FutureWarning: Support for nested sequences for 'parse_dates' in pd.read_csv is deprecated. Combine the desired columns with pd.to_datetime after parsing instead.\n",
      "FutureWarning: Support for nested sequences for 'parse_dates' in pd.read_csv is deprecated. Combine the desired columns with pd.to_datetime after parsing instead.\n",
      "FutureWarning: Support for nested sequences for 'parse_dates' in pd.read_csv is deprecated. Combine the desired columns with pd.to_datetime after parsing instead.\n",
      "FutureWarning: Support for nested sequences for 'parse_dates' in pd.read_csv is deprecated. Combine the desired columns with pd.to_datetime after parsing instead.\n",
      "FutureWarning: Support for nested sequences for 'parse_dates' in pd.read_csv is deprecated. Combine the desired columns with pd.to_datetime after parsing instead.\n",
      "FutureWarning: Support for nested sequences for 'parse_dates' in pd.read_csv is deprecated. Combine the desired columns with pd.to_datetime after parsing instead.\n",
      "FutureWarning: Support for nested sequences for 'parse_dates' in pd.read_csv is deprecated. Combine the desired columns with pd.to_datetime after parsing instead.\n",
      "FutureWarning: Support for nested sequences for 'parse_dates' in pd.read_csv is deprecated. Combine the desired columns with pd.to_datetime after parsing instead.\n",
      "FutureWarning: Support for nested sequences for 'parse_dates' in pd.read_csv is deprecated. Combine the desired columns with pd.to_datetime after parsing instead.\n",
      "FutureWarning: Support for nested sequences for 'parse_dates' in pd.read_csv is deprecated. Combine the desired columns with pd.to_datetime after parsing instead.\n",
      "FutureWarning: Support for nested sequences for 'parse_dates' in pd.read_csv is deprecated. Combine the desired columns with pd.to_datetime after parsing instead.\n",
      "FutureWarning: Support for nested sequences for 'parse_dates' in pd.read_csv is deprecated. Combine the desired columns with pd.to_datetime after parsing instead.\n",
      "FutureWarning: Support for nested sequences for 'parse_dates' in pd.read_csv is deprecated. Combine the desired columns with pd.to_datetime after parsing instead.\n",
      "FutureWarning: Support for nested sequences for 'parse_dates' in pd.read_csv is deprecated. Combine the desired columns with pd.to_datetime after parsing instead.\n",
      "FutureWarning: Support for nested sequences for 'parse_dates' in pd.read_csv is deprecated. Combine the desired columns with pd.to_datetime after parsing instead.\n",
      "FutureWarning: Support for nested sequences for 'parse_dates' in pd.read_csv is deprecated. Combine the desired columns with pd.to_datetime after parsing instead.\n",
      "FutureWarning: Support for nested sequences for 'parse_dates' in pd.read_csv is deprecated. Combine the desired columns with pd.to_datetime after parsing instead.\n",
      "FutureWarning: Support for nested sequences for 'parse_dates' in pd.read_csv is deprecated. Combine the desired columns with pd.to_datetime after parsing instead.\n",
      "FutureWarning: Support for nested sequences for 'parse_dates' in pd.read_csv is deprecated. Combine the desired columns with pd.to_datetime after parsing instead.\n",
      "FutureWarning: Support for nested sequences for 'parse_dates' in pd.read_csv is deprecated. Combine the desired columns with pd.to_datetime after parsing instead.\n",
      "FutureWarning: Support for nested sequences for 'parse_dates' in pd.read_csv is deprecated. Combine the desired columns with pd.to_datetime after parsing instead.\n",
      "FutureWarning: Support for nested sequences for 'parse_dates' in pd.read_csv is deprecated. Combine the desired columns with pd.to_datetime after parsing instead.\n",
      "FutureWarning: Support for nested sequences for 'parse_dates' in pd.read_csv is deprecated. Combine the desired columns with pd.to_datetime after parsing instead.\n",
      "FutureWarning: Support for nested sequences for 'parse_dates' in pd.read_csv is deprecated. Combine the desired columns with pd.to_datetime after parsing instead.\n",
      "FutureWarning: Support for nested sequences for 'parse_dates' in pd.read_csv is deprecated. Combine the desired columns with pd.to_datetime after parsing instead.\n",
      "FutureWarning: Support for nested sequences for 'parse_dates' in pd.read_csv is deprecated. Combine the desired columns with pd.to_datetime after parsing instead.\n",
      "FutureWarning: Support for nested sequences for 'parse_dates' in pd.read_csv is deprecated. Combine the desired columns with pd.to_datetime after parsing instead.\n",
      "FutureWarning: Support for nested sequences for 'parse_dates' in pd.read_csv is deprecated. Combine the desired columns with pd.to_datetime after parsing instead.\n",
      "FutureWarning: Support for nested sequences for 'parse_dates' in pd.read_csv is deprecated. Combine the desired columns with pd.to_datetime after parsing instead.\n",
      "FutureWarning: Support for nested sequences for 'parse_dates' in pd.read_csv is deprecated. Combine the desired columns with pd.to_datetime after parsing instead.\n",
      "FutureWarning: Support for nested sequences for 'parse_dates' in pd.read_csv is deprecated. Combine the desired columns with pd.to_datetime after parsing instead.\n",
      "FutureWarning: Support for nested sequences for 'parse_dates' in pd.read_csv is deprecated. Combine the desired columns with pd.to_datetime after parsing instead.\n",
      "FutureWarning: Support for nested sequences for 'parse_dates' in pd.read_csv is deprecated. Combine the desired columns with pd.to_datetime after parsing instead.\n",
      "FutureWarning: Support for nested sequences for 'parse_dates' in pd.read_csv is deprecated. Combine the desired columns with pd.to_datetime after parsing instead.\n",
      "FutureWarning: Support for nested sequences for 'parse_dates' in pd.read_csv is deprecated. Combine the desired columns with pd.to_datetime after parsing instead.\n",
      "FutureWarning: Support for nested sequences for 'parse_dates' in pd.read_csv is deprecated. Combine the desired columns with pd.to_datetime after parsing instead.\n",
      "FutureWarning: Support for nested sequences for 'parse_dates' in pd.read_csv is deprecated. Combine the desired columns with pd.to_datetime after parsing instead.\n",
      "FutureWarning: Support for nested sequences for 'parse_dates' in pd.read_csv is deprecated. Combine the desired columns with pd.to_datetime after parsing instead.\n",
      "FutureWarning: Support for nested sequences for 'parse_dates' in pd.read_csv is deprecated. Combine the desired columns with pd.to_datetime after parsing instead.\n",
      "FutureWarning: Support for nested sequences for 'parse_dates' in pd.read_csv is deprecated. Combine the desired columns with pd.to_datetime after parsing instead.\n",
      "FutureWarning: Support for nested sequences for 'parse_dates' in pd.read_csv is deprecated. Combine the desired columns with pd.to_datetime after parsing instead.\n",
      "FutureWarning: Support for nested sequences for 'parse_dates' in pd.read_csv is deprecated. Combine the desired columns with pd.to_datetime after parsing instead.\n",
      "FutureWarning: Support for nested sequences for 'parse_dates' in pd.read_csv is deprecated. Combine the desired columns with pd.to_datetime after parsing instead.\n",
      "FutureWarning: Support for nested sequences for 'parse_dates' in pd.read_csv is deprecated. Combine the desired columns with pd.to_datetime after parsing instead.\n",
      "FutureWarning: Support for nested sequences for 'parse_dates' in pd.read_csv is deprecated. Combine the desired columns with pd.to_datetime after parsing instead.\n",
      "FutureWarning: Support for nested sequences for 'parse_dates' in pd.read_csv is deprecated. Combine the desired columns with pd.to_datetime after parsing instead.\n",
      "FutureWarning: Support for nested sequences for 'parse_dates' in pd.read_csv is deprecated. Combine the desired columns with pd.to_datetime after parsing instead.\n",
      "FutureWarning: Support for nested sequences for 'parse_dates' in pd.read_csv is deprecated. Combine the desired columns with pd.to_datetime after parsing instead.\n",
      "FutureWarning: Support for nested sequences for 'parse_dates' in pd.read_csv is deprecated. Combine the desired columns with pd.to_datetime after parsing instead.\n",
      "FutureWarning: Support for nested sequences for 'parse_dates' in pd.read_csv is deprecated. Combine the desired columns with pd.to_datetime after parsing instead.\n",
      "FutureWarning: Support for nested sequences for 'parse_dates' in pd.read_csv is deprecated. Combine the desired columns with pd.to_datetime after parsing instead.\n",
      "FutureWarning: Support for nested sequences for 'parse_dates' in pd.read_csv is deprecated. Combine the desired columns with pd.to_datetime after parsing instead.\n",
      "FutureWarning: Support for nested sequences for 'parse_dates' in pd.read_csv is deprecated. Combine the desired columns with pd.to_datetime after parsing instead.\n",
      "FutureWarning: Support for nested sequences for 'parse_dates' in pd.read_csv is deprecated. Combine the desired columns with pd.to_datetime after parsing instead.\n",
      "FutureWarning: Support for nested sequences for 'parse_dates' in pd.read_csv is deprecated. Combine the desired columns with pd.to_datetime after parsing instead.\n",
      "FutureWarning: Support for nested sequences for 'parse_dates' in pd.read_csv is deprecated. Combine the desired columns with pd.to_datetime after parsing instead.\n",
      "FutureWarning: Support for nested sequences for 'parse_dates' in pd.read_csv is deprecated. Combine the desired columns with pd.to_datetime after parsing instead.\n",
      "FutureWarning: Support for nested sequences for 'parse_dates' in pd.read_csv is deprecated. Combine the desired columns with pd.to_datetime after parsing instead.\n",
      "FutureWarning: Support for nested sequences for 'parse_dates' in pd.read_csv is deprecated. Combine the desired columns with pd.to_datetime after parsing instead.\n",
      "FutureWarning: Support for nested sequences for 'parse_dates' in pd.read_csv is deprecated. Combine the desired columns with pd.to_datetime after parsing instead.\n",
      "FutureWarning: Support for nested sequences for 'parse_dates' in pd.read_csv is deprecated. Combine the desired columns with pd.to_datetime after parsing instead.\n",
      "FutureWarning: Support for nested sequences for 'parse_dates' in pd.read_csv is deprecated. Combine the desired columns with pd.to_datetime after parsing instead.\n",
      "FutureWarning: Support for nested sequences for 'parse_dates' in pd.read_csv is deprecated. Combine the desired columns with pd.to_datetime after parsing instead.\n",
      "FutureWarning: Support for nested sequences for 'parse_dates' in pd.read_csv is deprecated. Combine the desired columns with pd.to_datetime after parsing instead.\n",
      "FutureWarning: Support for nested sequences for 'parse_dates' in pd.read_csv is deprecated. Combine the desired columns with pd.to_datetime after parsing instead.\n",
      "FutureWarning: Support for nested sequences for 'parse_dates' in pd.read_csv is deprecated. Combine the desired columns with pd.to_datetime after parsing instead.\n",
      "FutureWarning: Support for nested sequences for 'parse_dates' in pd.read_csv is deprecated. Combine the desired columns with pd.to_datetime after parsing instead.\n",
      "FutureWarning: Support for nested sequences for 'parse_dates' in pd.read_csv is deprecated. Combine the desired columns with pd.to_datetime after parsing instead.\n",
      "FutureWarning: Support for nested sequences for 'parse_dates' in pd.read_csv is deprecated. Combine the desired columns with pd.to_datetime after parsing instead.\n",
      "FutureWarning: Support for nested sequences for 'parse_dates' in pd.read_csv is deprecated. Combine the desired columns with pd.to_datetime after parsing instead.\n",
      "FutureWarning: Support for nested sequences for 'parse_dates' in pd.read_csv is deprecated. Combine the desired columns with pd.to_datetime after parsing instead.\n",
      "FutureWarning: Support for nested sequences for 'parse_dates' in pd.read_csv is deprecated. Combine the desired columns with pd.to_datetime after parsing instead.\n",
      "FutureWarning: Support for nested sequences for 'parse_dates' in pd.read_csv is deprecated. Combine the desired columns with pd.to_datetime after parsing instead.\n",
      "FutureWarning: Support for nested sequences for 'parse_dates' in pd.read_csv is deprecated. Combine the desired columns with pd.to_datetime after parsing instead.\n",
      "FutureWarning: Support for nested sequences for 'parse_dates' in pd.read_csv is deprecated. Combine the desired columns with pd.to_datetime after parsing instead.\n",
      "FutureWarning: Support for nested sequences for 'parse_dates' in pd.read_csv is deprecated. Combine the desired columns with pd.to_datetime after parsing instead.\n",
      "FutureWarning: Support for nested sequences for 'parse_dates' in pd.read_csv is deprecated. Combine the desired columns with pd.to_datetime after parsing instead.\n",
      "FutureWarning: Support for nested sequences for 'parse_dates' in pd.read_csv is deprecated. Combine the desired columns with pd.to_datetime after parsing instead.\n",
      "FutureWarning: Support for nested sequences for 'parse_dates' in pd.read_csv is deprecated. Combine the desired columns with pd.to_datetime after parsing instead.\n",
      "FutureWarning: Support for nested sequences for 'parse_dates' in pd.read_csv is deprecated. Combine the desired columns with pd.to_datetime after parsing instead.\n",
      "FutureWarning: Support for nested sequences for 'parse_dates' in pd.read_csv is deprecated. Combine the desired columns with pd.to_datetime after parsing instead.\n",
      "FutureWarning: Support for nested sequences for 'parse_dates' in pd.read_csv is deprecated. Combine the desired columns with pd.to_datetime after parsing instead.\n",
      "FutureWarning: Support for nested sequences for 'parse_dates' in pd.read_csv is deprecated. Combine the desired columns with pd.to_datetime after parsing instead.\n",
      "FutureWarning: Support for nested sequences for 'parse_dates' in pd.read_csv is deprecated. Combine the desired columns with pd.to_datetime after parsing instead.\n",
      "FutureWarning: Support for nested sequences for 'parse_dates' in pd.read_csv is deprecated. Combine the desired columns with pd.to_datetime after parsing instead.\n",
      "FutureWarning: Support for nested sequences for 'parse_dates' in pd.read_csv is deprecated. Combine the desired columns with pd.to_datetime after parsing instead.\n",
      "FutureWarning: Support for nested sequences for 'parse_dates' in pd.read_csv is deprecated. Combine the desired columns with pd.to_datetime after parsing instead.\n",
      "FutureWarning: Support for nested sequences for 'parse_dates' in pd.read_csv is deprecated. Combine the desired columns with pd.to_datetime after parsing instead.\n",
      "FutureWarning: Support for nested sequences for 'parse_dates' in pd.read_csv is deprecated. Combine the desired columns with pd.to_datetime after parsing instead.\n",
      "FutureWarning: Support for nested sequences for 'parse_dates' in pd.read_csv is deprecated. Combine the desired columns with pd.to_datetime after parsing instead.\n",
      "FutureWarning: Support for nested sequences for 'parse_dates' in pd.read_csv is deprecated. Combine the desired columns with pd.to_datetime after parsing instead.\n",
      "FutureWarning: Support for nested sequences for 'parse_dates' in pd.read_csv is deprecated. Combine the desired columns with pd.to_datetime after parsing instead.\n",
      "FutureWarning: Support for nested sequences for 'parse_dates' in pd.read_csv is deprecated. Combine the desired columns with pd.to_datetime after parsing instead.\n",
      "FutureWarning: Support for nested sequences for 'parse_dates' in pd.read_csv is deprecated. Combine the desired columns with pd.to_datetime after parsing instead.\n",
      "FutureWarning: Support for nested sequences for 'parse_dates' in pd.read_csv is deprecated. Combine the desired columns with pd.to_datetime after parsing instead.\n",
      "FutureWarning: Support for nested sequences for 'parse_dates' in pd.read_csv is deprecated. Combine the desired columns with pd.to_datetime after parsing instead.\n",
      "FutureWarning: Support for nested sequences for 'parse_dates' in pd.read_csv is deprecated. Combine the desired columns with pd.to_datetime after parsing instead.\n",
      "FutureWarning: Support for nested sequences for 'parse_dates' in pd.read_csv is deprecated. Combine the desired columns with pd.to_datetime after parsing instead.\n",
      "FutureWarning: Support for nested sequences for 'parse_dates' in pd.read_csv is deprecated. Combine the desired columns with pd.to_datetime after parsing instead.\n",
      "FutureWarning: Support for nested sequences for 'parse_dates' in pd.read_csv is deprecated. Combine the desired columns with pd.to_datetime after parsing instead.\n",
      "FutureWarning: Support for nested sequences for 'parse_dates' in pd.read_csv is deprecated. Combine the desired columns with pd.to_datetime after parsing instead.\n",
      "FutureWarning: Support for nested sequences for 'parse_dates' in pd.read_csv is deprecated. Combine the desired columns with pd.to_datetime after parsing instead.\n",
      "FutureWarning: Support for nested sequences for 'parse_dates' in pd.read_csv is deprecated. Combine the desired columns with pd.to_datetime after parsing instead.\n",
      "FutureWarning: Support for nested sequences for 'parse_dates' in pd.read_csv is deprecated. Combine the desired columns with pd.to_datetime after parsing instead.\n",
      "FutureWarning: Support for nested sequences for 'parse_dates' in pd.read_csv is deprecated. Combine the desired columns with pd.to_datetime after parsing instead.\n",
      "FutureWarning: Support for nested sequences for 'parse_dates' in pd.read_csv is deprecated. Combine the desired columns with pd.to_datetime after parsing instead.\n",
      "FutureWarning: Support for nested sequences for 'parse_dates' in pd.read_csv is deprecated. Combine the desired columns with pd.to_datetime after parsing instead.\n",
      "FutureWarning: Support for nested sequences for 'parse_dates' in pd.read_csv is deprecated. Combine the desired columns with pd.to_datetime after parsing instead.\n",
      "FutureWarning: Support for nested sequences for 'parse_dates' in pd.read_csv is deprecated. Combine the desired columns with pd.to_datetime after parsing instead.\n",
      "FutureWarning: Support for nested sequences for 'parse_dates' in pd.read_csv is deprecated. Combine the desired columns with pd.to_datetime after parsing instead.\n",
      "FutureWarning: Support for nested sequences for 'parse_dates' in pd.read_csv is deprecated. Combine the desired columns with pd.to_datetime after parsing instead.\n",
      "FutureWarning: Support for nested sequences for 'parse_dates' in pd.read_csv is deprecated. Combine the desired columns with pd.to_datetime after parsing instead.\n",
      "FutureWarning: Support for nested sequences for 'parse_dates' in pd.read_csv is deprecated. Combine the desired columns with pd.to_datetime after parsing instead.\n",
      "FutureWarning: Support for nested sequences for 'parse_dates' in pd.read_csv is deprecated. Combine the desired columns with pd.to_datetime after parsing instead.\n",
      "FutureWarning: Support for nested sequences for 'parse_dates' in pd.read_csv is deprecated. Combine the desired columns with pd.to_datetime after parsing instead.\n",
      "FutureWarning: Support for nested sequences for 'parse_dates' in pd.read_csv is deprecated. Combine the desired columns with pd.to_datetime after parsing instead.\n",
      "FutureWarning: Support for nested sequences for 'parse_dates' in pd.read_csv is deprecated. Combine the desired columns with pd.to_datetime after parsing instead.\n",
      "FutureWarning: Support for nested sequences for 'parse_dates' in pd.read_csv is deprecated. Combine the desired columns with pd.to_datetime after parsing instead.\n",
      "FutureWarning: Support for nested sequences for 'parse_dates' in pd.read_csv is deprecated. Combine the desired columns with pd.to_datetime after parsing instead.\n",
      "FutureWarning: Support for nested sequences for 'parse_dates' in pd.read_csv is deprecated. Combine the desired columns with pd.to_datetime after parsing instead.\n",
      "FutureWarning: Support for nested sequences for 'parse_dates' in pd.read_csv is deprecated. Combine the desired columns with pd.to_datetime after parsing instead.\n",
      "FutureWarning: Support for nested sequences for 'parse_dates' in pd.read_csv is deprecated. Combine the desired columns with pd.to_datetime after parsing instead.\n",
      "FutureWarning: Support for nested sequences for 'parse_dates' in pd.read_csv is deprecated. Combine the desired columns with pd.to_datetime after parsing instead.\n",
      "FutureWarning: Support for nested sequences for 'parse_dates' in pd.read_csv is deprecated. Combine the desired columns with pd.to_datetime after parsing instead.\n",
      "FutureWarning: Support for nested sequences for 'parse_dates' in pd.read_csv is deprecated. Combine the desired columns with pd.to_datetime after parsing instead.\n",
      "FutureWarning: Support for nested sequences for 'parse_dates' in pd.read_csv is deprecated. Combine the desired columns with pd.to_datetime after parsing instead.\n",
      "FutureWarning: Support for nested sequences for 'parse_dates' in pd.read_csv is deprecated. Combine the desired columns with pd.to_datetime after parsing instead.\n",
      "FutureWarning: Support for nested sequences for 'parse_dates' in pd.read_csv is deprecated. Combine the desired columns with pd.to_datetime after parsing instead.\n",
      "FutureWarning: Support for nested sequences for 'parse_dates' in pd.read_csv is deprecated. Combine the desired columns with pd.to_datetime after parsing instead.\n",
      "FutureWarning: Support for nested sequences for 'parse_dates' in pd.read_csv is deprecated. Combine the desired columns with pd.to_datetime after parsing instead.\n",
      "FutureWarning: Support for nested sequences for 'parse_dates' in pd.read_csv is deprecated. Combine the desired columns with pd.to_datetime after parsing instead.\n",
      "FutureWarning: Support for nested sequences for 'parse_dates' in pd.read_csv is deprecated. Combine the desired columns with pd.to_datetime after parsing instead.\n",
      "FutureWarning: Support for nested sequences for 'parse_dates' in pd.read_csv is deprecated. Combine the desired columns with pd.to_datetime after parsing instead.\n",
      "FutureWarning: Support for nested sequences for 'parse_dates' in pd.read_csv is deprecated. Combine the desired columns with pd.to_datetime after parsing instead.\n",
      "FutureWarning: Support for nested sequences for 'parse_dates' in pd.read_csv is deprecated. Combine the desired columns with pd.to_datetime after parsing instead.\n",
      "FutureWarning: Support for nested sequences for 'parse_dates' in pd.read_csv is deprecated. Combine the desired columns with pd.to_datetime after parsing instead.\n",
      "FutureWarning: Support for nested sequences for 'parse_dates' in pd.read_csv is deprecated. Combine the desired columns with pd.to_datetime after parsing instead.\n",
      "FutureWarning: Support for nested sequences for 'parse_dates' in pd.read_csv is deprecated. Combine the desired columns with pd.to_datetime after parsing instead.\n",
      "FutureWarning: Support for nested sequences for 'parse_dates' in pd.read_csv is deprecated. Combine the desired columns with pd.to_datetime after parsing instead.\n",
      "FutureWarning: Support for nested sequences for 'parse_dates' in pd.read_csv is deprecated. Combine the desired columns with pd.to_datetime after parsing instead.\n",
      "FutureWarning: Support for nested sequences for 'parse_dates' in pd.read_csv is deprecated. Combine the desired columns with pd.to_datetime after parsing instead.\n",
      "FutureWarning: Support for nested sequences for 'parse_dates' in pd.read_csv is deprecated. Combine the desired columns with pd.to_datetime after parsing instead.\n",
      "FutureWarning: Support for nested sequences for 'parse_dates' in pd.read_csv is deprecated. Combine the desired columns with pd.to_datetime after parsing instead.\n",
      "FutureWarning: Support for nested sequences for 'parse_dates' in pd.read_csv is deprecated. Combine the desired columns with pd.to_datetime after parsing instead.\n",
      "FutureWarning: The behavior of array concatenation with empty entries is deprecated. In a future version, this will no longer exclude empty items when determining the result dtype. To retain the old behavior, exclude the empty entries before the concat operation.\n",
      "FutureWarning: The behavior of DataFrame concatenation with empty or all-NA entries is deprecated. In a future version, this will no longer exclude empty or all-NA columns when determining the result dtypes. To retain the old behavior, exclude the relevant entries before the concat operation.\n",
      "FutureWarning: Support for nested sequences for 'parse_dates' in pd.read_csv is deprecated. Combine the desired columns with pd.to_datetime after parsing instead.\n",
      "FutureWarning: Support for nested sequences for 'parse_dates' in pd.read_csv is deprecated. Combine the desired columns with pd.to_datetime after parsing instead.\n",
      "FutureWarning: Support for nested sequences for 'parse_dates' in pd.read_csv is deprecated. Combine the desired columns with pd.to_datetime after parsing instead.\n",
      "FutureWarning: Support for nested sequences for 'parse_dates' in pd.read_csv is deprecated. Combine the desired columns with pd.to_datetime after parsing instead.\n",
      "FutureWarning: Support for nested sequences for 'parse_dates' in pd.read_csv is deprecated. Combine the desired columns with pd.to_datetime after parsing instead.\n",
      "FutureWarning: Support for nested sequences for 'parse_dates' in pd.read_csv is deprecated. Combine the desired columns with pd.to_datetime after parsing instead.\n",
      "FutureWarning: Support for nested sequences for 'parse_dates' in pd.read_csv is deprecated. Combine the desired columns with pd.to_datetime after parsing instead.\n",
      "FutureWarning: Support for nested sequences for 'parse_dates' in pd.read_csv is deprecated. Combine the desired columns with pd.to_datetime after parsing instead.\n",
      "FutureWarning: Support for nested sequences for 'parse_dates' in pd.read_csv is deprecated. Combine the desired columns with pd.to_datetime after parsing instead.\n",
      "FutureWarning: Support for nested sequences for 'parse_dates' in pd.read_csv is deprecated. Combine the desired columns with pd.to_datetime after parsing instead.\n",
      "FutureWarning: Support for nested sequences for 'parse_dates' in pd.read_csv is deprecated. Combine the desired columns with pd.to_datetime after parsing instead.\n",
      "FutureWarning: Support for nested sequences for 'parse_dates' in pd.read_csv is deprecated. Combine the desired columns with pd.to_datetime after parsing instead.\n",
      "FutureWarning: Support for nested sequences for 'parse_dates' in pd.read_csv is deprecated. Combine the desired columns with pd.to_datetime after parsing instead.\n",
      "FutureWarning: Support for nested sequences for 'parse_dates' in pd.read_csv is deprecated. Combine the desired columns with pd.to_datetime after parsing instead.\n",
      "FutureWarning: Support for nested sequences for 'parse_dates' in pd.read_csv is deprecated. Combine the desired columns with pd.to_datetime after parsing instead.\n",
      "FutureWarning: Support for nested sequences for 'parse_dates' in pd.read_csv is deprecated. Combine the desired columns with pd.to_datetime after parsing instead.\n",
      "FutureWarning: The behavior of array concatenation with empty entries is deprecated. In a future version, this will no longer exclude empty items when determining the result dtype. To retain the old behavior, exclude the empty entries before the concat operation.\n",
      "FutureWarning: The behavior of DataFrame concatenation with empty or all-NA entries is deprecated. In a future version, this will no longer exclude empty or all-NA columns when determining the result dtypes. To retain the old behavior, exclude the relevant entries before the concat operation.\n",
      "FutureWarning: Support for nested sequences for 'parse_dates' in pd.read_csv is deprecated. Combine the desired columns with pd.to_datetime after parsing instead.\n",
      "FutureWarning: Support for nested sequences for 'parse_dates' in pd.read_csv is deprecated. Combine the desired columns with pd.to_datetime after parsing instead.\n",
      "FutureWarning: Support for nested sequences for 'parse_dates' in pd.read_csv is deprecated. Combine the desired columns with pd.to_datetime after parsing instead.\n",
      "FutureWarning: Support for nested sequences for 'parse_dates' in pd.read_csv is deprecated. Combine the desired columns with pd.to_datetime after parsing instead.\n",
      "FutureWarning: Support for nested sequences for 'parse_dates' in pd.read_csv is deprecated. Combine the desired columns with pd.to_datetime after parsing instead.\n",
      "FutureWarning: Support for nested sequences for 'parse_dates' in pd.read_csv is deprecated. Combine the desired columns with pd.to_datetime after parsing instead.\n",
      "FutureWarning: Support for nested sequences for 'parse_dates' in pd.read_csv is deprecated. Combine the desired columns with pd.to_datetime after parsing instead.\n",
      "FutureWarning: Support for nested sequences for 'parse_dates' in pd.read_csv is deprecated. Combine the desired columns with pd.to_datetime after parsing instead.\n",
      "FutureWarning: Support for nested sequences for 'parse_dates' in pd.read_csv is deprecated. Combine the desired columns with pd.to_datetime after parsing instead.\n",
      "FutureWarning: Support for nested sequences for 'parse_dates' in pd.read_csv is deprecated. Combine the desired columns with pd.to_datetime after parsing instead.\n",
      "FutureWarning: Support for nested sequences for 'parse_dates' in pd.read_csv is deprecated. Combine the desired columns with pd.to_datetime after parsing instead.\n",
      "FutureWarning: Support for nested sequences for 'parse_dates' in pd.read_csv is deprecated. Combine the desired columns with pd.to_datetime after parsing instead.\n",
      "FutureWarning: Support for nested sequences for 'parse_dates' in pd.read_csv is deprecated. Combine the desired columns with pd.to_datetime after parsing instead.\n",
      "FutureWarning: Support for nested sequences for 'parse_dates' in pd.read_csv is deprecated. Combine the desired columns with pd.to_datetime after parsing instead.\n",
      "FutureWarning: Support for nested sequences for 'parse_dates' in pd.read_csv is deprecated. Combine the desired columns with pd.to_datetime after parsing instead.\n",
      "FutureWarning: Support for nested sequences for 'parse_dates' in pd.read_csv is deprecated. Combine the desired columns with pd.to_datetime after parsing instead.\n",
      "FutureWarning: Support for nested sequences for 'parse_dates' in pd.read_csv is deprecated. Combine the desired columns with pd.to_datetime after parsing instead.\n",
      "FutureWarning: Support for nested sequences for 'parse_dates' in pd.read_csv is deprecated. Combine the desired columns with pd.to_datetime after parsing instead.\n",
      "FutureWarning: Support for nested sequences for 'parse_dates' in pd.read_csv is deprecated. Combine the desired columns with pd.to_datetime after parsing instead.\n",
      "FutureWarning: Support for nested sequences for 'parse_dates' in pd.read_csv is deprecated. Combine the desired columns with pd.to_datetime after parsing instead.\n",
      "FutureWarning: Support for nested sequences for 'parse_dates' in pd.read_csv is deprecated. Combine the desired columns with pd.to_datetime after parsing instead.\n",
      "FutureWarning: Support for nested sequences for 'parse_dates' in pd.read_csv is deprecated. Combine the desired columns with pd.to_datetime after parsing instead.\n",
      "FutureWarning: Support for nested sequences for 'parse_dates' in pd.read_csv is deprecated. Combine the desired columns with pd.to_datetime after parsing instead.\n",
      "FutureWarning: Support for nested sequences for 'parse_dates' in pd.read_csv is deprecated. Combine the desired columns with pd.to_datetime after parsing instead.\n",
      "FutureWarning: Support for nested sequences for 'parse_dates' in pd.read_csv is deprecated. Combine the desired columns with pd.to_datetime after parsing instead.\n",
      "FutureWarning: Support for nested sequences for 'parse_dates' in pd.read_csv is deprecated. Combine the desired columns with pd.to_datetime after parsing instead.\n",
      "FutureWarning: Support for nested sequences for 'parse_dates' in pd.read_csv is deprecated. Combine the desired columns with pd.to_datetime after parsing instead.\n",
      "FutureWarning: Support for nested sequences for 'parse_dates' in pd.read_csv is deprecated. Combine the desired columns with pd.to_datetime after parsing instead.\n",
      "FutureWarning: Support for nested sequences for 'parse_dates' in pd.read_csv is deprecated. Combine the desired columns with pd.to_datetime after parsing instead.\n",
      "FutureWarning: Support for nested sequences for 'parse_dates' in pd.read_csv is deprecated. Combine the desired columns with pd.to_datetime after parsing instead.\n",
      "FutureWarning: Support for nested sequences for 'parse_dates' in pd.read_csv is deprecated. Combine the desired columns with pd.to_datetime after parsing instead.\n",
      "FutureWarning: Support for nested sequences for 'parse_dates' in pd.read_csv is deprecated. Combine the desired columns with pd.to_datetime after parsing instead.\n",
      "FutureWarning: Support for nested sequences for 'parse_dates' in pd.read_csv is deprecated. Combine the desired columns with pd.to_datetime after parsing instead.\n",
      "FutureWarning: Support for nested sequences for 'parse_dates' in pd.read_csv is deprecated. Combine the desired columns with pd.to_datetime after parsing instead.\n",
      "FutureWarning: Support for nested sequences for 'parse_dates' in pd.read_csv is deprecated. Combine the desired columns with pd.to_datetime after parsing instead.\n",
      "FutureWarning: Support for nested sequences for 'parse_dates' in pd.read_csv is deprecated. Combine the desired columns with pd.to_datetime after parsing instead.\n",
      "FutureWarning: Support for nested sequences for 'parse_dates' in pd.read_csv is deprecated. Combine the desired columns with pd.to_datetime after parsing instead.\n",
      "FutureWarning: Support for nested sequences for 'parse_dates' in pd.read_csv is deprecated. Combine the desired columns with pd.to_datetime after parsing instead.\n",
      "FutureWarning: Support for nested sequences for 'parse_dates' in pd.read_csv is deprecated. Combine the desired columns with pd.to_datetime after parsing instead.\n",
      "FutureWarning: Support for nested sequences for 'parse_dates' in pd.read_csv is deprecated. Combine the desired columns with pd.to_datetime after parsing instead.\n",
      "FutureWarning: Support for nested sequences for 'parse_dates' in pd.read_csv is deprecated. Combine the desired columns with pd.to_datetime after parsing instead.\n",
      "FutureWarning: Support for nested sequences for 'parse_dates' in pd.read_csv is deprecated. Combine the desired columns with pd.to_datetime after parsing instead.\n",
      "FutureWarning: Support for nested sequences for 'parse_dates' in pd.read_csv is deprecated. Combine the desired columns with pd.to_datetime after parsing instead.\n",
      "FutureWarning: Support for nested sequences for 'parse_dates' in pd.read_csv is deprecated. Combine the desired columns with pd.to_datetime after parsing instead.\n",
      "FutureWarning: Support for nested sequences for 'parse_dates' in pd.read_csv is deprecated. Combine the desired columns with pd.to_datetime after parsing instead.\n",
      "FutureWarning: Support for nested sequences for 'parse_dates' in pd.read_csv is deprecated. Combine the desired columns with pd.to_datetime after parsing instead.\n",
      "FutureWarning: Support for nested sequences for 'parse_dates' in pd.read_csv is deprecated. Combine the desired columns with pd.to_datetime after parsing instead.\n",
      "FutureWarning: Support for nested sequences for 'parse_dates' in pd.read_csv is deprecated. Combine the desired columns with pd.to_datetime after parsing instead.\n",
      "FutureWarning: Support for nested sequences for 'parse_dates' in pd.read_csv is deprecated. Combine the desired columns with pd.to_datetime after parsing instead.\n",
      "FutureWarning: Support for nested sequences for 'parse_dates' in pd.read_csv is deprecated. Combine the desired columns with pd.to_datetime after parsing instead.\n",
      "FutureWarning: Support for nested sequences for 'parse_dates' in pd.read_csv is deprecated. Combine the desired columns with pd.to_datetime after parsing instead.\n",
      "FutureWarning: Support for nested sequences for 'parse_dates' in pd.read_csv is deprecated. Combine the desired columns with pd.to_datetime after parsing instead.\n",
      "FutureWarning: Support for nested sequences for 'parse_dates' in pd.read_csv is deprecated. Combine the desired columns with pd.to_datetime after parsing instead.\n",
      "FutureWarning: Support for nested sequences for 'parse_dates' in pd.read_csv is deprecated. Combine the desired columns with pd.to_datetime after parsing instead.\n",
      "FutureWarning: Support for nested sequences for 'parse_dates' in pd.read_csv is deprecated. Combine the desired columns with pd.to_datetime after parsing instead.\n",
      "FutureWarning: Support for nested sequences for 'parse_dates' in pd.read_csv is deprecated. Combine the desired columns with pd.to_datetime after parsing instead.\n",
      "FutureWarning: Support for nested sequences for 'parse_dates' in pd.read_csv is deprecated. Combine the desired columns with pd.to_datetime after parsing instead.\n",
      "FutureWarning: Support for nested sequences for 'parse_dates' in pd.read_csv is deprecated. Combine the desired columns with pd.to_datetime after parsing instead.\n",
      "FutureWarning: Support for nested sequences for 'parse_dates' in pd.read_csv is deprecated. Combine the desired columns with pd.to_datetime after parsing instead.\n",
      "FutureWarning: Support for nested sequences for 'parse_dates' in pd.read_csv is deprecated. Combine the desired columns with pd.to_datetime after parsing instead.\n",
      "FutureWarning: Support for nested sequences for 'parse_dates' in pd.read_csv is deprecated. Combine the desired columns with pd.to_datetime after parsing instead.\n",
      "FutureWarning: Support for nested sequences for 'parse_dates' in pd.read_csv is deprecated. Combine the desired columns with pd.to_datetime after parsing instead.\n",
      "FutureWarning: Support for nested sequences for 'parse_dates' in pd.read_csv is deprecated. Combine the desired columns with pd.to_datetime after parsing instead.\n",
      "FutureWarning: Support for nested sequences for 'parse_dates' in pd.read_csv is deprecated. Combine the desired columns with pd.to_datetime after parsing instead.\n",
      "FutureWarning: Support for nested sequences for 'parse_dates' in pd.read_csv is deprecated. Combine the desired columns with pd.to_datetime after parsing instead.\n",
      "FutureWarning: Support for nested sequences for 'parse_dates' in pd.read_csv is deprecated. Combine the desired columns with pd.to_datetime after parsing instead.\n",
      "FutureWarning: Support for nested sequences for 'parse_dates' in pd.read_csv is deprecated. Combine the desired columns with pd.to_datetime after parsing instead.\n",
      "FutureWarning: Support for nested sequences for 'parse_dates' in pd.read_csv is deprecated. Combine the desired columns with pd.to_datetime after parsing instead.\n",
      "FutureWarning: Support for nested sequences for 'parse_dates' in pd.read_csv is deprecated. Combine the desired columns with pd.to_datetime after parsing instead.\n",
      "FutureWarning: Support for nested sequences for 'parse_dates' in pd.read_csv is deprecated. Combine the desired columns with pd.to_datetime after parsing instead.\n",
      "FutureWarning: Support for nested sequences for 'parse_dates' in pd.read_csv is deprecated. Combine the desired columns with pd.to_datetime after parsing instead.\n",
      "FutureWarning: Support for nested sequences for 'parse_dates' in pd.read_csv is deprecated. Combine the desired columns with pd.to_datetime after parsing instead.\n",
      "Warning: Cannot load daily/CYWR0.csv.gz from https://bulk.meteostat.net/v2/\n",
      "FutureWarning: The behavior of array concatenation with empty entries is deprecated. In a future version, this will no longer exclude empty items when determining the result dtype. To retain the old behavior, exclude the empty entries before the concat operation.\n",
      "FutureWarning: The behavior of DataFrame concatenation with empty or all-NA entries is deprecated. In a future version, this will no longer exclude empty or all-NA columns when determining the result dtypes. To retain the old behavior, exclude the relevant entries before the concat operation.\n",
      "FutureWarning: Support for nested sequences for 'parse_dates' in pd.read_csv is deprecated. Combine the desired columns with pd.to_datetime after parsing instead.\n",
      "FutureWarning: Support for nested sequences for 'parse_dates' in pd.read_csv is deprecated. Combine the desired columns with pd.to_datetime after parsing instead.\n",
      "FutureWarning: Support for nested sequences for 'parse_dates' in pd.read_csv is deprecated. Combine the desired columns with pd.to_datetime after parsing instead.\n",
      "FutureWarning: Support for nested sequences for 'parse_dates' in pd.read_csv is deprecated. Combine the desired columns with pd.to_datetime after parsing instead.\n",
      "FutureWarning: Support for nested sequences for 'parse_dates' in pd.read_csv is deprecated. Combine the desired columns with pd.to_datetime after parsing instead.\n",
      "FutureWarning: Support for nested sequences for 'parse_dates' in pd.read_csv is deprecated. Combine the desired columns with pd.to_datetime after parsing instead.\n",
      "FutureWarning: Support for nested sequences for 'parse_dates' in pd.read_csv is deprecated. Combine the desired columns with pd.to_datetime after parsing instead.\n",
      "FutureWarning: Support for nested sequences for 'parse_dates' in pd.read_csv is deprecated. Combine the desired columns with pd.to_datetime after parsing instead.\n",
      "FutureWarning: Support for nested sequences for 'parse_dates' in pd.read_csv is deprecated. Combine the desired columns with pd.to_datetime after parsing instead.\n",
      "FutureWarning: Support for nested sequences for 'parse_dates' in pd.read_csv is deprecated. Combine the desired columns with pd.to_datetime after parsing instead.\n",
      "FutureWarning: Support for nested sequences for 'parse_dates' in pd.read_csv is deprecated. Combine the desired columns with pd.to_datetime after parsing instead.\n",
      "FutureWarning: Support for nested sequences for 'parse_dates' in pd.read_csv is deprecated. Combine the desired columns with pd.to_datetime after parsing instead.\n",
      "FutureWarning: Support for nested sequences for 'parse_dates' in pd.read_csv is deprecated. Combine the desired columns with pd.to_datetime after parsing instead.\n",
      "FutureWarning: Support for nested sequences for 'parse_dates' in pd.read_csv is deprecated. Combine the desired columns with pd.to_datetime after parsing instead.\n",
      "FutureWarning: Support for nested sequences for 'parse_dates' in pd.read_csv is deprecated. Combine the desired columns with pd.to_datetime after parsing instead.\n",
      "FutureWarning: Support for nested sequences for 'parse_dates' in pd.read_csv is deprecated. Combine the desired columns with pd.to_datetime after parsing instead.\n",
      "FutureWarning: Support for nested sequences for 'parse_dates' in pd.read_csv is deprecated. Combine the desired columns with pd.to_datetime after parsing instead.\n",
      "FutureWarning: Support for nested sequences for 'parse_dates' in pd.read_csv is deprecated. Combine the desired columns with pd.to_datetime after parsing instead.\n",
      "FutureWarning: Support for nested sequences for 'parse_dates' in pd.read_csv is deprecated. Combine the desired columns with pd.to_datetime after parsing instead.\n",
      "FutureWarning: Support for nested sequences for 'parse_dates' in pd.read_csv is deprecated. Combine the desired columns with pd.to_datetime after parsing instead.\n",
      "FutureWarning: Support for nested sequences for 'parse_dates' in pd.read_csv is deprecated. Combine the desired columns with pd.to_datetime after parsing instead.\n",
      "FutureWarning: Support for nested sequences for 'parse_dates' in pd.read_csv is deprecated. Combine the desired columns with pd.to_datetime after parsing instead.\n",
      "FutureWarning: Support for nested sequences for 'parse_dates' in pd.read_csv is deprecated. Combine the desired columns with pd.to_datetime after parsing instead.\n",
      "FutureWarning: Support for nested sequences for 'parse_dates' in pd.read_csv is deprecated. Combine the desired columns with pd.to_datetime after parsing instead.\n",
      "FutureWarning: Support for nested sequences for 'parse_dates' in pd.read_csv is deprecated. Combine the desired columns with pd.to_datetime after parsing instead.\n",
      "FutureWarning: Support for nested sequences for 'parse_dates' in pd.read_csv is deprecated. Combine the desired columns with pd.to_datetime after parsing instead.\n",
      "FutureWarning: Support for nested sequences for 'parse_dates' in pd.read_csv is deprecated. Combine the desired columns with pd.to_datetime after parsing instead.\n",
      "FutureWarning: Support for nested sequences for 'parse_dates' in pd.read_csv is deprecated. Combine the desired columns with pd.to_datetime after parsing instead.\n",
      "FutureWarning: Support for nested sequences for 'parse_dates' in pd.read_csv is deprecated. Combine the desired columns with pd.to_datetime after parsing instead.\n",
      "FutureWarning: Support for nested sequences for 'parse_dates' in pd.read_csv is deprecated. Combine the desired columns with pd.to_datetime after parsing instead.\n",
      "Warning: Cannot load daily/CWRE0.csv.gz from https://bulk.meteostat.net/v2/\n",
      "FutureWarning: Support for nested sequences for 'parse_dates' in pd.read_csv is deprecated. Combine the desired columns with pd.to_datetime after parsing instead.\n",
      "FutureWarning: Support for nested sequences for 'parse_dates' in pd.read_csv is deprecated. Combine the desired columns with pd.to_datetime after parsing instead.\n",
      "FutureWarning: Support for nested sequences for 'parse_dates' in pd.read_csv is deprecated. Combine the desired columns with pd.to_datetime after parsing instead.\n",
      "FutureWarning: Support for nested sequences for 'parse_dates' in pd.read_csv is deprecated. Combine the desired columns with pd.to_datetime after parsing instead.\n",
      "FutureWarning: Support for nested sequences for 'parse_dates' in pd.read_csv is deprecated. Combine the desired columns with pd.to_datetime after parsing instead.\n",
      "FutureWarning: Support for nested sequences for 'parse_dates' in pd.read_csv is deprecated. Combine the desired columns with pd.to_datetime after parsing instead.\n",
      "FutureWarning: Support for nested sequences for 'parse_dates' in pd.read_csv is deprecated. Combine the desired columns with pd.to_datetime after parsing instead.\n",
      "FutureWarning: Support for nested sequences for 'parse_dates' in pd.read_csv is deprecated. Combine the desired columns with pd.to_datetime after parsing instead.\n",
      "FutureWarning: Support for nested sequences for 'parse_dates' in pd.read_csv is deprecated. Combine the desired columns with pd.to_datetime after parsing instead.\n",
      "FutureWarning: Support for nested sequences for 'parse_dates' in pd.read_csv is deprecated. Combine the desired columns with pd.to_datetime after parsing instead.\n",
      "FutureWarning: Support for nested sequences for 'parse_dates' in pd.read_csv is deprecated. Combine the desired columns with pd.to_datetime after parsing instead.\n",
      "FutureWarning: Support for nested sequences for 'parse_dates' in pd.read_csv is deprecated. Combine the desired columns with pd.to_datetime after parsing instead.\n",
      "FutureWarning: Support for nested sequences for 'parse_dates' in pd.read_csv is deprecated. Combine the desired columns with pd.to_datetime after parsing instead.\n",
      "FutureWarning: Support for nested sequences for 'parse_dates' in pd.read_csv is deprecated. Combine the desired columns with pd.to_datetime after parsing instead.\n"
     ]
    }
   ],
   "source": [
    "daily_weather = pd.DataFrame()\n",
    "\n",
    "for i, row in station.iterrows():\n",
    "    # print(row['latitude'], row['longitude'])\n",
    "\n",
    "    # Set time period\n",
    "    start = datetime(2018, 1, 1)\n",
    "    end = datetime(2025, 12, 31)\n",
    "\n",
    "    # Create Point for Vancouver, BC\n",
    "    pull_point = Point(row['latitude'],row['longitude'] )\n",
    "\n",
    "    # Get daily data for 2018\n",
    "    data = Daily(pull_point, start, end)\n",
    "    data = data.fetch()\n",
    "    data['name'] = row['name']\n",
    "    data['lat'] = row['latitude']\n",
    "    data['lon'] = row['longitude']\n",
    "\n",
    "    daily_weather = pd.concat([daily_weather,data])\n"
   ]
  },
  {
   "cell_type": "code",
   "execution_count": 45,
   "metadata": {},
   "outputs": [
    {
     "data": {
      "text/html": [
       "<div>\n",
       "<style scoped>\n",
       "    .dataframe tbody tr th:only-of-type {\n",
       "        vertical-align: middle;\n",
       "    }\n",
       "\n",
       "    .dataframe tbody tr th {\n",
       "        vertical-align: top;\n",
       "    }\n",
       "\n",
       "    .dataframe thead th {\n",
       "        text-align: right;\n",
       "    }\n",
       "</style>\n",
       "<table border=\"1\" class=\"dataframe\">\n",
       "  <thead>\n",
       "    <tr style=\"text-align: right;\">\n",
       "      <th></th>\n",
       "      <th>tavg</th>\n",
       "      <th>tmin</th>\n",
       "      <th>tmax</th>\n",
       "      <th>prcp</th>\n",
       "      <th>snow</th>\n",
       "      <th>wdir</th>\n",
       "      <th>wspd</th>\n",
       "      <th>wpgt</th>\n",
       "      <th>pres</th>\n",
       "      <th>tsun</th>\n",
       "      <th>name</th>\n",
       "      <th>lat</th>\n",
       "      <th>lon</th>\n",
       "    </tr>\n",
       "  </thead>\n",
       "  <tbody>\n",
       "    <tr>\n",
       "      <th>2018-01-01</th>\n",
       "      <td>-25.9</td>\n",
       "      <td>-30.0</td>\n",
       "      <td>-20.0</td>\n",
       "      <td>0.0</td>\n",
       "      <td>NaN</td>\n",
       "      <td>282.0</td>\n",
       "      <td>11.7</td>\n",
       "      <td>NaN</td>\n",
       "      <td>1046.5</td>\n",
       "      <td>NaN</td>\n",
       "      <td>Ames / Old Orchard Mobile Home Park</td>\n",
       "      <td>41.9921</td>\n",
       "      <td>-93.6218</td>\n",
       "    </tr>\n",
       "    <tr>\n",
       "      <th>2018-01-02</th>\n",
       "      <td>-19.0</td>\n",
       "      <td>-30.0</td>\n",
       "      <td>-7.2</td>\n",
       "      <td>0.0</td>\n",
       "      <td>NaN</td>\n",
       "      <td>246.0</td>\n",
       "      <td>17.7</td>\n",
       "      <td>NaN</td>\n",
       "      <td>1033.8</td>\n",
       "      <td>NaN</td>\n",
       "      <td>Ames / Old Orchard Mobile Home Park</td>\n",
       "      <td>41.9921</td>\n",
       "      <td>-93.6218</td>\n",
       "    </tr>\n",
       "    <tr>\n",
       "      <th>2018-01-03</th>\n",
       "      <td>-14.1</td>\n",
       "      <td>-18.3</td>\n",
       "      <td>-6.7</td>\n",
       "      <td>0.0</td>\n",
       "      <td>NaN</td>\n",
       "      <td>322.0</td>\n",
       "      <td>24.0</td>\n",
       "      <td>NaN</td>\n",
       "      <td>1026.2</td>\n",
       "      <td>NaN</td>\n",
       "      <td>Ames / Old Orchard Mobile Home Park</td>\n",
       "      <td>41.9921</td>\n",
       "      <td>-93.6218</td>\n",
       "    </tr>\n",
       "    <tr>\n",
       "      <th>2018-01-04</th>\n",
       "      <td>-16.1</td>\n",
       "      <td>-20.6</td>\n",
       "      <td>-13.3</td>\n",
       "      <td>0.0</td>\n",
       "      <td>NaN</td>\n",
       "      <td>NaN</td>\n",
       "      <td>6.9</td>\n",
       "      <td>NaN</td>\n",
       "      <td>1030.4</td>\n",
       "      <td>NaN</td>\n",
       "      <td>Ames / Old Orchard Mobile Home Park</td>\n",
       "      <td>41.9921</td>\n",
       "      <td>-93.6218</td>\n",
       "    </tr>\n",
       "    <tr>\n",
       "      <th>2018-01-05</th>\n",
       "      <td>-15.0</td>\n",
       "      <td>-20.0</td>\n",
       "      <td>-13.3</td>\n",
       "      <td>0.0</td>\n",
       "      <td>NaN</td>\n",
       "      <td>38.0</td>\n",
       "      <td>10.6</td>\n",
       "      <td>NaN</td>\n",
       "      <td>1033.8</td>\n",
       "      <td>NaN</td>\n",
       "      <td>Ames / Old Orchard Mobile Home Park</td>\n",
       "      <td>41.9921</td>\n",
       "      <td>-93.6218</td>\n",
       "    </tr>\n",
       "    <tr>\n",
       "      <th>...</th>\n",
       "      <td>...</td>\n",
       "      <td>...</td>\n",
       "      <td>...</td>\n",
       "      <td>...</td>\n",
       "      <td>...</td>\n",
       "      <td>...</td>\n",
       "      <td>...</td>\n",
       "      <td>...</td>\n",
       "      <td>...</td>\n",
       "      <td>...</td>\n",
       "      <td>...</td>\n",
       "      <td>...</td>\n",
       "      <td>...</td>\n",
       "    </tr>\n",
       "    <tr>\n",
       "      <th>2025-04-12</th>\n",
       "      <td>15.0</td>\n",
       "      <td>7.8</td>\n",
       "      <td>21.1</td>\n",
       "      <td>0.0</td>\n",
       "      <td>NaN</td>\n",
       "      <td>40.0</td>\n",
       "      <td>7.8</td>\n",
       "      <td>NaN</td>\n",
       "      <td>1021.7</td>\n",
       "      <td>NaN</td>\n",
       "      <td>Greenville / Brighton</td>\n",
       "      <td>33.4829</td>\n",
       "      <td>-90.9856</td>\n",
       "    </tr>\n",
       "    <tr>\n",
       "      <th>2025-04-13</th>\n",
       "      <td>19.9</td>\n",
       "      <td>12.0</td>\n",
       "      <td>27.0</td>\n",
       "      <td>0.0</td>\n",
       "      <td>NaN</td>\n",
       "      <td>174.0</td>\n",
       "      <td>25.4</td>\n",
       "      <td>NaN</td>\n",
       "      <td>1016.5</td>\n",
       "      <td>NaN</td>\n",
       "      <td>Greenville / Brighton</td>\n",
       "      <td>33.4829</td>\n",
       "      <td>-90.9856</td>\n",
       "    </tr>\n",
       "    <tr>\n",
       "      <th>2025-04-14</th>\n",
       "      <td>22.0</td>\n",
       "      <td>17.8</td>\n",
       "      <td>26.5</td>\n",
       "      <td>0.0</td>\n",
       "      <td>NaN</td>\n",
       "      <td>211.0</td>\n",
       "      <td>21.0</td>\n",
       "      <td>NaN</td>\n",
       "      <td>1015.7</td>\n",
       "      <td>NaN</td>\n",
       "      <td>Greenville / Brighton</td>\n",
       "      <td>33.4829</td>\n",
       "      <td>-90.9856</td>\n",
       "    </tr>\n",
       "    <tr>\n",
       "      <th>2025-04-15</th>\n",
       "      <td>18.2</td>\n",
       "      <td>11.8</td>\n",
       "      <td>22.0</td>\n",
       "      <td>0.0</td>\n",
       "      <td>NaN</td>\n",
       "      <td>356.0</td>\n",
       "      <td>15.4</td>\n",
       "      <td>NaN</td>\n",
       "      <td>1022.1</td>\n",
       "      <td>NaN</td>\n",
       "      <td>Greenville / Brighton</td>\n",
       "      <td>33.4829</td>\n",
       "      <td>-90.9856</td>\n",
       "    </tr>\n",
       "    <tr>\n",
       "      <th>2025-04-16</th>\n",
       "      <td>15.0</td>\n",
       "      <td>8.7</td>\n",
       "      <td>20.9</td>\n",
       "      <td>0.0</td>\n",
       "      <td>NaN</td>\n",
       "      <td>140.0</td>\n",
       "      <td>6.3</td>\n",
       "      <td>NaN</td>\n",
       "      <td>1021.4</td>\n",
       "      <td>NaN</td>\n",
       "      <td>Greenville / Brighton</td>\n",
       "      <td>33.4829</td>\n",
       "      <td>-90.9856</td>\n",
       "    </tr>\n",
       "  </tbody>\n",
       "</table>\n",
       "<p>2546273 rows × 13 columns</p>\n",
       "</div>"
      ],
      "text/plain": [
       "            tavg  tmin  tmax  prcp  snow   wdir  wspd  wpgt    pres  tsun  \\\n",
       "2018-01-01 -25.9 -30.0 -20.0   0.0   NaN  282.0  11.7   NaN  1046.5   NaN   \n",
       "2018-01-02 -19.0 -30.0  -7.2   0.0   NaN  246.0  17.7   NaN  1033.8   NaN   \n",
       "2018-01-03 -14.1 -18.3  -6.7   0.0   NaN  322.0  24.0   NaN  1026.2   NaN   \n",
       "2018-01-04 -16.1 -20.6 -13.3   0.0   NaN    NaN   6.9   NaN  1030.4   NaN   \n",
       "2018-01-05 -15.0 -20.0 -13.3   0.0   NaN   38.0  10.6   NaN  1033.8   NaN   \n",
       "...          ...   ...   ...   ...   ...    ...   ...   ...     ...   ...   \n",
       "2025-04-12  15.0   7.8  21.1   0.0   NaN   40.0   7.8   NaN  1021.7   NaN   \n",
       "2025-04-13  19.9  12.0  27.0   0.0   NaN  174.0  25.4   NaN  1016.5   NaN   \n",
       "2025-04-14  22.0  17.8  26.5   0.0   NaN  211.0  21.0   NaN  1015.7   NaN   \n",
       "2025-04-15  18.2  11.8  22.0   0.0   NaN  356.0  15.4   NaN  1022.1   NaN   \n",
       "2025-04-16  15.0   8.7  20.9   0.0   NaN  140.0   6.3   NaN  1021.4   NaN   \n",
       "\n",
       "                                           name      lat      lon  \n",
       "2018-01-01  Ames / Old Orchard Mobile Home Park  41.9921 -93.6218  \n",
       "2018-01-02  Ames / Old Orchard Mobile Home Park  41.9921 -93.6218  \n",
       "2018-01-03  Ames / Old Orchard Mobile Home Park  41.9921 -93.6218  \n",
       "2018-01-04  Ames / Old Orchard Mobile Home Park  41.9921 -93.6218  \n",
       "2018-01-05  Ames / Old Orchard Mobile Home Park  41.9921 -93.6218  \n",
       "...                                         ...      ...      ...  \n",
       "2025-04-12                Greenville / Brighton  33.4829 -90.9856  \n",
       "2025-04-13                Greenville / Brighton  33.4829 -90.9856  \n",
       "2025-04-14                Greenville / Brighton  33.4829 -90.9856  \n",
       "2025-04-15                Greenville / Brighton  33.4829 -90.9856  \n",
       "2025-04-16                Greenville / Brighton  33.4829 -90.9856  \n",
       "\n",
       "[2546273 rows x 13 columns]"
      ]
     },
     "execution_count": 45,
     "metadata": {},
     "output_type": "execute_result"
    }
   ],
   "source": [
    "daily_weather"
   ]
  }
 ],
 "metadata": {
  "kernelspec": {
   "display_name": "weather_env",
   "language": "python",
   "name": "python3"
  },
  "language_info": {
   "codemirror_mode": {
    "name": "ipython",
    "version": 3
   },
   "file_extension": ".py",
   "mimetype": "text/x-python",
   "name": "python",
   "nbconvert_exporter": "python",
   "pygments_lexer": "ipython3",
   "version": "3.13.2"
  }
 },
 "nbformat": 4,
 "nbformat_minor": 2
}
